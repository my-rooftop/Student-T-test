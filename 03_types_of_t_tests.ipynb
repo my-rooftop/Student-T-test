{
 "cells": [
  {
   "cell_type": "markdown",
   "metadata": {},
   "source": [
    "# ⚔️ t-test 삼총사: 상황별 올바른 선택\n",
    "\n",
    "## 📖 세 명의 영웅\n",
    "\n",
    "Student's t-분포를 발견한 후, 통계학자들은 **서로 다른 상황**에 맞는 세 가지 t-검정을 개발했습니다. 마치 **삼총사**처럼, 각각은 고유한 임무와 특성을 가지고 있습니다! ⚔️✨\n",
    "\n",
    "### 🎭 삼총사를 소개합니다\n",
    "\n",
    "1. **아토스 (One-sample t-test)** 🎯\n",
    "   - **임무**: \"우리 그룹이 특정 기준을 만족하는가?\"\n",
    "   - **특기**: 단일 그룹을 알려진 값과 비교\n",
    "   - **대표 질문**: \"우리 제품의 평균 무게가 500g인가?\"\n",
    "\n",
    "2. **포르토스 (Independent t-test)** ⚖️\n",
    "   - **임무**: \"두 독립적인 그룹이 정말 다른가?\"\n",
    "   - **특기**: 서로 다른 두 그룹 비교\n",
    "   - **대표 질문**: \"남성과 여성의 평균 키가 다른가?\"\n",
    "\n",
    "3. **아라미스 (Paired t-test)** 🔄\n",
    "   - **임무**: \"동일한 대상에서 변화가 있었는가?\"\n",
    "   - **특기**: 전후 비교, 짝지어진 데이터 분석\n",
    "   - **대표 질문**: \"다이어트 전후 체중 차이가 있는가?\"\n",
    "\n",
    "---\n",
    "\n",
    "## 🎯 학습 목표\n",
    "\n",
    "이 노트북에서 우리는:\n",
    "1. **세 가지 t-검정의 차이점**을 명확히 이해합니다\n",
    "2. **언제 어떤 검정을 사용할지** 판단하는 기준을 배웁니다\n",
    "3. **실제 데이터**로 각 검정을 직접 수행해봅니다\n",
    "4. **효과크기(Cohen's d)**와 **검정력** 개념을 학습합니다\n",
    "5. **올바른 해석 방법**을 익힙니다"
   ]
  },
  {
   "cell_type": "code",
   "execution_count": 1,
   "metadata": {},
   "outputs": [
    {
     "name": "stdout",
     "output_type": "stream",
     "text": [
      "✅ 모든 라이브러리가 성공적으로 로드되었습니다!\n",
      "🎯 t-test 삼총사와의 여행을 시작합니다!\n"
     ]
    }
   ],
   "source": [
    "# 📦 필수 라이브러리 임포트\n",
    "\n",
    "# 기본 수치 계산 및 데이터 처리\n",
    "import numpy as np\n",
    "import pandas as pd\n",
    "\n",
    "# 통계 분석\n",
    "import scipy.stats as stats\n",
    "from scipy.stats import ttest_1samp, ttest_ind, ttest_rel, levene\n",
    "from scipy.stats import nct  # Non-central t-distribution for power analysis\n",
    "\n",
    "# 시각화\n",
    "import matplotlib.pyplot as plt\n",
    "import seaborn as sns\n",
    "import plotly.graph_objects as go\n",
    "import plotly.express as px\n",
    "from plotly.subplots import make_subplots\n",
    "\n",
    "# 대화형 위젯\n",
    "from ipywidgets import interact, interactive, fixed, interact_manual\n",
    "import ipywidgets as widgets\n",
    "\n",
    "# 진행률 표시\n",
    "from tqdm import tqdm\n",
    "\n",
    "# 경고 메시지 숨기기\n",
    "import warnings\n",
    "warnings.filterwarnings('ignore')\n",
    "\n",
    "# Plotly 설정 (한글 폰트 지원)\n",
    "import plotly.io as pio\n",
    "pio.templates.default = \"plotly_white\"\n",
    "\n",
    "# 랜덤 시드 설정 (재현 가능한 결과)\n",
    "np.random.seed(42)\n",
    "\n",
    "# Pandas 출력 옵션 설정\n",
    "pd.set_option('display.max_columns', None)\n",
    "pd.set_option('display.width', None)\n",
    "pd.set_option('display.max_colwidth', 50)\n",
    "\n",
    "print(\"✅ 모든 라이브러리가 성공적으로 로드되었습니다!\")\n",
    "print(\"🎯 t-test 삼총사와의 여행을 시작합니다!\")\n"
   ]
  },
  {
   "cell_type": "markdown",
   "metadata": {},
   "source": [
    "## 🎯 1. 아토스 (One-sample t-test): 기준과의 대결\n",
    "\n",
    "### 📋 아토스의 프로필\n",
    "- **정체성**: 단일 표본 t-검정\n",
    "- **사명**: 하나의 그룹이 알려진 기준값과 다른지 확인\n",
    "- **무기**: 표본평균 vs 모집단 평균\n",
    "\n",
    "### 🎪 언제 아토스를 부를까?\n",
    "\n",
    "- 제품 품질 관리: \"평균 무게가 규격에 맞나?\"\n",
    "- 학습 효과 측정: \"우리 반 평균이 전국 평균과 다른가?\"\n",
    "- 의료 기준 검사: \"환자의 수치가 정상 범위인가?\"\n",
    "- 성능 벤치마크: \"우리 알고리즘이 기준 성능에 도달했나?\"\n",
    "\n",
    "### 🔢 아토스의 무술 (수학적 공식)\n",
    "\n",
    "**가설 설정**:\n",
    "- H₀: μ = μ₀ (표본 평균이 기준값과 같다)\n",
    "- H₁: μ ≠ μ₀ (표본 평균이 기준값과 다르다)\n",
    "\n",
    "**검정통계량**:\n",
    "$$t = \\frac{\\bar{X} - \\mu_0}{\\frac{s}{\\sqrt{n}}} \\sim t_{n-1}$$\n",
    "\n",
    "여기서:\n",
    "- $\\bar{X}$: 표본평균\n",
    "- $\\mu_0$: 비교하고자 하는 기준값\n",
    "- $s$: 표본표준편차\n",
    "- $n$: 표본크기"
   ]
  },
  {
   "cell_type": "code",
   "execution_count": 2,
   "metadata": {},
   "outputs": [
    {
     "name": "stdout",
     "output_type": "stream",
     "text": [
      "🔋 사례: 스마트폰 배터리 수명 검사\n",
      "📊 공칭 배터리 수명: 24시간\n",
      "🔬 검사한 배터리 수: 25개\n",
      "📈 측정된 평균 수명: 22.86시간\n",
      "\n",
      "🔍 One-sample t-test 계산 과정 상세 분석\n",
      "============================================================\n",
      "\n",
      "📊 1단계: 데이터 수집 및 기본 통계\n",
      "   • 표본 크기 (n): 25개\n",
      "   • 표본 평균 (X̄): 22.857\n",
      "   • 표본 표준편차 (s): 2.009\n",
      "   • 기준값 (μ₀): 24\n",
      "   • 표준오차 (SE): s/√n = 2.009/√25 = 0.402\n",
      "\n",
      "🎯 2단계: 가설 설정\n",
      "   • 귀무가설 (H₀): μ = 24\n",
      "   • 대립가설 (H₁): μ ≠ 24\n",
      "   • 검정 유형: 양측 검정\n",
      "   • 유의수준 (α): 0.05\n",
      "\n",
      "🔢 3단계: t-통계량 계산\n",
      "   • 공식: t = (X̄ - μ₀) / (s/√n)\n",
      "   • 계산: t = (22.857 - 24) / (2.009/√25)\n",
      "   • 계산: t = -1.143 / 0.402\n",
      "   • t-통계량: -2.846\n",
      "\n",
      "📈 4단계: t-분포 설정\n",
      "   • 자유도 (df): n - 1 = 25 - 1 = 24\n",
      "   • 분포: t₍24₎ 분포를 따름\n",
      "   • 임계값: ±2.064 (양측)\n",
      "\n",
      "📍 5단계: 검정통계량의 위치\n",
      "   • 계산된 t-통계량: -2.846\n",
      "   • |t| = 2.846\n",
      "   • 임계값과 비교: 2.846 > 2.064\n",
      "   • 위치: 기각영역 내부 🚨\n",
      "\n",
      "🎲 6단계: p-값 계산\n",
      "   • p-값 = 2 × P(T > |-2.846| | H₀ 참)\n",
      "   • p-값 = 2 × 0.0045\n",
      "   • p-값: 0.0089\n",
      "   • 의미: H₀가 참일 때 이만큼 극단적인 결과가 나올 확률\n",
      "\n",
      "⚖️ 7단계: 통계적 결정\n",
      "   • 판단 기준: p-값 (0.0089) ≤ α (0.05)\n",
      "   • 결정: 귀무가설 기각 🚨\n",
      "   • 결론: 통계적으로 유의한 차이가 있음\n",
      "\n",
      "💡 8단계: 실용적 해석\n",
      "   • 95% 신뢰구간: [22.03, 23.69]\n",
      "   • Cohen's d: -0.569\n",
      "   • 효과크기 해석: 중간 효과\n",
      "   • 신뢰구간 해석: 기준값 24이 구간에 포함되지 않음 (H₀기각 지지)\n"
     ]
    },
    {
     "data": {
      "application/vnd.plotly.v1+json": {
       "config": {
        "plotlyServerURL": "https://plot.ly"
       },
       "data": [
        {
         "marker": {
          "color": "lightblue"
         },
         "name": "데이터",
         "nbinsx": 20,
         "opacity": 0.7,
         "type": "histogram",
         "x": {
          "bdata": "ZMCIyDs+OEC3jhp+3ug2QP9iQrlljzhAidEJGftlOkB5KYmzUbU2QAEm+PVTtTZAB9yuTy+EOkD5mnTdxc84QGYChoHPNjZA/Cr+WeFWOEDmqd0PETo2QIdy/NzSODZAFwIeZ0e1N0DyiL3bni4zQBFyLVnikzNACTiaCuoENkDo9pi1sxI1QACKfa0j3DdAV61/1wtLNUDOw0MO8js0QFcTwP0hRzpAsermmdK5NkBXp0fPgFc3QNQSQ2BBNTRA/K1uM4oONkA=",
          "dtype": "f8"
         },
         "xaxis": "x",
         "yaxis": "y"
        },
        {
         "line": {
          "color": "blue",
          "width": 2
         },
         "mode": "lines",
         "name": "t-분포 (df=24)",
         "type": "scatter",
         "x": {
          "bdata": "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",
          "dtype": "f8"
         },
         "xaxis": "x2",
         "y": {
          "bdata": "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",
          "dtype": "f8"
         },
         "yaxis": "y2"
        }
       ],
       "layout": {
        "annotations": [
         {
          "font": {
           "size": 16
          },
          "showarrow": false,
          "text": "1. 데이터 분포와 기준값",
          "x": 0.225,
          "xanchor": "center",
          "xref": "paper",
          "y": 1,
          "yanchor": "bottom",
          "yref": "paper"
         },
         {
          "font": {
           "size": 16
          },
          "showarrow": false,
          "text": "2. t-분포와 검정통계량",
          "x": 0.775,
          "xanchor": "center",
          "xref": "paper",
          "y": 1,
          "yanchor": "bottom",
          "yref": "paper"
         },
         {
          "showarrow": false,
          "text": "표본평균: 22.86",
          "x": 22.85663307681801,
          "xanchor": "left",
          "xref": "x",
          "y": 1,
          "yanchor": "top",
          "yref": "y domain"
         },
         {
          "showarrow": false,
          "text": "기준값: 24.00",
          "x": 24,
          "xanchor": "left",
          "xref": "x",
          "y": 1,
          "yanchor": "top",
          "yref": "y domain"
         },
         {
          "showarrow": false,
          "text": "t = -2.846",
          "x": -2.8459500346889,
          "xanchor": "left",
          "xref": "x2",
          "y": 1,
          "yanchor": "top",
          "yref": "y2 domain"
         }
        ],
        "height": 500,
        "shapes": [
         {
          "line": {
           "color": "blue",
           "dash": "solid"
          },
          "type": "line",
          "x0": 22.85663307681801,
          "x1": 22.85663307681801,
          "xref": "x",
          "y0": 0,
          "y1": 1,
          "yref": "y domain"
         },
         {
          "line": {
           "color": "red",
           "dash": "dash"
          },
          "type": "line",
          "x0": 24,
          "x1": 24,
          "xref": "x",
          "y0": 0,
          "y1": 1,
          "yref": "y domain"
         },
         {
          "line": {
           "color": "red",
           "dash": "solid"
          },
          "type": "line",
          "x0": -2.8459500346889,
          "x1": -2.8459500346889,
          "xref": "x2",
          "y0": 0,
          "y1": 1,
          "yref": "y2 domain"
         },
         {
          "line": {
           "color": "orange",
           "dash": "dash"
          },
          "type": "line",
          "x0": -2.0638985616280205,
          "x1": -2.0638985616280205,
          "xref": "x2",
          "y0": 0,
          "y1": 1,
          "yref": "y2 domain"
         },
         {
          "line": {
           "color": "orange",
           "dash": "dash"
          },
          "type": "line",
          "x0": 2.0638985616280205,
          "x1": 2.0638985616280205,
          "xref": "x2",
          "y0": 0,
          "y1": 1,
          "yref": "y2 domain"
         }
        ],
        "template": {
         "data": {
          "bar": [
           {
            "error_x": {
             "color": "#2a3f5f"
            },
            "error_y": {
             "color": "#2a3f5f"
            },
            "marker": {
             "line": {
              "color": "white",
              "width": 0.5
             },
             "pattern": {
              "fillmode": "overlay",
              "size": 10,
              "solidity": 0.2
             }
            },
            "type": "bar"
           }
          ],
          "barpolar": [
           {
            "marker": {
             "line": {
              "color": "white",
              "width": 0.5
             },
             "pattern": {
              "fillmode": "overlay",
              "size": 10,
              "solidity": 0.2
             }
            },
            "type": "barpolar"
           }
          ],
          "carpet": [
           {
            "aaxis": {
             "endlinecolor": "#2a3f5f",
             "gridcolor": "#C8D4E3",
             "linecolor": "#C8D4E3",
             "minorgridcolor": "#C8D4E3",
             "startlinecolor": "#2a3f5f"
            },
            "baxis": {
             "endlinecolor": "#2a3f5f",
             "gridcolor": "#C8D4E3",
             "linecolor": "#C8D4E3",
             "minorgridcolor": "#C8D4E3",
             "startlinecolor": "#2a3f5f"
            },
            "type": "carpet"
           }
          ],
          "choropleth": [
           {
            "colorbar": {
             "outlinewidth": 0,
             "ticks": ""
            },
            "type": "choropleth"
           }
          ],
          "contour": [
           {
            "colorbar": {
             "outlinewidth": 0,
             "ticks": ""
            },
            "colorscale": [
             [
              0,
              "#0d0887"
             ],
             [
              0.1111111111111111,
              "#46039f"
             ],
             [
              0.2222222222222222,
              "#7201a8"
             ],
             [
              0.3333333333333333,
              "#9c179e"
             ],
             [
              0.4444444444444444,
              "#bd3786"
             ],
             [
              0.5555555555555556,
              "#d8576b"
             ],
             [
              0.6666666666666666,
              "#ed7953"
             ],
             [
              0.7777777777777778,
              "#fb9f3a"
             ],
             [
              0.8888888888888888,
              "#fdca26"
             ],
             [
              1,
              "#f0f921"
             ]
            ],
            "type": "contour"
           }
          ],
          "contourcarpet": [
           {
            "colorbar": {
             "outlinewidth": 0,
             "ticks": ""
            },
            "type": "contourcarpet"
           }
          ],
          "heatmap": [
           {
            "colorbar": {
             "outlinewidth": 0,
             "ticks": ""
            },
            "colorscale": [
             [
              0,
              "#0d0887"
             ],
             [
              0.1111111111111111,
              "#46039f"
             ],
             [
              0.2222222222222222,
              "#7201a8"
             ],
             [
              0.3333333333333333,
              "#9c179e"
             ],
             [
              0.4444444444444444,
              "#bd3786"
             ],
             [
              0.5555555555555556,
              "#d8576b"
             ],
             [
              0.6666666666666666,
              "#ed7953"
             ],
             [
              0.7777777777777778,
              "#fb9f3a"
             ],
             [
              0.8888888888888888,
              "#fdca26"
             ],
             [
              1,
              "#f0f921"
             ]
            ],
            "type": "heatmap"
           }
          ],
          "histogram": [
           {
            "marker": {
             "pattern": {
              "fillmode": "overlay",
              "size": 10,
              "solidity": 0.2
             }
            },
            "type": "histogram"
           }
          ],
          "histogram2d": [
           {
            "colorbar": {
             "outlinewidth": 0,
             "ticks": ""
            },
            "colorscale": [
             [
              0,
              "#0d0887"
             ],
             [
              0.1111111111111111,
              "#46039f"
             ],
             [
              0.2222222222222222,
              "#7201a8"
             ],
             [
              0.3333333333333333,
              "#9c179e"
             ],
             [
              0.4444444444444444,
              "#bd3786"
             ],
             [
              0.5555555555555556,
              "#d8576b"
             ],
             [
              0.6666666666666666,
              "#ed7953"
             ],
             [
              0.7777777777777778,
              "#fb9f3a"
             ],
             [
              0.8888888888888888,
              "#fdca26"
             ],
             [
              1,
              "#f0f921"
             ]
            ],
            "type": "histogram2d"
           }
          ],
          "histogram2dcontour": [
           {
            "colorbar": {
             "outlinewidth": 0,
             "ticks": ""
            },
            "colorscale": [
             [
              0,
              "#0d0887"
             ],
             [
              0.1111111111111111,
              "#46039f"
             ],
             [
              0.2222222222222222,
              "#7201a8"
             ],
             [
              0.3333333333333333,
              "#9c179e"
             ],
             [
              0.4444444444444444,
              "#bd3786"
             ],
             [
              0.5555555555555556,
              "#d8576b"
             ],
             [
              0.6666666666666666,
              "#ed7953"
             ],
             [
              0.7777777777777778,
              "#fb9f3a"
             ],
             [
              0.8888888888888888,
              "#fdca26"
             ],
             [
              1,
              "#f0f921"
             ]
            ],
            "type": "histogram2dcontour"
           }
          ],
          "mesh3d": [
           {
            "colorbar": {
             "outlinewidth": 0,
             "ticks": ""
            },
            "type": "mesh3d"
           }
          ],
          "parcoords": [
           {
            "line": {
             "colorbar": {
              "outlinewidth": 0,
              "ticks": ""
             }
            },
            "type": "parcoords"
           }
          ],
          "pie": [
           {
            "automargin": true,
            "type": "pie"
           }
          ],
          "scatter": [
           {
            "fillpattern": {
             "fillmode": "overlay",
             "size": 10,
             "solidity": 0.2
            },
            "type": "scatter"
           }
          ],
          "scatter3d": [
           {
            "line": {
             "colorbar": {
              "outlinewidth": 0,
              "ticks": ""
             }
            },
            "marker": {
             "colorbar": {
              "outlinewidth": 0,
              "ticks": ""
             }
            },
            "type": "scatter3d"
           }
          ],
          "scattercarpet": [
           {
            "marker": {
             "colorbar": {
              "outlinewidth": 0,
              "ticks": ""
             }
            },
            "type": "scattercarpet"
           }
          ],
          "scattergeo": [
           {
            "marker": {
             "colorbar": {
              "outlinewidth": 0,
              "ticks": ""
             }
            },
            "type": "scattergeo"
           }
          ],
          "scattergl": [
           {
            "marker": {
             "colorbar": {
              "outlinewidth": 0,
              "ticks": ""
             }
            },
            "type": "scattergl"
           }
          ],
          "scattermap": [
           {
            "marker": {
             "colorbar": {
              "outlinewidth": 0,
              "ticks": ""
             }
            },
            "type": "scattermap"
           }
          ],
          "scattermapbox": [
           {
            "marker": {
             "colorbar": {
              "outlinewidth": 0,
              "ticks": ""
             }
            },
            "type": "scattermapbox"
           }
          ],
          "scatterpolar": [
           {
            "marker": {
             "colorbar": {
              "outlinewidth": 0,
              "ticks": ""
             }
            },
            "type": "scatterpolar"
           }
          ],
          "scatterpolargl": [
           {
            "marker": {
             "colorbar": {
              "outlinewidth": 0,
              "ticks": ""
             }
            },
            "type": "scatterpolargl"
           }
          ],
          "scatterternary": [
           {
            "marker": {
             "colorbar": {
              "outlinewidth": 0,
              "ticks": ""
             }
            },
            "type": "scatterternary"
           }
          ],
          "surface": [
           {
            "colorbar": {
             "outlinewidth": 0,
             "ticks": ""
            },
            "colorscale": [
             [
              0,
              "#0d0887"
             ],
             [
              0.1111111111111111,
              "#46039f"
             ],
             [
              0.2222222222222222,
              "#7201a8"
             ],
             [
              0.3333333333333333,
              "#9c179e"
             ],
             [
              0.4444444444444444,
              "#bd3786"
             ],
             [
              0.5555555555555556,
              "#d8576b"
             ],
             [
              0.6666666666666666,
              "#ed7953"
             ],
             [
              0.7777777777777778,
              "#fb9f3a"
             ],
             [
              0.8888888888888888,
              "#fdca26"
             ],
             [
              1,
              "#f0f921"
             ]
            ],
            "type": "surface"
           }
          ],
          "table": [
           {
            "cells": {
             "fill": {
              "color": "#EBF0F8"
             },
             "line": {
              "color": "white"
             }
            },
            "header": {
             "fill": {
              "color": "#C8D4E3"
             },
             "line": {
              "color": "white"
             }
            },
            "type": "table"
           }
          ]
         },
         "layout": {
          "annotationdefaults": {
           "arrowcolor": "#2a3f5f",
           "arrowhead": 0,
           "arrowwidth": 1
          },
          "autotypenumbers": "strict",
          "coloraxis": {
           "colorbar": {
            "outlinewidth": 0,
            "ticks": ""
           }
          },
          "colorscale": {
           "diverging": [
            [
             0,
             "#8e0152"
            ],
            [
             0.1,
             "#c51b7d"
            ],
            [
             0.2,
             "#de77ae"
            ],
            [
             0.3,
             "#f1b6da"
            ],
            [
             0.4,
             "#fde0ef"
            ],
            [
             0.5,
             "#f7f7f7"
            ],
            [
             0.6,
             "#e6f5d0"
            ],
            [
             0.7,
             "#b8e186"
            ],
            [
             0.8,
             "#7fbc41"
            ],
            [
             0.9,
             "#4d9221"
            ],
            [
             1,
             "#276419"
            ]
           ],
           "sequential": [
            [
             0,
             "#0d0887"
            ],
            [
             0.1111111111111111,
             "#46039f"
            ],
            [
             0.2222222222222222,
             "#7201a8"
            ],
            [
             0.3333333333333333,
             "#9c179e"
            ],
            [
             0.4444444444444444,
             "#bd3786"
            ],
            [
             0.5555555555555556,
             "#d8576b"
            ],
            [
             0.6666666666666666,
             "#ed7953"
            ],
            [
             0.7777777777777778,
             "#fb9f3a"
            ],
            [
             0.8888888888888888,
             "#fdca26"
            ],
            [
             1,
             "#f0f921"
            ]
           ],
           "sequentialminus": [
            [
             0,
             "#0d0887"
            ],
            [
             0.1111111111111111,
             "#46039f"
            ],
            [
             0.2222222222222222,
             "#7201a8"
            ],
            [
             0.3333333333333333,
             "#9c179e"
            ],
            [
             0.4444444444444444,
             "#bd3786"
            ],
            [
             0.5555555555555556,
             "#d8576b"
            ],
            [
             0.6666666666666666,
             "#ed7953"
            ],
            [
             0.7777777777777778,
             "#fb9f3a"
            ],
            [
             0.8888888888888888,
             "#fdca26"
            ],
            [
             1,
             "#f0f921"
            ]
           ]
          },
          "colorway": [
           "#636efa",
           "#EF553B",
           "#00cc96",
           "#ab63fa",
           "#FFA15A",
           "#19d3f3",
           "#FF6692",
           "#B6E880",
           "#FF97FF",
           "#FECB52"
          ],
          "font": {
           "color": "#2a3f5f"
          },
          "geo": {
           "bgcolor": "white",
           "lakecolor": "white",
           "landcolor": "white",
           "showlakes": true,
           "showland": true,
           "subunitcolor": "#C8D4E3"
          },
          "hoverlabel": {
           "align": "left"
          },
          "hovermode": "closest",
          "mapbox": {
           "style": "light"
          },
          "paper_bgcolor": "white",
          "plot_bgcolor": "white",
          "polar": {
           "angularaxis": {
            "gridcolor": "#EBF0F8",
            "linecolor": "#EBF0F8",
            "ticks": ""
           },
           "bgcolor": "white",
           "radialaxis": {
            "gridcolor": "#EBF0F8",
            "linecolor": "#EBF0F8",
            "ticks": ""
           }
          },
          "scene": {
           "xaxis": {
            "backgroundcolor": "white",
            "gridcolor": "#DFE8F3",
            "gridwidth": 2,
            "linecolor": "#EBF0F8",
            "showbackground": true,
            "ticks": "",
            "zerolinecolor": "#EBF0F8"
           },
           "yaxis": {
            "backgroundcolor": "white",
            "gridcolor": "#DFE8F3",
            "gridwidth": 2,
            "linecolor": "#EBF0F8",
            "showbackground": true,
            "ticks": "",
            "zerolinecolor": "#EBF0F8"
           },
           "zaxis": {
            "backgroundcolor": "white",
            "gridcolor": "#DFE8F3",
            "gridwidth": 2,
            "linecolor": "#EBF0F8",
            "showbackground": true,
            "ticks": "",
            "zerolinecolor": "#EBF0F8"
           }
          },
          "shapedefaults": {
           "line": {
            "color": "#2a3f5f"
           }
          },
          "ternary": {
           "aaxis": {
            "gridcolor": "#DFE8F3",
            "linecolor": "#A2B1C6",
            "ticks": ""
           },
           "baxis": {
            "gridcolor": "#DFE8F3",
            "linecolor": "#A2B1C6",
            "ticks": ""
           },
           "bgcolor": "white",
           "caxis": {
            "gridcolor": "#DFE8F3",
            "linecolor": "#A2B1C6",
            "ticks": ""
           }
          },
          "title": {
           "x": 0.05
          },
          "xaxis": {
           "automargin": true,
           "gridcolor": "#EBF0F8",
           "linecolor": "#EBF0F8",
           "ticks": "",
           "title": {
            "standoff": 15
           },
           "zerolinecolor": "#EBF0F8",
           "zerolinewidth": 2
          },
          "yaxis": {
           "automargin": true,
           "gridcolor": "#EBF0F8",
           "linecolor": "#EBF0F8",
           "ticks": "",
           "title": {
            "standoff": 15
           },
           "zerolinecolor": "#EBF0F8",
           "zerolinewidth": 2
          }
         }
        },
        "title": {
         "text": "🎯 아토스의 결과: 귀무가설 기각 (p = 0.0089)"
        },
        "xaxis": {
         "anchor": "y",
         "domain": [
          0,
          0.45
         ]
        },
        "xaxis2": {
         "anchor": "y2",
         "domain": [
          0.55,
          1
         ]
        },
        "yaxis": {
         "anchor": "x",
         "domain": [
          0,
          1
         ]
        },
        "yaxis2": {
         "anchor": "x2",
         "domain": [
          0,
          1
         ]
        }
       }
      }
     },
     "metadata": {},
     "output_type": "display_data"
    },
    {
     "name": "stdout",
     "output_type": "stream",
     "text": [
      "\n",
      "🎯 아토스의 최종 보고서:\n",
      "🚨 결론: 배터리 수명이 공칭값보다 유의하게 다릅니다!\n",
      "💡 해석: 실제 배터리 수명이 24시간과 다를 가능성이 높습니다.\n"
     ]
    }
   ],
   "source": [
    "  # 🎯 아토스의 모험: One-sample t-test 시뮬레이션 (계산 과정 포함)\n",
    "  class OnesampleTTestHero:\n",
    "      def __init__(self, name=\"아토스\"):\n",
    "          self.name = name\n",
    "          self.mission = \"단일 그룹을 기준값과 비교하기\"\n",
    "\n",
    "      def perform_test(self, data, mu0, alpha=0.05, alternative='two-sided', verbose=True):\n",
    "          \"\"\"One-sample t-test 수행\"\"\"\n",
    "\n",
    "          if verbose:\n",
    "              print(\"🔍 One-sample t-test 계산 과정 상세 분석\")\n",
    "              print(\"=\" * 60)\n",
    "\n",
    "          # 1단계: 기본 통계 계산\n",
    "          n = len(data)\n",
    "          sample_mean = np.mean(data)\n",
    "          sample_std = np.std(data, ddof=1)\n",
    "\n",
    "          if verbose:\n",
    "              print(f\"\\n📊 1단계: 데이터 수집 및 기본 통계\")\n",
    "              print(f\"   • 표본 크기 (n): {n}개\")\n",
    "              print(f\"   • 표본 평균 (X̄): {sample_mean:.3f}\")\n",
    "              print(f\"   • 표본 표준편차 (s): {sample_std:.3f}\")\n",
    "              print(f\"   • 기준값 (μ₀): {mu0}\")\n",
    "              print(f\"   • 표준오차 (SE): s/√n = {sample_std:.3f}/√{n} = {sample_std / np.sqrt(n):.3f}\")\n",
    "\n",
    "          # 2단계: 가설 설정\n",
    "          if verbose:\n",
    "              print(f\"\\n🎯 2단계: 가설 설정\")\n",
    "              if alternative == 'two-sided':\n",
    "                  print(f\"   • 귀무가설 (H₀): μ = {mu0}\")\n",
    "                  print(f\"   • 대립가설 (H₁): μ ≠ {mu0}\")\n",
    "                  print(f\"   • 검정 유형: 양측 검정\")\n",
    "              elif alternative == 'greater':\n",
    "                  print(f\"   • 귀무가설 (H₀): μ ≤ {mu0}\")\n",
    "                  print(f\"   • 대립가설 (H₁): μ > {mu0}\")\n",
    "                  print(f\"   • 검정 유형: 단측 검정 (큰 쪽)\")\n",
    "              else:\n",
    "                  print(f\"   • 귀무가설 (H₀): μ ≥ {mu0}\")\n",
    "                  print(f\"   • 대립가설 (H₁): μ < {mu0}\")\n",
    "                  print(f\"   • 검정 유형: 단측 검정 (작은 쪽)\")\n",
    "              print(f\"   • 유의수준 (α): {alpha}\")\n",
    "\n",
    "          # 3단계: t-통계량 계산\n",
    "          t_statistic = (sample_mean - mu0) / (sample_std / np.sqrt(n))\n",
    "\n",
    "          if verbose:\n",
    "              print(f\"\\n🔢 3단계: t-통계량 계산\")\n",
    "              print(f\"   • 공식: t = (X̄ - μ₀) / (s/√n)\")\n",
    "              print(f\"   • 계산: t = ({sample_mean:.3f} - {mu0}) / ({sample_std:.3f}/√{n})\")\n",
    "              print(f\"   • 계산: t = {sample_mean - mu0:.3f} / {sample_std / np.sqrt(n):.3f}\")\n",
    "              print(f\"   • t-통계량: {t_statistic:.3f}\")\n",
    "\n",
    "          # 4단계: 자유도 및 t-분포\n",
    "          df = n - 1\n",
    "\n",
    "          if verbose:\n",
    "              print(f\"\\n📈 4단계: t-분포 설정\")\n",
    "              print(f\"   • 자유도 (df): n - 1 = {n} - 1 = {df}\")\n",
    "              print(f\"   • 분포: t₍{df}₎ 분포를 따름\")\n",
    "\n",
    "          # 5단계: 임계값 및 p-값 계산\n",
    "          if alternative == 'two-sided':\n",
    "              p_value = 2 * (1 - stats.t.cdf(abs(t_statistic), df))\n",
    "              critical_t = stats.t.ppf(1 - alpha/2, df)\n",
    "              reject_condition = abs(t_statistic) > critical_t\n",
    "              if verbose:\n",
    "                  print(f\"   • 임계값: ±{critical_t:.3f} (양측)\")\n",
    "          elif alternative == 'greater':\n",
    "              p_value = 1 - stats.t.cdf(t_statistic, df)\n",
    "              critical_t = stats.t.ppf(1 - alpha, df)\n",
    "              reject_condition = t_statistic > critical_t\n",
    "              if verbose:\n",
    "                  print(f\"   • 임계값: {critical_t:.3f} (단측, 큰 쪽)\")\n",
    "          else:  # 'less'\n",
    "              p_value = stats.t.cdf(t_statistic, df)\n",
    "              critical_t = stats.t.ppf(alpha, df)\n",
    "              reject_condition = t_statistic < critical_t\n",
    "              if verbose:\n",
    "                  print(f\"   • 임계값: {critical_t:.3f} (단측, 작은 쪽)\")\n",
    "\n",
    "          # 6단계: 검정통계량 위치 분석\n",
    "          if verbose:\n",
    "              print(f\"\\n📍 5단계: 검정통계량의 위치\")\n",
    "              print(f\"   • 계산된 t-통계량: {t_statistic:.3f}\")\n",
    "              if alternative == 'two-sided':\n",
    "                  print(f\"   • |t| = {abs(t_statistic):.3f}\")\n",
    "                  print(f\"   • 임계값과 비교: {abs(t_statistic):.3f} {'>' if reject_condition else '≤'} {critical_t:.3f}\")\n",
    "              else:\n",
    "                  print(f\"   • 임계값과 비교: {t_statistic:.3f} {'>' if alternative == 'greater' else '<'} {critical_t:.3f}\")\n",
    "\n",
    "              if reject_condition:\n",
    "                  print(f\"   • 위치: 기각영역 내부 🚨\")\n",
    "              else:\n",
    "                  print(f\"   • 위치: 기각영역 외부 (채택영역) ✅\")\n",
    "\n",
    "          # 7단계: p-값 계산 및 해석\n",
    "          if verbose:\n",
    "              print(f\"\\n🎲 6단계: p-값 계산\")\n",
    "              if alternative == 'two-sided':\n",
    "                  print(f\"   • p-값 = 2 × P(T > |{t_statistic:.3f}| | H₀ 참)\")\n",
    "                  print(f\"   • p-값 = 2 × {(1 - stats.t.cdf(abs(t_statistic), df)):.4f}\")\n",
    "              elif alternative == 'greater':\n",
    "                  print(f\"   • p-값 = P(T > {t_statistic:.3f} | H₀ 참)\")\n",
    "              else:\n",
    "                  print(f\"   • p-값 = P(T < {t_statistic:.3f} | H₀ 참)\")\n",
    "              print(f\"   • p-값: {p_value:.4f}\")\n",
    "              print(f\"   • 의미: H₀가 참일 때 이만큼 극단적인 결과가 나올 확률\")\n",
    "\n",
    "          # 신뢰구간 계산\n",
    "          margin_error = stats.t.ppf(1 - alpha/2, df) * (sample_std / np.sqrt(n))\n",
    "          ci_lower = sample_mean - margin_error\n",
    "          ci_upper = sample_mean + margin_error\n",
    "\n",
    "          # 효과크기 계산\n",
    "          cohens_d = (sample_mean - mu0) / sample_std\n",
    "\n",
    "          # 8단계: 통계적 결정\n",
    "          if verbose:\n",
    "              print(f\"\\n⚖️ 7단계: 통계적 결정\")\n",
    "              print(f\"   • 판단 기준: p-값 ({p_value:.4f}) {'≤' if p_value <= alpha else '>'} α ({alpha})\")\n",
    "              if reject_condition:\n",
    "                  print(f\"   • 결정: 귀무가설 기각 🚨\")\n",
    "                  print(f\"   • 결론: 통계적으로 유의한 차이가 있음\")\n",
    "              else:\n",
    "                  print(f\"   • 결정: 귀무가설 채택 ✅\")\n",
    "                  print(f\"   • 결론: 통계적으로 유의한 차이를 발견하지 못함\")\n",
    "\n",
    "          # 9단계: 실용적 해석\n",
    "          if verbose:\n",
    "              print(f\"\\n💡 8단계: 실용적 해석\")\n",
    "              print(f\"   • 95% 신뢰구간: [{ci_lower:.2f}, {ci_upper:.2f}]\")\n",
    "              print(f\"   • Cohen's d: {cohens_d:.3f}\")\n",
    "\n",
    "              # 효과크기 해석\n",
    "              abs_d = abs(cohens_d)\n",
    "              if abs_d < 0.2:\n",
    "                  effect_interpretation = \"매우 작은 효과\"\n",
    "              elif abs_d < 0.5:\n",
    "                  effect_interpretation = \"작은 효과\"\n",
    "              elif abs_d < 0.8:\n",
    "                  effect_interpretation = \"중간 효과\"\n",
    "              else:\n",
    "                  effect_interpretation = \"큰 효과\"\n",
    "\n",
    "              print(f\"   • 효과크기 해석: {effect_interpretation}\")\n",
    "\n",
    "              # 신뢰구간 해석\n",
    "              if ci_lower <= mu0 <= ci_upper:\n",
    "                  print(f\"   • 신뢰구간 해석: 기준값 {mu0}이 구간에 포함됨 (H₀ 지지)\")\n",
    "              else:\n",
    "                  print(f\"   • 신뢰구간 해석: 기준값 {mu0}이 구간에 포함되지 않음 (H₀기각 지지)\")\n",
    "\n",
    "          return {\n",
    "              'sample_size': n,\n",
    "              'sample_mean': sample_mean,\n",
    "              'sample_std': sample_std,\n",
    "              'mu0': mu0,\n",
    "              't_statistic': t_statistic,\n",
    "              'df': df,\n",
    "              'p_value': p_value,\n",
    "              'critical_t': critical_t,\n",
    "              'reject_null': reject_condition,\n",
    "              'ci_lower': ci_lower,\n",
    "              'ci_upper': ci_upper,\n",
    "              'cohens_d': cohens_d,\n",
    "              'alpha': alpha,\n",
    "              'alternative': alternative\n",
    "          }\n",
    "\n",
    "      def visualize_test(self, result, data):\n",
    "          \"\"\"One-sample t-test 결과 시각화\"\"\"\n",
    "\n",
    "          fig = make_subplots(\n",
    "              rows=1, cols=2,\n",
    "              subplot_titles=[\n",
    "                  '1. 데이터 분포와 기준값',\n",
    "                  '2. t-분포와 검정통계량'\n",
    "              ],\n",
    "              specs=[\n",
    "                  [{'type': 'histogram'}, {'type': 'scatter'}]\n",
    "              ]\n",
    "          )\n",
    "\n",
    "          # 1. 데이터 분포\n",
    "          fig.add_trace(\n",
    "              go.Histogram(\n",
    "                  x=data,\n",
    "                  nbinsx=20,\n",
    "                  name='데이터',\n",
    "                  marker_color='lightblue',\n",
    "                  opacity=0.7\n",
    "              ),\n",
    "              row=1, col=1\n",
    "          )\n",
    "\n",
    "          # 표본평균 선\n",
    "          fig.add_vline(\n",
    "              x=result['sample_mean'],\n",
    "              line_dash=\"solid\",\n",
    "              line_color=\"blue\",\n",
    "              annotation_text=f\"표본평균: {result['sample_mean']:.2f}\",\n",
    "              row=1, col=1\n",
    "          )\n",
    "\n",
    "          # 기준값 선\n",
    "          fig.add_vline(\n",
    "              x=result['mu0'],\n",
    "              line_dash=\"dash\",\n",
    "              line_color=\"red\",\n",
    "              annotation_text=f\"기준값: {result['mu0']:.2f}\",\n",
    "              row=1, col=1\n",
    "          )\n",
    "\n",
    "          # 2. t-분포와 검정통계량\n",
    "          t_range = np.linspace(-4, 4, 200)\n",
    "          t_pdf = stats.t.pdf(t_range, result['df'])\n",
    "\n",
    "          fig.add_trace(\n",
    "              go.Scatter(\n",
    "                  x=t_range,\n",
    "                  y=t_pdf,\n",
    "                  mode='lines',\n",
    "                  name=f't-분포 (df={result[\"df\"]})',\n",
    "                  line=dict(color='blue', width=2)\n",
    "              ),\n",
    "              row=1, col=2\n",
    "          )\n",
    "\n",
    "          # 검정통계량 위치\n",
    "          fig.add_vline(\n",
    "              x=result['t_statistic'],\n",
    "              line_dash=\"solid\",\n",
    "              line_color=\"red\" if result['reject_null'] else \"green\",\n",
    "              annotation_text=f\"t = {result['t_statistic']:.3f}\",\n",
    "              row=1, col=2\n",
    "          )\n",
    "\n",
    "          # 임계값 표시\n",
    "          if result['alternative'] == 'two-sided':\n",
    "              for crit in [-result['critical_t'], result['critical_t']]:\n",
    "                  fig.add_vline(\n",
    "                      x=crit,\n",
    "                      line_dash=\"dash\",\n",
    "                      line_color=\"orange\",\n",
    "                      row=1, col=2\n",
    "                  )\n",
    "\n",
    "          # 레이아웃 업데이트\n",
    "          decision = \"귀무가설 기각\" if result['reject_null'] else \"귀무가설 채택\"\n",
    "          fig.update_layout(\n",
    "              title=f'🎯 {self.name}의 결과: {decision} (p = {result[\"p_value\"]:.4f})',\n",
    "              height=500\n",
    "          )\n",
    "\n",
    "          return fig\n",
    "\n",
    "  # 아토스 인스턴스 생성\n",
    "  athos = OnesampleTTestHero(\"아토스\")\n",
    "\n",
    "  # 예제 데이터: 스마트폰 배터리 수명 (시간)\n",
    "  # 제조사 공칭 수명: 24시간\n",
    "  np.random.seed(42)\n",
    "  battery_life = np.random.normal(23.2, 2.1, 25)  # 실제로는 조금 짧음\n",
    "\n",
    "  print(\"🔋 사례: 스마트폰 배터리 수명 검사\")\n",
    "  print(f\"📊 공칭 배터리 수명: 24시간\")\n",
    "  print(f\"🔬 검사한 배터리 수: {len(battery_life)}개\")\n",
    "  print(f\"📈 측정된 평균 수명: {np.mean(battery_life):.2f}시간\")\n",
    "  print(\"\")\n",
    "\n",
    "  # 아토스의 검정 수행 (계산 과정 출력)\n",
    "  athos_result = athos.perform_test(battery_life, mu0=24, alpha=0.05, verbose=True)\n",
    "\n",
    "  # 결과 시각화\n",
    "  fig_athos = athos.visualize_test(athos_result, battery_life)\n",
    "  fig_athos.show()\n",
    "\n",
    "  # 최종 요약\n",
    "  print(f\"\\n🎯 {athos.name}의 최종 보고서:\")\n",
    "  if athos_result['reject_null']:\n",
    "      print(\"🚨 결론: 배터리 수명이 공칭값보다 유의하게 다릅니다!\")\n",
    "      print(\"💡 해석: 실제 배터리 수명이 24시간과 다를 가능성이 높습니다.\")\n",
    "  else:\n",
    "      print(\"✅ 결론: 배터리 수명이 공칭값과 유의한 차이가 없습니다.\")\n",
    "      print(\"💡 해석: 실제 배터리 수명이 24시간과 크게 다르지 않습니다.\")\n",
    "\n"
   ]
  },
  {
   "cell_type": "markdown",
   "metadata": {},
   "source": [
    "## ⚖️ 2. 포르토스 (Independent t-test): 두 군단의 대결\n",
    "\n",
    "### 📋 포르토스의 프로필\n",
    "- **정체성**: 독립표본 t-검정\n",
    "- **사명**: 서로 독립적인 두 그룹의 평균이 다른지 확인\n",
    "- **무기**: 그룹 A 평균 vs 그룹 B 평균\n",
    "\n",
    "### 🎪 언제 포르토스를 부를까?\n",
    "\n",
    "- A/B 테스트: \"신버전이 구버전보다 나은가?\"\n",
    "- 성별 차이 연구: \"남성과 여성의 평균 임금이 다른가?\"\n",
    "- 치료법 비교: \"약물 A가 약물 B보다 효과적인가?\"\n",
    "- 지역별 비교: \"서울과 부산의 집값이 다른가?\"\n",
    "\n",
    "### 🔢 포르토스의 무술 (수학적 공식)\n",
    "\n",
    "**가설 설정**:\n",
    "- H₀: μ₁ = μ₂ (두 그룹의 평균이 같다)\n",
    "- H₁: μ₁ ≠ μ₂ (두 그룹의 평균이 다르다)\n",
    "\n",
    "### 📐 Student's t-test: 이상적인 세계 (등분산 가정)\n",
    "\n",
    "초기에 개발된 **Student's t-test**는 두 그룹의 분산이 **같다**고 가정합니다:\n",
    "\n",
    "**🎯 등분산 가정의 의미**:\n",
    "- **모집단 수준**: σ₁² = σ₂² (두 모집단의 분산이 동일)\n",
    "- **실질적 의미**: 두 그룹의 데이터 산포도가 본질적으로 같음\n",
    "- **예시**: 남성과 여성의 키 차이를 비교할 때\n",
    "  - 평균은 다를 수 있지만 (μ₁ ≠ μ₂)\n",
    "  - 키의 변동성(분산)은 비슷하다고 가정 (σ₁² ≈ σ₂²)\n",
    "\n",
    "**검정통계량 (등분산 가정 시)**:\n",
    "$$t = \\frac{\\bar{X_1} - \\bar{X_2}}{s_p \\sqrt{\\frac{1}{n_1} + \\frac{1}{n_2}}} \\sim t_{n_1+n_2-2}$$\n",
    "\n",
    "**🧮 합동분산(pooled variance) 계산**:\n",
    "$$s_p^2 = \\frac{(n_1-1)s_1^2 + (n_2-1)s_2^2}{n_1+n_2-2}$$\n",
    "\n",
    "여기서:\n",
    "- **s₁, s₂**: 각 **표본**의 표본표준편차 (sample standard deviation)\n",
    "- **s₁² = Σ(x₁ᵢ - x̄₁)²/(n₁-1)**: 그룹1의 표본분산\n",
    "- **s₂² = Σ(x₂ᵢ - x̄₂)²/(n₂-1)**: 그룹2의 표본분산\n",
    "- **sp**: 두 표본 정보를 결합한 **공통 모집단 분산의 추정치**\n",
    "\n",
    "**💡 합동분산의 직관**:\n",
    "- 두 모집단의 분산이 같다면, 두 표본의 분산 정보를 **가중평균**하여 더 정확한 추정치를 얻음\n",
    "- 표본크기가 클수록 더 큰 가중치를 받음 (더 신뢰할 만한 정보)\n",
    "- 결과: 개별 표본분산보다 더 안정적인 분산 추정\n",
    "\n",
    "**장점**: \n",
    "- 수학적으로 우아하고 간단\n",
    "- 등분산일 때 가장 효율적 (검정력이 높음)\n",
    "\n",
    "**문제점**: \n",
    "- 현실에서는 두 그룹의 분산이 다른 경우가 많음\n",
    "- 등분산 가정이 위반되면 Type I 오류율이 증가\n",
    "\n",
    "\n",
    "\n",
    "### ⚠️ 포르토스의 조건\n",
    "1. **독립성**: 두 그룹이 서로 독립적이어야 함\n",
    "2. **정규성**: 각 그룹이 (근사적으로) 정규분포를 따름\n",
    "3. **등분산성**: 두 그룹의 분산이 같아야 함 (Student's t-test의 경우)"
   ]
  },
  {
   "cell_type": "code",
   "execution_count": 3,
   "metadata": {},
   "outputs": [
    {
     "name": "stdout",
     "output_type": "stream",
     "text": [
      "☕ 사례: 서울 vs 부산 커피 가격 비교\n",
      "📊 서울 커피숍 수: 30개\n",
      "📊 부산 커피숍 수: 25개\n",
      "💰 서울 평균 가격: 4125원\n",
      "💰 부산 평균 가격: 3734원\n",
      "\n",
      "🔍 등분산성 검정 (Levene's test): p = 0.9167\n",
      "📋 등분산 가정: 성립 → Student's t-test 사용\n",
      "\n"
     ]
    },
    {
     "data": {
      "application/vnd.plotly.v1+json": {
       "config": {
        "plotlyServerURL": "https://plot.ly"
       },
       "data": [
        {
         "marker": {
          "color": "lightblue"
         },
         "name": "서울",
         "type": "box",
         "xaxis": "x",
         "y": {
          "bdata": "byF+h68usUAwqk28sTCwQJzGaU4Ta7FAnineQTbJskAYDsaxVgqwQFPfJ2BYCrBAVUtuZK/fskCLwvZQ+ZqxQMKPUKVrWK9AOa8BJgZBsUApkncORF2vQElh5YtqW69AzJDF78jIsECBebU0YNWqQHRX8dMQbKtAGkGWgysOr0AWGsIvvKWtQMaMRu2y5bBAnWxZq5T5rUAjFLQzKGasQEuIFm9CsrJAYp+/gbANsEDkdF7jAoOwQE9uS5IzXKxAki0Da34cr0CavCJ5XpSwQCKU7YM0N61Aq9Ihekf+sEAoBUEyfe+uQDcYux6l5q9A",
          "dtype": "f8"
         },
         "yaxis": "y"
        },
        {
         "marker": {
          "color": "lightcoral"
         },
         "name": "부산",
         "type": "box",
         "xaxis": "x",
         "y": {
          "bdata": "c5nSLM4KrEANwhUgTGCxQKueHUyNpq1A14qXM5rLqkATCloMyO+vQKKLY9FoWapASo0xWzRCrkCrCyIdO1SoQHOcXg9FDqpAn1eRiM05rkB79Aw27bSvQNxZLDL1J65AwXDq0wtfrUB8fb43Ot2sQI3M/NsIpalAzZb46hu4q0CoJEGIjW2sQLyvxib+SbBAzfLBZYigrkCcw0M0392oQPWr6djbkq5A+ZNeQXGirEAbANqTJ9arQCD5FWQsXK9AG6+ljtlAsEA=",
          "dtype": "f8"
         },
         "yaxis": "y"
        },
        {
         "line": {
          "color": "blue",
          "width": 2
         },
         "mode": "lines",
         "name": "t-분포 (df=53.0)",
         "type": "scatter",
         "x": {
          "bdata": "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",
          "dtype": "f8"
         },
         "xaxis": "x2",
         "y": {
          "bdata": "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",
          "dtype": "f8"
         },
         "yaxis": "y2"
        }
       ],
       "layout": {
        "annotations": [
         {
          "font": {
           "size": 16
          },
          "showarrow": false,
          "text": "1. 두 그룹 분포 비교",
          "x": 0.225,
          "xanchor": "center",
          "xref": "paper",
          "y": 1,
          "yanchor": "bottom",
          "yref": "paper"
         },
         {
          "font": {
           "size": 16
          },
          "showarrow": false,
          "text": "2. t-분포와 검정통계량",
          "x": 0.775,
          "xanchor": "center",
          "xref": "paper",
          "y": 1,
          "yanchor": "bottom",
          "yref": "paper"
         },
         {
          "showarrow": false,
          "text": "t = 4.138",
          "x": 4.138114356261595,
          "xanchor": "left",
          "xref": "x2",
          "y": 1,
          "yanchor": "top",
          "yref": "y2 domain"
         }
        ],
        "height": 500,
        "shapes": [
         {
          "line": {
           "color": "red",
           "dash": "solid"
          },
          "type": "line",
          "x0": 4.138114356261595,
          "x1": 4.138114356261595,
          "xref": "x2",
          "y0": 0,
          "y1": 1,
          "yref": "y2 domain"
         },
         {
          "line": {
           "color": "orange",
           "dash": "dash"
          },
          "type": "line",
          "x0": -2.0057459953178687,
          "x1": -2.0057459953178687,
          "xref": "x2",
          "y0": 0,
          "y1": 1,
          "yref": "y2 domain"
         },
         {
          "line": {
           "color": "orange",
           "dash": "dash"
          },
          "type": "line",
          "x0": 2.0057459953178687,
          "x1": 2.0057459953178687,
          "xref": "x2",
          "y0": 0,
          "y1": 1,
          "yref": "y2 domain"
         }
        ],
        "showlegend": true,
        "template": {
         "data": {
          "bar": [
           {
            "error_x": {
             "color": "#2a3f5f"
            },
            "error_y": {
             "color": "#2a3f5f"
            },
            "marker": {
             "line": {
              "color": "white",
              "width": 0.5
             },
             "pattern": {
              "fillmode": "overlay",
              "size": 10,
              "solidity": 0.2
             }
            },
            "type": "bar"
           }
          ],
          "barpolar": [
           {
            "marker": {
             "line": {
              "color": "white",
              "width": 0.5
             },
             "pattern": {
              "fillmode": "overlay",
              "size": 10,
              "solidity": 0.2
             }
            },
            "type": "barpolar"
           }
          ],
          "carpet": [
           {
            "aaxis": {
             "endlinecolor": "#2a3f5f",
             "gridcolor": "#C8D4E3",
             "linecolor": "#C8D4E3",
             "minorgridcolor": "#C8D4E3",
             "startlinecolor": "#2a3f5f"
            },
            "baxis": {
             "endlinecolor": "#2a3f5f",
             "gridcolor": "#C8D4E3",
             "linecolor": "#C8D4E3",
             "minorgridcolor": "#C8D4E3",
             "startlinecolor": "#2a3f5f"
            },
            "type": "carpet"
           }
          ],
          "choropleth": [
           {
            "colorbar": {
             "outlinewidth": 0,
             "ticks": ""
            },
            "type": "choropleth"
           }
          ],
          "contour": [
           {
            "colorbar": {
             "outlinewidth": 0,
             "ticks": ""
            },
            "colorscale": [
             [
              0,
              "#0d0887"
             ],
             [
              0.1111111111111111,
              "#46039f"
             ],
             [
              0.2222222222222222,
              "#7201a8"
             ],
             [
              0.3333333333333333,
              "#9c179e"
             ],
             [
              0.4444444444444444,
              "#bd3786"
             ],
             [
              0.5555555555555556,
              "#d8576b"
             ],
             [
              0.6666666666666666,
              "#ed7953"
             ],
             [
              0.7777777777777778,
              "#fb9f3a"
             ],
             [
              0.8888888888888888,
              "#fdca26"
             ],
             [
              1,
              "#f0f921"
             ]
            ],
            "type": "contour"
           }
          ],
          "contourcarpet": [
           {
            "colorbar": {
             "outlinewidth": 0,
             "ticks": ""
            },
            "type": "contourcarpet"
           }
          ],
          "heatmap": [
           {
            "colorbar": {
             "outlinewidth": 0,
             "ticks": ""
            },
            "colorscale": [
             [
              0,
              "#0d0887"
             ],
             [
              0.1111111111111111,
              "#46039f"
             ],
             [
              0.2222222222222222,
              "#7201a8"
             ],
             [
              0.3333333333333333,
              "#9c179e"
             ],
             [
              0.4444444444444444,
              "#bd3786"
             ],
             [
              0.5555555555555556,
              "#d8576b"
             ],
             [
              0.6666666666666666,
              "#ed7953"
             ],
             [
              0.7777777777777778,
              "#fb9f3a"
             ],
             [
              0.8888888888888888,
              "#fdca26"
             ],
             [
              1,
              "#f0f921"
             ]
            ],
            "type": "heatmap"
           }
          ],
          "histogram": [
           {
            "marker": {
             "pattern": {
              "fillmode": "overlay",
              "size": 10,
              "solidity": 0.2
             }
            },
            "type": "histogram"
           }
          ],
          "histogram2d": [
           {
            "colorbar": {
             "outlinewidth": 0,
             "ticks": ""
            },
            "colorscale": [
             [
              0,
              "#0d0887"
             ],
             [
              0.1111111111111111,
              "#46039f"
             ],
             [
              0.2222222222222222,
              "#7201a8"
             ],
             [
              0.3333333333333333,
              "#9c179e"
             ],
             [
              0.4444444444444444,
              "#bd3786"
             ],
             [
              0.5555555555555556,
              "#d8576b"
             ],
             [
              0.6666666666666666,
              "#ed7953"
             ],
             [
              0.7777777777777778,
              "#fb9f3a"
             ],
             [
              0.8888888888888888,
              "#fdca26"
             ],
             [
              1,
              "#f0f921"
             ]
            ],
            "type": "histogram2d"
           }
          ],
          "histogram2dcontour": [
           {
            "colorbar": {
             "outlinewidth": 0,
             "ticks": ""
            },
            "colorscale": [
             [
              0,
              "#0d0887"
             ],
             [
              0.1111111111111111,
              "#46039f"
             ],
             [
              0.2222222222222222,
              "#7201a8"
             ],
             [
              0.3333333333333333,
              "#9c179e"
             ],
             [
              0.4444444444444444,
              "#bd3786"
             ],
             [
              0.5555555555555556,
              "#d8576b"
             ],
             [
              0.6666666666666666,
              "#ed7953"
             ],
             [
              0.7777777777777778,
              "#fb9f3a"
             ],
             [
              0.8888888888888888,
              "#fdca26"
             ],
             [
              1,
              "#f0f921"
             ]
            ],
            "type": "histogram2dcontour"
           }
          ],
          "mesh3d": [
           {
            "colorbar": {
             "outlinewidth": 0,
             "ticks": ""
            },
            "type": "mesh3d"
           }
          ],
          "parcoords": [
           {
            "line": {
             "colorbar": {
              "outlinewidth": 0,
              "ticks": ""
             }
            },
            "type": "parcoords"
           }
          ],
          "pie": [
           {
            "automargin": true,
            "type": "pie"
           }
          ],
          "scatter": [
           {
            "fillpattern": {
             "fillmode": "overlay",
             "size": 10,
             "solidity": 0.2
            },
            "type": "scatter"
           }
          ],
          "scatter3d": [
           {
            "line": {
             "colorbar": {
              "outlinewidth": 0,
              "ticks": ""
             }
            },
            "marker": {
             "colorbar": {
              "outlinewidth": 0,
              "ticks": ""
             }
            },
            "type": "scatter3d"
           }
          ],
          "scattercarpet": [
           {
            "marker": {
             "colorbar": {
              "outlinewidth": 0,
              "ticks": ""
             }
            },
            "type": "scattercarpet"
           }
          ],
          "scattergeo": [
           {
            "marker": {
             "colorbar": {
              "outlinewidth": 0,
              "ticks": ""
             }
            },
            "type": "scattergeo"
           }
          ],
          "scattergl": [
           {
            "marker": {
             "colorbar": {
              "outlinewidth": 0,
              "ticks": ""
             }
            },
            "type": "scattergl"
           }
          ],
          "scattermap": [
           {
            "marker": {
             "colorbar": {
              "outlinewidth": 0,
              "ticks": ""
             }
            },
            "type": "scattermap"
           }
          ],
          "scattermapbox": [
           {
            "marker": {
             "colorbar": {
              "outlinewidth": 0,
              "ticks": ""
             }
            },
            "type": "scattermapbox"
           }
          ],
          "scatterpolar": [
           {
            "marker": {
             "colorbar": {
              "outlinewidth": 0,
              "ticks": ""
             }
            },
            "type": "scatterpolar"
           }
          ],
          "scatterpolargl": [
           {
            "marker": {
             "colorbar": {
              "outlinewidth": 0,
              "ticks": ""
             }
            },
            "type": "scatterpolargl"
           }
          ],
          "scatterternary": [
           {
            "marker": {
             "colorbar": {
              "outlinewidth": 0,
              "ticks": ""
             }
            },
            "type": "scatterternary"
           }
          ],
          "surface": [
           {
            "colorbar": {
             "outlinewidth": 0,
             "ticks": ""
            },
            "colorscale": [
             [
              0,
              "#0d0887"
             ],
             [
              0.1111111111111111,
              "#46039f"
             ],
             [
              0.2222222222222222,
              "#7201a8"
             ],
             [
              0.3333333333333333,
              "#9c179e"
             ],
             [
              0.4444444444444444,
              "#bd3786"
             ],
             [
              0.5555555555555556,
              "#d8576b"
             ],
             [
              0.6666666666666666,
              "#ed7953"
             ],
             [
              0.7777777777777778,
              "#fb9f3a"
             ],
             [
              0.8888888888888888,
              "#fdca26"
             ],
             [
              1,
              "#f0f921"
             ]
            ],
            "type": "surface"
           }
          ],
          "table": [
           {
            "cells": {
             "fill": {
              "color": "#EBF0F8"
             },
             "line": {
              "color": "white"
             }
            },
            "header": {
             "fill": {
              "color": "#C8D4E3"
             },
             "line": {
              "color": "white"
             }
            },
            "type": "table"
           }
          ]
         },
         "layout": {
          "annotationdefaults": {
           "arrowcolor": "#2a3f5f",
           "arrowhead": 0,
           "arrowwidth": 1
          },
          "autotypenumbers": "strict",
          "coloraxis": {
           "colorbar": {
            "outlinewidth": 0,
            "ticks": ""
           }
          },
          "colorscale": {
           "diverging": [
            [
             0,
             "#8e0152"
            ],
            [
             0.1,
             "#c51b7d"
            ],
            [
             0.2,
             "#de77ae"
            ],
            [
             0.3,
             "#f1b6da"
            ],
            [
             0.4,
             "#fde0ef"
            ],
            [
             0.5,
             "#f7f7f7"
            ],
            [
             0.6,
             "#e6f5d0"
            ],
            [
             0.7,
             "#b8e186"
            ],
            [
             0.8,
             "#7fbc41"
            ],
            [
             0.9,
             "#4d9221"
            ],
            [
             1,
             "#276419"
            ]
           ],
           "sequential": [
            [
             0,
             "#0d0887"
            ],
            [
             0.1111111111111111,
             "#46039f"
            ],
            [
             0.2222222222222222,
             "#7201a8"
            ],
            [
             0.3333333333333333,
             "#9c179e"
            ],
            [
             0.4444444444444444,
             "#bd3786"
            ],
            [
             0.5555555555555556,
             "#d8576b"
            ],
            [
             0.6666666666666666,
             "#ed7953"
            ],
            [
             0.7777777777777778,
             "#fb9f3a"
            ],
            [
             0.8888888888888888,
             "#fdca26"
            ],
            [
             1,
             "#f0f921"
            ]
           ],
           "sequentialminus": [
            [
             0,
             "#0d0887"
            ],
            [
             0.1111111111111111,
             "#46039f"
            ],
            [
             0.2222222222222222,
             "#7201a8"
            ],
            [
             0.3333333333333333,
             "#9c179e"
            ],
            [
             0.4444444444444444,
             "#bd3786"
            ],
            [
             0.5555555555555556,
             "#d8576b"
            ],
            [
             0.6666666666666666,
             "#ed7953"
            ],
            [
             0.7777777777777778,
             "#fb9f3a"
            ],
            [
             0.8888888888888888,
             "#fdca26"
            ],
            [
             1,
             "#f0f921"
            ]
           ]
          },
          "colorway": [
           "#636efa",
           "#EF553B",
           "#00cc96",
           "#ab63fa",
           "#FFA15A",
           "#19d3f3",
           "#FF6692",
           "#B6E880",
           "#FF97FF",
           "#FECB52"
          ],
          "font": {
           "color": "#2a3f5f"
          },
          "geo": {
           "bgcolor": "white",
           "lakecolor": "white",
           "landcolor": "white",
           "showlakes": true,
           "showland": true,
           "subunitcolor": "#C8D4E3"
          },
          "hoverlabel": {
           "align": "left"
          },
          "hovermode": "closest",
          "mapbox": {
           "style": "light"
          },
          "paper_bgcolor": "white",
          "plot_bgcolor": "white",
          "polar": {
           "angularaxis": {
            "gridcolor": "#EBF0F8",
            "linecolor": "#EBF0F8",
            "ticks": ""
           },
           "bgcolor": "white",
           "radialaxis": {
            "gridcolor": "#EBF0F8",
            "linecolor": "#EBF0F8",
            "ticks": ""
           }
          },
          "scene": {
           "xaxis": {
            "backgroundcolor": "white",
            "gridcolor": "#DFE8F3",
            "gridwidth": 2,
            "linecolor": "#EBF0F8",
            "showbackground": true,
            "ticks": "",
            "zerolinecolor": "#EBF0F8"
           },
           "yaxis": {
            "backgroundcolor": "white",
            "gridcolor": "#DFE8F3",
            "gridwidth": 2,
            "linecolor": "#EBF0F8",
            "showbackground": true,
            "ticks": "",
            "zerolinecolor": "#EBF0F8"
           },
           "zaxis": {
            "backgroundcolor": "white",
            "gridcolor": "#DFE8F3",
            "gridwidth": 2,
            "linecolor": "#EBF0F8",
            "showbackground": true,
            "ticks": "",
            "zerolinecolor": "#EBF0F8"
           }
          },
          "shapedefaults": {
           "line": {
            "color": "#2a3f5f"
           }
          },
          "ternary": {
           "aaxis": {
            "gridcolor": "#DFE8F3",
            "linecolor": "#A2B1C6",
            "ticks": ""
           },
           "baxis": {
            "gridcolor": "#DFE8F3",
            "linecolor": "#A2B1C6",
            "ticks": ""
           },
           "bgcolor": "white",
           "caxis": {
            "gridcolor": "#DFE8F3",
            "linecolor": "#A2B1C6",
            "ticks": ""
           }
          },
          "title": {
           "x": 0.05
          },
          "xaxis": {
           "automargin": true,
           "gridcolor": "#EBF0F8",
           "linecolor": "#EBF0F8",
           "ticks": "",
           "title": {
            "standoff": 15
           },
           "zerolinecolor": "#EBF0F8",
           "zerolinewidth": 2
          },
          "yaxis": {
           "automargin": true,
           "gridcolor": "#EBF0F8",
           "linecolor": "#EBF0F8",
           "ticks": "",
           "title": {
            "standoff": 15
           },
           "zerolinecolor": "#EBF0F8",
           "zerolinewidth": 2
          }
         }
        },
        "title": {
         "text": "⚖️ 포르토스의 결과 (Student's t-test): 귀무가설 기각 (p = 0.0001)"
        },
        "xaxis": {
         "anchor": "y",
         "domain": [
          0,
          0.45
         ]
        },
        "xaxis2": {
         "anchor": "y2",
         "domain": [
          0.55,
          1
         ]
        },
        "yaxis": {
         "anchor": "x",
         "domain": [
          0,
          1
         ]
        },
        "yaxis2": {
         "anchor": "x2",
         "domain": [
          0,
          1
         ]
        }
       }
      }
     },
     "metadata": {},
     "output_type": "display_data"
    },
    {
     "name": "stdout",
     "output_type": "stream",
     "text": [
      "\n",
      "⚖️ 포르토스의 보고서:\n",
      "\n",
      "📊 검정 결과:\n",
      "   • 서울 표본: n=30, 평균=4125원, SD=360원\n",
      "   • 부산 표본: n=25, 평균=3734원, SD=335원\n",
      "   • 평균 차이: 391원\n",
      "   • t-통계량: 4.138\n",
      "   • 자유도: 53.0\n",
      "   • p-값: 0.0001\n",
      "\n",
      "🎯 평균 차이 95% 신뢰구간: [201, 580]원\n",
      "📏 효과크기 (Cohen's d): 1.121\n",
      "\n",
      "🚨 결론: 서울과 부산의 커피 가격에 유의한 차이가 있습니다!\n",
      "💡 해석: 서울이 부산보다 커피가 유의하게 비쌉니다.\n",
      "\n"
     ]
    }
   ],
   "source": [
    "# ⚖️ 포르토스의 모험: Independent t-test 시뮬레이션\n",
    "class IndependentTTestHero:\n",
    "    def __init__(self, name=\"포르토스\"):\n",
    "        self.name = name\n",
    "        self.mission = \"두 독립적인 그룹 비교하기\"\n",
    "    \n",
    "    def perform_test(self, group1, group2, alpha=0.05, equal_var=True, alternative='two-sided'):\n",
    "        \"\"\"Independent t-test 수행\"\"\"\n",
    "        \n",
    "        n1, n2 = len(group1), len(group2)\n",
    "        mean1, mean2 = np.mean(group1), np.mean(group2)\n",
    "        std1, std2 = np.std(group1, ddof=1), np.std(group2, ddof=1)\n",
    "        \n",
    "        if equal_var:\n",
    "            # Student's t-test (등분산 가정)\n",
    "            # 합동분산 계산\n",
    "            pooled_var = ((n1-1)*std1**2 + (n2-1)*std2**2) / (n1+n2-2)\n",
    "            pooled_std = np.sqrt(pooled_var)\n",
    "            \n",
    "            # 표준오차\n",
    "            se = pooled_std * np.sqrt(1/n1 + 1/n2)\n",
    "            \n",
    "            # 자유도\n",
    "            df = n1 + n2 - 2\n",
    "            \n",
    "        else:\n",
    "            # Welch's t-test (등분산 가정 안함)\n",
    "            se = np.sqrt(std1**2/n1 + std2**2/n2)\n",
    "            \n",
    "            # Welch-Satterthwaite 자유도\n",
    "            df = (std1**2/n1 + std2**2/n2)**2 / ((std1**2/n1)**2/(n1-1) + (std2**2/n2)**2/(n2-1))\n",
    "        \n",
    "        # t-통계량 계산\n",
    "        t_statistic = (mean1 - mean2) / se\n",
    "        \n",
    "        # p-값 계산\n",
    "        if alternative == 'two-sided':\n",
    "            p_value = 2 * (1 - stats.t.cdf(abs(t_statistic), df))\n",
    "            critical_t = stats.t.ppf(1 - alpha/2, df)\n",
    "            reject_condition = abs(t_statistic) > critical_t\n",
    "        elif alternative == 'greater':\n",
    "            p_value = 1 - stats.t.cdf(t_statistic, df)\n",
    "            critical_t = stats.t.ppf(1 - alpha, df)\n",
    "            reject_condition = t_statistic > critical_t\n",
    "        else:  # 'less'\n",
    "            p_value = stats.t.cdf(t_statistic, df)\n",
    "            critical_t = stats.t.ppf(alpha, df)\n",
    "            reject_condition = t_statistic < critical_t\n",
    "        \n",
    "        # 신뢰구간 (평균 차이에 대한)\n",
    "        margin_error = stats.t.ppf(1 - alpha/2, df) * se\n",
    "        mean_diff = mean1 - mean2\n",
    "        ci_lower = mean_diff - margin_error\n",
    "        ci_upper = mean_diff + margin_error\n",
    "        \n",
    "        # 효과크기 (Cohen's d)\n",
    "        if equal_var:\n",
    "            cohens_d = (mean1 - mean2) / pooled_std\n",
    "        else:\n",
    "            # 등분산이 아닐 때는 가중평균 사용\n",
    "            pooled_std_approx = np.sqrt(((n1-1)*std1**2 + (n2-1)*std2**2) / (n1+n2-2))\n",
    "            cohens_d = (mean1 - mean2) / pooled_std_approx\n",
    "        \n",
    "        # Levene's test for equal variances\n",
    "        levene_stat, levene_p = stats.levene(group1, group2)\n",
    "        \n",
    "        return {\n",
    "            'n1': n1, 'n2': n2,\n",
    "            'mean1': mean1, 'mean2': mean2,\n",
    "            'std1': std1, 'std2': std2,\n",
    "            'mean_diff': mean_diff,\n",
    "            't_statistic': t_statistic,\n",
    "            'df': df,\n",
    "            'p_value': p_value,\n",
    "            'critical_t': critical_t,\n",
    "            'reject_null': reject_condition,\n",
    "            'ci_lower': ci_lower,\n",
    "            'ci_upper': ci_upper,\n",
    "            'cohens_d': cohens_d,\n",
    "            'equal_var': equal_var,\n",
    "            'levene_stat': levene_stat,\n",
    "            'levene_p': levene_p,\n",
    "            'alpha': alpha,\n",
    "            'alternative': alternative\n",
    "        }\n",
    "    \n",
    "    def visualize_test(self, result, group1, group2, group1_name='그룹1', group2_name='그룹2'):\n",
    "        \"\"\"Independent t-test 결과 시각화\"\"\"\n",
    "\n",
    "        fig = make_subplots(\n",
    "            rows=1, cols=2,\n",
    "            subplot_titles=[\n",
    "                '1. 두 그룹 분포 비교',\n",
    "                '2. t-분포와 검정통계량'\n",
    "            ],\n",
    "            specs=[\n",
    "                [{'type': 'box'}, {'type': 'scatter'}]\n",
    "            ]\n",
    "        )\n",
    "\n",
    "        # 1. 두 그룹 박스플롯\n",
    "        fig.add_trace(\n",
    "            go.Box(\n",
    "                y=group1,\n",
    "                name=group1_name,\n",
    "                marker_color='lightblue'\n",
    "            ),\n",
    "            row=1, col=1\n",
    "        )\n",
    "        \n",
    "        fig.add_trace(\n",
    "            go.Box(\n",
    "                y=group2,\n",
    "                name=group2_name,\n",
    "                marker_color='lightcoral'\n",
    "            ),\n",
    "            row=1, col=1\n",
    "        )\n",
    "\n",
    "        # 2. t-분포와 검정통계량\n",
    "        t_range = np.linspace(-4, 4, 200)\n",
    "        t_pdf = stats.t.pdf(t_range, result['df'])\n",
    "\n",
    "        fig.add_trace(\n",
    "            go.Scatter(\n",
    "                x=t_range,\n",
    "                y=t_pdf,\n",
    "                mode='lines',\n",
    "                name=f't-분포 (df={result[\"df\"]:.1f})',\n",
    "                line=dict(color='blue', width=2)\n",
    "            ),\n",
    "            row=1, col=2\n",
    "        )\n",
    "\n",
    "        # 검정통계량 위치\n",
    "        fig.add_vline(\n",
    "            x=result['t_statistic'],\n",
    "            line_dash=\"solid\",\n",
    "            line_color=\"red\" if result['reject_null'] else \"green\",\n",
    "            annotation_text=f\"t = {result['t_statistic']:.3f}\",\n",
    "            row=1, col=2\n",
    "        )\n",
    "\n",
    "        # 임계값 표시\n",
    "        if result['alternative'] == 'two-sided':\n",
    "            for crit in [-result['critical_t'], result['critical_t']]:\n",
    "                fig.add_vline(\n",
    "                    x=crit,\n",
    "                    line_dash=\"dash\",\n",
    "                    line_color=\"orange\",\n",
    "                    row=1, col=2\n",
    "                )\n",
    "\n",
    "        # 레이아웃 업데이트\n",
    "        test_type = \"Student's\" if result['equal_var'] else \"Welch's\"\n",
    "        decision = \"귀무가설 기각\" if result['reject_null'] else \"귀무가설 채택\"\n",
    "        fig.update_layout(\n",
    "            title=f'⚖️ {self.name}의 결과 ({test_type} t-test): {decision} (p = {result[\"p_value\"]:.4f})',\n",
    "            height=500,\n",
    "            showlegend=True\n",
    "        )\n",
    "\n",
    "        return fig\n",
    "\n",
    "# 포르토스 인스턴스 생성\n",
    "porthos = IndependentTTestHero(\"포르토스\")\n",
    "\n",
    "# 예제 데이터: 두 지역의 커피 가격 비교\n",
    "np.random.seed(42)\n",
    "seoul_coffee_price = np.random.normal(4200, 400, 30)  # 서울 커피 가격\n",
    "busan_coffee_price = np.random.normal(3800, 350, 25)  # 부산 커피 가격\n",
    "\n",
    "print(\"☕ 사례: 서울 vs 부산 커피 가격 비교\")\n",
    "print(f\"📊 서울 커피숍 수: {len(seoul_coffee_price)}개\")\n",
    "print(f\"📊 부산 커피숍 수: {len(busan_coffee_price)}개\")\n",
    "print(f\"💰 서울 평균 가격: {np.mean(seoul_coffee_price):.0f}원\")\n",
    "print(f\"💰 부산 평균 가격: {np.mean(busan_coffee_price):.0f}원\")\n",
    "print(\"\")\n",
    "\n",
    "# 등분산성 검정 먼저 수행\n",
    "levene_stat, levene_p = stats.levene(seoul_coffee_price, busan_coffee_price)\n",
    "equal_var = levene_p > 0.05  # p > 0.05이면 등분산 가정\n",
    "\n",
    "print(f\"🔍 등분산성 검정 (Levene's test): p = {levene_p:.4f}\")\n",
    "print(f\"📋 등분산 가정: {'성립' if equal_var else '위반'} → {'Student\\'s' if equal_var else 'Welch\\'s'} t-test 사용\")\n",
    "print(\"\")\n",
    "\n",
    "# 포르토스의 검정 수행\n",
    "porthos_result = porthos.perform_test(\n",
    "    seoul_coffee_price, busan_coffee_price, \n",
    "    alpha=0.05, equal_var=equal_var\n",
    ")\n",
    "\n",
    "# 결과 시각화\n",
    "fig_porthos = porthos.visualize_test(\n",
    "    porthos_result, seoul_coffee_price, busan_coffee_price,\n",
    "    '서울', '부산'\n",
    ")\n",
    "fig_porthos.show()\n",
    "\n",
    "# 결과 해석\n",
    "print(f\"\"\"\n",
    "⚖️ {porthos.name}의 보고서:\n",
    "\n",
    "📊 검정 결과:\n",
    "   • 서울 표본: n={porthos_result['n1']}, 평균={porthos_result['mean1']:.0f}원, SD={porthos_result['std1']:.0f}원\n",
    "   • 부산 표본: n={porthos_result['n2']}, 평균={porthos_result['mean2']:.0f}원, SD={porthos_result['std2']:.0f}원\n",
    "   • 평균 차이: {porthos_result['mean_diff']:.0f}원\n",
    "   • t-통계량: {porthos_result['t_statistic']:.3f}\n",
    "   • 자유도: {porthos_result['df']:.1f}\n",
    "   • p-값: {porthos_result['p_value']:.4f}\n",
    "\n",
    "🎯 평균 차이 95% 신뢰구간: [{porthos_result['ci_lower']:.0f}, {porthos_result['ci_upper']:.0f}]원\n",
    "📏 효과크기 (Cohen's d): {porthos_result['cohens_d']:.3f}\n",
    "\n",
    "{'🚨 결론: 서울과 부산의 커피 가격에 유의한 차이가 있습니다!' if porthos_result['reject_null'] else '✅ 결론: 서울과 부산의 커피 가격에 유의한 차이가 없습니다.'}\n",
    "💡 해석: {'서울이 부산보다 커피가 유의하게 비쌉니다.' if porthos_result['reject_null'] and porthos_result['mean_diff'] > 0 else '두 지역의 커피 가격이 비슷합니다.' if not porthos_result['reject_null'] else '부산이 서울보다 커피가 유의하게 비쌉니다.'}\n",
    "\"\"\")"
   ]
  },
  {
   "cell_type": "markdown",
   "metadata": {},
   "source": [
    "## 🔄 3. 아라미스 (Paired t-test): 변화의 탐지\n",
    "\n",
    "### 📋 아라미스의 프로필\n",
    "- **정체성**: 대응표본 t-검정\n",
    "- **사명**: 동일한 대상에서 전후 변화가 있는지 확인\n",
    "- **무기**: 차이값(difference)의 분석\n",
    "\n",
    "### 🎪 언제 아라미스를 부를까?\n",
    "\n",
    "- 치료 효과: \"수술 전후 환자 상태가 개선되었나?\"\n",
    "- 학습 효과: \"교육 전후 성적이 향상되었나?\"\n",
    "- 제품 개선: \"업데이트 전후 성능이 달라졌나?\"\n",
    "- 시간 경과: \"1년 전과 지금의 체중이 다른가?\"\n",
    "\n",
    "### 🔢 아라미스의 무술 (수학적 공식)\n",
    "\n",
    "**핵심 아이디어**: 각 개체의 **차이값(difference)**을 계산하여 분석\n",
    "\n",
    "$$D_i = X_{i,after} - X_{i,before}$$\n",
    "\n",
    "**가설 설정**:\n",
    "- H₀: μ_D = 0 (평균 차이가 0이다)\n",
    "- H₁: μ_D ≠ 0 (평균 차이가 0이 아니다)\n",
    "\n",
    "**검정통계량**:\n",
    "$$t = \\frac{\\bar{D}}{\\frac{s_D}{\\sqrt{n}}} \\sim t_{n-1}$$\n",
    "\n",
    "여기서:\n",
    "- $\\bar{D}$: 차이값들의 평균\n",
    "- $s_D$: 차이값들의 표준편차\n",
    "\n",
    "### 🎯 아라미스 vs 포르토스\n",
    "\n",
    "**언제 아라미스를 선택해야 할까?**\n",
    "\n",
    "| 상황 | 아라미스 (Paired) | 포르토스 (Independent) |\n",
    "|------|------------------|----------------------|\n",
    "| **데이터 구조** | 같은 개체의 전후 측정 | 다른 개체들의 그룹 비교 |\n",
    "| **예시** | 환자 10명의 수술 전후 | A그룹 vs B그룹 |\n",
    "| **장점** | 개체간 변동 제거 | 설계가 간단 |\n",
    "| **검정력** | 일반적으로 더 높음 | 상황에 따라 다름 |"
   ]
  },
  {
   "cell_type": "code",
   "execution_count": 9,
   "metadata": {},
   "outputs": [
    {
     "name": "stdout",
     "output_type": "stream",
     "text": [
      "🏃‍♀️ 사례: 다이어트 프로그램 효과 분석\n",
      "👥 참가자 수: 20명\n",
      "⚖️ 다이어트 전 평균 체중: 68.3kg\n",
      "⚖️ 다이어트 후 평균 체중: 65.7kg\n",
      "📉 평균 체중 변화: -2.6kg\n",
      "\n"
     ]
    },
    {
     "data": {
      "application/vnd.plotly.v1+json": {
       "config": {
        "plotlyServerURL": "https://plot.ly"
       },
       "data": [
        {
         "hovertemplate": "개체 1: %{y}<extra></extra>",
         "line": {
          "color": "lightgray",
          "width": 1
         },
         "marker": {
          "size": 4
         },
         "mode": "lines+markers",
         "showlegend": false,
         "type": "scatter",
         "x": [
          "다이어트 전",
          "다이어트 후"
         ],
         "xaxis": "x",
         "y": [
          74.96714153011233,
          69.76866837673
         ],
         "yaxis": "y"
        },
        {
         "hovertemplate": "개체 2: %{y}<extra></extra>",
         "line": {
          "color": "lightgray",
          "width": 1
         },
         "marker": {
          "size": 4
         },
         "mode": "lines+markers",
         "showlegend": false,
         "type": "scatter",
         "x": [
          "다이어트 전",
          "다이어트 후"
         ],
         "xaxis": "x",
         "y": [
          68.61735698828815,
          65.95602143901796
         ],
         "yaxis": "y"
        },
        {
         "hovertemplate": "개체 3: %{y}<extra></extra>",
         "line": {
          "color": "lightgray",
          "width": 1
         },
         "marker": {
          "size": 4
         },
         "mode": "lines+markers",
         "showlegend": false,
         "type": "scatter",
         "x": [
          "다이어트 전",
          "다이어트 후"
         ],
         "xaxis": "x",
         "y": [
          76.47688538100692,
          73.37559307397504
         ],
         "yaxis": "y"
        },
        {
         "hovertemplate": "개체 4: %{y}<extra></extra>",
         "line": {
          "color": "lightgray",
          "width": 1
         },
         "marker": {
          "size": 4
         },
         "mode": "lines+markers",
         "showlegend": false,
         "type": "scatter",
         "x": [
          "다이어트 전",
          "다이어트 후"
         ],
         "xaxis": "x",
         "y": [
          85.23029856408026,
          84.36742084340044
         ],
         "yaxis": "y"
        },
        {
         "hovertemplate": "개체 5: %{y}<extra></extra>",
         "line": {
          "color": "lightgray",
          "width": 1
         },
         "marker": {
          "size": 4
         },
         "mode": "lines+markers",
         "showlegend": false,
         "type": "scatter",
         "x": [
          "다이어트 전",
          "다이어트 후"
         ],
         "xaxis": "x",
         "y": [
          67.65846625276664,
          65.47504033955441
         ],
         "yaxis": "y"
        },
        {
         "hovertemplate": "개체 6: %{y}<extra></extra>",
         "line": {
          "color": "lightgray",
          "width": 1
         },
         "marker": {
          "size": 4
         },
         "mode": "lines+markers",
         "showlegend": false,
         "type": "scatter",
         "x": [
          "다이어트 전",
          "다이어트 후"
         ],
         "xaxis": "x",
         "y": [
          67.6586304305082,
          64.4922465459434
         ],
         "yaxis": "y"
        },
        {
         "hovertemplate": "개체 7: %{y}<extra></extra>",
         "line": {
          "color": "lightgray",
          "width": 1
         },
         "marker": {
          "size": 4
         },
         "mode": "lines+markers",
         "showlegend": false,
         "type": "scatter",
         "x": [
          "다이어트 전",
          "다이어트 후"
         ],
         "xaxis": "x",
         "y": [
          85.79212815507391,
          84.51861852120737
         ],
         "yaxis": "y"
        },
        {
         "hovertemplate": "개체 8: %{y}<extra></extra>",
         "line": {
          "color": "lightgray",
          "width": 1
         },
         "marker": {
          "size": 4
         },
         "mode": "lines+markers",
         "showlegend": false,
         "type": "scatter",
         "x": [
          "다이어트 전",
          "다이어트 후"
         ],
         "xaxis": "x",
         "y": [
          77.67434729152909,
          74.11080026401058
         ],
         "yaxis": "y"
        },
        {
         "hovertemplate": "개체 9: %{y}<extra></extra>",
         "line": {
          "color": "lightgray",
          "width": 1
         },
         "marker": {
          "size": 4
         },
         "mode": "lines+markers",
         "showlegend": false,
         "type": "scatter",
         "x": [
          "다이어트 전",
          "다이어트 후"
         ],
         "xaxis": "x",
         "y": [
          65.30525614065049,
          63.20621417552869
         ],
         "yaxis": "y"
        },
        {
         "hovertemplate": "개체 10: %{y}<extra></extra>",
         "line": {
          "color": "lightgray",
          "width": 1
         },
         "marker": {
          "size": 4
         },
         "mode": "lines+markers",
         "showlegend": false,
         "type": "scatter",
         "x": [
          "다이어트 전",
          "다이어트 후"
         ],
         "xaxis": "x",
         "y": [
          75.42560043585965,
          72.86314106054957
         ],
         "yaxis": "y"
        },
        {
         "hovertemplate": "개체 11: %{y}<extra></extra>",
         "line": {
          "color": "lightgray",
          "width": 1
         },
         "marker": {
          "size": 4
         },
         "mode": "lines+markers",
         "showlegend": false,
         "type": "scatter",
         "x": [
          "다이어트 전",
          "다이어트 후"
         ],
         "xaxis": "x",
         "y": [
          65.36582307187538,
          63.26838299021948
         ],
         "yaxis": "y"
        },
        {
         "hovertemplate": "개체 12: %{y}<extra></extra>",
         "line": {
          "color": "lightgray",
          "width": 1
         },
         "marker": {
          "size": 4
         },
         "mode": "lines+markers",
         "showlegend": false,
         "type": "scatter",
         "x": [
          "다이어트 전",
          "다이어트 후"
         ],
         "xaxis": "x",
         "y": [
          65.34270246429743,
          59.564285187534026
         ],
         "yaxis": "y"
        },
        {
         "hovertemplate": "개체 13: %{y}<extra></extra>",
         "line": {
          "color": "lightgray",
          "width": 1
         },
         "marker": {
          "size": 4
         },
         "mode": "lines+markers",
         "showlegend": false,
         "type": "scatter",
         "x": [
          "다이어트 전",
          "다이어트 후"
         ],
         "xaxis": "x",
         "y": [
          72.41962271566034,
          69.43986855276724
         ],
         "yaxis": "y"
        },
        {
         "hovertemplate": "개체 14: %{y}<extra></extra>",
         "line": {
          "color": "lightgray",
          "width": 1
         },
         "marker": {
          "size": 4
         },
         "mode": "lines+markers",
         "showlegend": false,
         "type": "scatter",
         "x": [
          "다이어트 전",
          "다이어트 후"
         ],
         "xaxis": "x",
         "y": [
          50.86719755342202,
          49.453763946855865
         ],
         "yaxis": "y"
        },
        {
         "hovertemplate": "개체 15: %{y}<extra></extra>",
         "line": {
          "color": "lightgray",
          "width": 1
         },
         "marker": {
          "size": 4
         },
         "mode": "lines+markers",
         "showlegend": false,
         "type": "scatter",
         "x": [
          "다이어트 전",
          "다이어트 후"
         ],
         "xaxis": "x",
         "y": [
          52.75082167486967,
          48.51700430671489
         ],
         "yaxis": "y"
        },
        {
         "hovertemplate": "개체 16: %{y}<extra></extra>",
         "line": {
          "color": "lightgray",
          "width": 1
         },
         "marker": {
          "size": 4
         },
         "mode": "lines+markers",
         "showlegend": false,
         "type": "scatter",
         "x": [
          "다이어트 전",
          "다이어트 후"
         ],
         "xaxis": "x",
         "y": [
          64.37712470759027,
          63.2083901825468
         ],
         "yaxis": "y"
        },
        {
         "hovertemplate": "개체 17: %{y}<extra></extra>",
         "line": {
          "color": "lightgray",
          "width": 1
         },
         "marker": {
          "size": 4
         },
         "mode": "lines+markers",
         "showlegend": false,
         "type": "scatter",
         "x": [
          "다이어트 전",
          "다이어트 후"
         ],
         "xaxis": "x",
         "y": [
          59.87168879665576,
          56.558393404148624
         ],
         "yaxis": "y"
        },
        {
         "hovertemplate": "개체 18: %{y}<extra></extra>",
         "line": {
          "color": "lightgray",
          "width": 1
         },
         "marker": {
          "size": 4
         },
         "mode": "lines+markers",
         "showlegend": false,
         "type": "scatter",
         "x": [
          "다이어트 전",
          "다이어트 후"
         ],
         "xaxis": "x",
         "y": [
          73.14247332595274,
          73.0819785117724
         ],
         "yaxis": "y"
        },
        {
         "hovertemplate": "개체 19: %{y}<extra></extra>",
         "line": {
          "color": "lightgray",
          "width": 1
         },
         "marker": {
          "size": 4
         },
         "mode": "lines+markers",
         "showlegend": false,
         "type": "scatter",
         "x": [
          "다이어트 전",
          "다이어트 후"
         ],
         "xaxis": "x",
         "y": [
          60.91975924478789,
          59.91203831813554
         ],
         "yaxis": "y"
        },
        {
         "hovertemplate": "개체 20: %{y}<extra></extra>",
         "line": {
          "color": "lightgray",
          "width": 1
         },
         "marker": {
          "size": 4
         },
         "mode": "lines+markers",
         "showlegend": false,
         "type": "scatter",
         "x": [
          "다이어트 전",
          "다이어트 후"
         ],
         "xaxis": "x",
         "y": [
          55.87696298664709,
          52.581671132843404
         ],
         "yaxis": "y"
        },
        {
         "line": {
          "color": "red",
          "width": 4
         },
         "marker": {
          "color": "red",
          "size": 10
         },
         "mode": "lines+markers",
         "name": "평균",
         "type": "scatter",
         "x": [
          "다이어트 전",
          "다이어트 후"
         ],
         "xaxis": "x",
         "y": [
          68.28701438558171,
          65.68597705867278
         ],
         "yaxis": "y"
        },
        {
         "marker": {
          "color": "lightgreen"
         },
         "name": "차이값",
         "nbinsx": 15,
         "opacity": 0.7,
         "type": "histogram",
         "x": {
          "bdata": "8KTbizzLFMCgYd5KakoFwIBOUFdyzwjAAIrYvLGc679A4lMBqHcBwEBM9hLBVAnAQJBJo0tg9L+gmafxJIIMwJAJiYPWygDAgEhys+p/BMDgQGCqjscAwGBcKWsZHRfAQPe9WYnWB8CgTbSObJ32v6jY9dFt7xDA4Egs+SKz8r/wccYDoYEKwADY9iAt+a6/gHd3+p8f8L9w5bb5wVwKwA==",
          "dtype": "f8"
         },
         "xaxis": "x2",
         "yaxis": "y2"
        },
        {
         "marker": {
          "color": "blue",
          "opacity": 0.6,
          "size": 8
         },
         "mode": "markers",
         "name": "개별 데이터",
         "type": "scatter",
         "x": {
          "bdata": "5ZuWpeW9UkDmqeLGgidRQGDXQkqFHlNAl0IwNr1OVUDBSaNPJOpQQLjLPwAn6lBAIRJKOrJyVUDf0IqBKGtTQM8/DVGJU1BAjkucCT3bUkDudCylaVdQQKEaUdbuVVBA3xo8GdsaUkA0j1VUAG9JQLpYtewaYEpASGerzyIYUECK9px/k+9NQD3hcEgeSVJAYUfCq7p1TkDSublSQPBLQA==",
          "dtype": "f8"
         },
         "xaxis": "x3",
         "y": {
          "bdata": "luHY3DFxUUDZtot0L31QQOxUiLcJWFJAg5G20oMXVUCvqpgPZ15QQFYZqPeAH1BA4Ou8CzEhVUASlP1ZF4dSQAXv4Tllmk9ASrkAtD03UkDO5bJfWqJPQLYJPX86yE1AJStuziZcUUDH7N/vFLpIQKWddjItQkhASWyNh6yaT0Brj2BveUdMQGLCzCI/RVJApYvuq730TUB7Sx4zdEpKQA==",
          "dtype": "f8"
         },
         "yaxis": "y3"
        },
        {
         "line": {
          "color": "gray",
          "dash": "dash"
         },
         "mode": "lines",
         "name": "변화 없음",
         "type": "scatter",
         "x": [
          48.51700430671489,
          85.79212815507391
         ],
         "xaxis": "x3",
         "y": [
          48.51700430671489,
          85.79212815507391
         ],
         "yaxis": "y3"
        },
        {
         "hovertemplate": "90% CI: [-3.16, -2.04]<extra></extra>",
         "line": {
          "color": "lightgreen",
          "width": 4
         },
         "marker": {
          "size": 8
         },
         "mode": "lines+markers",
         "name": "90% CI",
         "type": "scatter",
         "x": [
          -3.162469552507908,
          -2.0396051013099403
         ],
         "xaxis": "x4",
         "y": [
          0.5,
          0.5
         ],
         "yaxis": "y4"
        },
        {
         "hovertemplate": "95% CI: [-3.28, -1.92]<extra></extra>",
         "line": {
          "color": "green",
          "width": 4
         },
         "marker": {
          "size": 8
         },
         "mode": "lines+markers",
         "name": "95% CI",
         "type": "scatter",
         "x": [
          -3.2806214197379435,
          -1.9214532340799049
         ],
         "xaxis": "x4",
         "y": [
          1,
          1
         ],
         "yaxis": "y4"
        },
        {
         "hovertemplate": "99% CI: [-3.53, -1.67]<extra></extra>",
         "line": {
          "color": "darkgreen",
          "width": 4
         },
         "marker": {
          "size": 8
         },
         "mode": "lines+markers",
         "name": "99% CI",
         "type": "scatter",
         "x": [
          -3.529954338193387,
          -1.6721203156244615
         ],
         "xaxis": "x4",
         "y": [
          1.5,
          1.5
         ],
         "yaxis": "y4"
        },
        {
         "hovertemplate": "평균 차이: -2.60<extra></extra>",
         "marker": {
          "color": "red",
          "size": 10,
          "symbol": "diamond"
         },
         "mode": "markers",
         "name": "평균 차이",
         "type": "scatter",
         "x": [
          -2.601037326908924,
          -2.601037326908924,
          -2.601037326908924
         ],
         "xaxis": "x4",
         "y": [
          0.5,
          1,
          1.5
         ],
         "yaxis": "y4"
        }
       ],
       "layout": {
        "annotations": [
         {
          "font": {
           "size": 16
          },
          "showarrow": false,
          "text": "1. 전후 비교 (개별 선)",
          "x": 0.225,
          "xanchor": "center",
          "xref": "paper",
          "y": 1,
          "yanchor": "bottom",
          "yref": "paper"
         },
         {
          "font": {
           "size": 16
          },
          "showarrow": false,
          "text": "2. 차이값 분포",
          "x": 0.775,
          "xanchor": "center",
          "xref": "paper",
          "y": 1,
          "yanchor": "bottom",
          "yref": "paper"
         },
         {
          "font": {
           "size": 16
          },
          "showarrow": false,
          "text": "3. 전후 산점도",
          "x": 0.225,
          "xanchor": "center",
          "xref": "paper",
          "y": 0.375,
          "yanchor": "bottom",
          "yref": "paper"
         },
         {
          "font": {
           "size": 16
          },
          "showarrow": false,
          "text": "4. 차이값 신뢰구간",
          "x": 0.775,
          "xanchor": "center",
          "xref": "paper",
          "y": 0.375,
          "yanchor": "bottom",
          "yref": "paper"
         },
         {
          "showarrow": false,
          "text": "평균 차이: -2.60",
          "x": -2.601037326908924,
          "xanchor": "left",
          "xref": "x2",
          "y": 1,
          "yanchor": "top",
          "yref": "y2 domain"
         },
         {
          "showarrow": false,
          "text": "차이 없음",
          "x": 0,
          "xanchor": "left",
          "xref": "x2",
          "y": 1,
          "yanchor": "top",
          "yref": "y2 domain"
         },
         {
          "showarrow": false,
          "text": "H₀: 변화=0",
          "x": 0,
          "xanchor": "left",
          "xref": "x4",
          "y": 1,
          "yanchor": "top",
          "yref": "y4 domain"
         }
        ],
        "height": 800,
        "shapes": [
         {
          "line": {
           "color": "red",
           "dash": "solid"
          },
          "type": "line",
          "x0": -2.601037326908924,
          "x1": -2.601037326908924,
          "xref": "x2",
          "y0": 0,
          "y1": 1,
          "yref": "y2 domain"
         },
         {
          "line": {
           "color": "black",
           "dash": "dash"
          },
          "type": "line",
          "x0": 0,
          "x1": 0,
          "xref": "x2",
          "y0": 0,
          "y1": 1,
          "yref": "y2 domain"
         },
         {
          "line": {
           "color": "black",
           "dash": "dash"
          },
          "type": "line",
          "x0": 0,
          "x1": 0,
          "xref": "x4",
          "y0": 0,
          "y1": 1,
          "yref": "y4 domain"
         }
        ],
        "template": {
         "data": {
          "bar": [
           {
            "error_x": {
             "color": "#2a3f5f"
            },
            "error_y": {
             "color": "#2a3f5f"
            },
            "marker": {
             "line": {
              "color": "white",
              "width": 0.5
             },
             "pattern": {
              "fillmode": "overlay",
              "size": 10,
              "solidity": 0.2
             }
            },
            "type": "bar"
           }
          ],
          "barpolar": [
           {
            "marker": {
             "line": {
              "color": "white",
              "width": 0.5
             },
             "pattern": {
              "fillmode": "overlay",
              "size": 10,
              "solidity": 0.2
             }
            },
            "type": "barpolar"
           }
          ],
          "carpet": [
           {
            "aaxis": {
             "endlinecolor": "#2a3f5f",
             "gridcolor": "#C8D4E3",
             "linecolor": "#C8D4E3",
             "minorgridcolor": "#C8D4E3",
             "startlinecolor": "#2a3f5f"
            },
            "baxis": {
             "endlinecolor": "#2a3f5f",
             "gridcolor": "#C8D4E3",
             "linecolor": "#C8D4E3",
             "minorgridcolor": "#C8D4E3",
             "startlinecolor": "#2a3f5f"
            },
            "type": "carpet"
           }
          ],
          "choropleth": [
           {
            "colorbar": {
             "outlinewidth": 0,
             "ticks": ""
            },
            "type": "choropleth"
           }
          ],
          "contour": [
           {
            "colorbar": {
             "outlinewidth": 0,
             "ticks": ""
            },
            "colorscale": [
             [
              0,
              "#0d0887"
             ],
             [
              0.1111111111111111,
              "#46039f"
             ],
             [
              0.2222222222222222,
              "#7201a8"
             ],
             [
              0.3333333333333333,
              "#9c179e"
             ],
             [
              0.4444444444444444,
              "#bd3786"
             ],
             [
              0.5555555555555556,
              "#d8576b"
             ],
             [
              0.6666666666666666,
              "#ed7953"
             ],
             [
              0.7777777777777778,
              "#fb9f3a"
             ],
             [
              0.8888888888888888,
              "#fdca26"
             ],
             [
              1,
              "#f0f921"
             ]
            ],
            "type": "contour"
           }
          ],
          "contourcarpet": [
           {
            "colorbar": {
             "outlinewidth": 0,
             "ticks": ""
            },
            "type": "contourcarpet"
           }
          ],
          "heatmap": [
           {
            "colorbar": {
             "outlinewidth": 0,
             "ticks": ""
            },
            "colorscale": [
             [
              0,
              "#0d0887"
             ],
             [
              0.1111111111111111,
              "#46039f"
             ],
             [
              0.2222222222222222,
              "#7201a8"
             ],
             [
              0.3333333333333333,
              "#9c179e"
             ],
             [
              0.4444444444444444,
              "#bd3786"
             ],
             [
              0.5555555555555556,
              "#d8576b"
             ],
             [
              0.6666666666666666,
              "#ed7953"
             ],
             [
              0.7777777777777778,
              "#fb9f3a"
             ],
             [
              0.8888888888888888,
              "#fdca26"
             ],
             [
              1,
              "#f0f921"
             ]
            ],
            "type": "heatmap"
           }
          ],
          "histogram": [
           {
            "marker": {
             "pattern": {
              "fillmode": "overlay",
              "size": 10,
              "solidity": 0.2
             }
            },
            "type": "histogram"
           }
          ],
          "histogram2d": [
           {
            "colorbar": {
             "outlinewidth": 0,
             "ticks": ""
            },
            "colorscale": [
             [
              0,
              "#0d0887"
             ],
             [
              0.1111111111111111,
              "#46039f"
             ],
             [
              0.2222222222222222,
              "#7201a8"
             ],
             [
              0.3333333333333333,
              "#9c179e"
             ],
             [
              0.4444444444444444,
              "#bd3786"
             ],
             [
              0.5555555555555556,
              "#d8576b"
             ],
             [
              0.6666666666666666,
              "#ed7953"
             ],
             [
              0.7777777777777778,
              "#fb9f3a"
             ],
             [
              0.8888888888888888,
              "#fdca26"
             ],
             [
              1,
              "#f0f921"
             ]
            ],
            "type": "histogram2d"
           }
          ],
          "histogram2dcontour": [
           {
            "colorbar": {
             "outlinewidth": 0,
             "ticks": ""
            },
            "colorscale": [
             [
              0,
              "#0d0887"
             ],
             [
              0.1111111111111111,
              "#46039f"
             ],
             [
              0.2222222222222222,
              "#7201a8"
             ],
             [
              0.3333333333333333,
              "#9c179e"
             ],
             [
              0.4444444444444444,
              "#bd3786"
             ],
             [
              0.5555555555555556,
              "#d8576b"
             ],
             [
              0.6666666666666666,
              "#ed7953"
             ],
             [
              0.7777777777777778,
              "#fb9f3a"
             ],
             [
              0.8888888888888888,
              "#fdca26"
             ],
             [
              1,
              "#f0f921"
             ]
            ],
            "type": "histogram2dcontour"
           }
          ],
          "mesh3d": [
           {
            "colorbar": {
             "outlinewidth": 0,
             "ticks": ""
            },
            "type": "mesh3d"
           }
          ],
          "parcoords": [
           {
            "line": {
             "colorbar": {
              "outlinewidth": 0,
              "ticks": ""
             }
            },
            "type": "parcoords"
           }
          ],
          "pie": [
           {
            "automargin": true,
            "type": "pie"
           }
          ],
          "scatter": [
           {
            "fillpattern": {
             "fillmode": "overlay",
             "size": 10,
             "solidity": 0.2
            },
            "type": "scatter"
           }
          ],
          "scatter3d": [
           {
            "line": {
             "colorbar": {
              "outlinewidth": 0,
              "ticks": ""
             }
            },
            "marker": {
             "colorbar": {
              "outlinewidth": 0,
              "ticks": ""
             }
            },
            "type": "scatter3d"
           }
          ],
          "scattercarpet": [
           {
            "marker": {
             "colorbar": {
              "outlinewidth": 0,
              "ticks": ""
             }
            },
            "type": "scattercarpet"
           }
          ],
          "scattergeo": [
           {
            "marker": {
             "colorbar": {
              "outlinewidth": 0,
              "ticks": ""
             }
            },
            "type": "scattergeo"
           }
          ],
          "scattergl": [
           {
            "marker": {
             "colorbar": {
              "outlinewidth": 0,
              "ticks": ""
             }
            },
            "type": "scattergl"
           }
          ],
          "scattermap": [
           {
            "marker": {
             "colorbar": {
              "outlinewidth": 0,
              "ticks": ""
             }
            },
            "type": "scattermap"
           }
          ],
          "scattermapbox": [
           {
            "marker": {
             "colorbar": {
              "outlinewidth": 0,
              "ticks": ""
             }
            },
            "type": "scattermapbox"
           }
          ],
          "scatterpolar": [
           {
            "marker": {
             "colorbar": {
              "outlinewidth": 0,
              "ticks": ""
             }
            },
            "type": "scatterpolar"
           }
          ],
          "scatterpolargl": [
           {
            "marker": {
             "colorbar": {
              "outlinewidth": 0,
              "ticks": ""
             }
            },
            "type": "scatterpolargl"
           }
          ],
          "scatterternary": [
           {
            "marker": {
             "colorbar": {
              "outlinewidth": 0,
              "ticks": ""
             }
            },
            "type": "scatterternary"
           }
          ],
          "surface": [
           {
            "colorbar": {
             "outlinewidth": 0,
             "ticks": ""
            },
            "colorscale": [
             [
              0,
              "#0d0887"
             ],
             [
              0.1111111111111111,
              "#46039f"
             ],
             [
              0.2222222222222222,
              "#7201a8"
             ],
             [
              0.3333333333333333,
              "#9c179e"
             ],
             [
              0.4444444444444444,
              "#bd3786"
             ],
             [
              0.5555555555555556,
              "#d8576b"
             ],
             [
              0.6666666666666666,
              "#ed7953"
             ],
             [
              0.7777777777777778,
              "#fb9f3a"
             ],
             [
              0.8888888888888888,
              "#fdca26"
             ],
             [
              1,
              "#f0f921"
             ]
            ],
            "type": "surface"
           }
          ],
          "table": [
           {
            "cells": {
             "fill": {
              "color": "#EBF0F8"
             },
             "line": {
              "color": "white"
             }
            },
            "header": {
             "fill": {
              "color": "#C8D4E3"
             },
             "line": {
              "color": "white"
             }
            },
            "type": "table"
           }
          ]
         },
         "layout": {
          "annotationdefaults": {
           "arrowcolor": "#2a3f5f",
           "arrowhead": 0,
           "arrowwidth": 1
          },
          "autotypenumbers": "strict",
          "coloraxis": {
           "colorbar": {
            "outlinewidth": 0,
            "ticks": ""
           }
          },
          "colorscale": {
           "diverging": [
            [
             0,
             "#8e0152"
            ],
            [
             0.1,
             "#c51b7d"
            ],
            [
             0.2,
             "#de77ae"
            ],
            [
             0.3,
             "#f1b6da"
            ],
            [
             0.4,
             "#fde0ef"
            ],
            [
             0.5,
             "#f7f7f7"
            ],
            [
             0.6,
             "#e6f5d0"
            ],
            [
             0.7,
             "#b8e186"
            ],
            [
             0.8,
             "#7fbc41"
            ],
            [
             0.9,
             "#4d9221"
            ],
            [
             1,
             "#276419"
            ]
           ],
           "sequential": [
            [
             0,
             "#0d0887"
            ],
            [
             0.1111111111111111,
             "#46039f"
            ],
            [
             0.2222222222222222,
             "#7201a8"
            ],
            [
             0.3333333333333333,
             "#9c179e"
            ],
            [
             0.4444444444444444,
             "#bd3786"
            ],
            [
             0.5555555555555556,
             "#d8576b"
            ],
            [
             0.6666666666666666,
             "#ed7953"
            ],
            [
             0.7777777777777778,
             "#fb9f3a"
            ],
            [
             0.8888888888888888,
             "#fdca26"
            ],
            [
             1,
             "#f0f921"
            ]
           ],
           "sequentialminus": [
            [
             0,
             "#0d0887"
            ],
            [
             0.1111111111111111,
             "#46039f"
            ],
            [
             0.2222222222222222,
             "#7201a8"
            ],
            [
             0.3333333333333333,
             "#9c179e"
            ],
            [
             0.4444444444444444,
             "#bd3786"
            ],
            [
             0.5555555555555556,
             "#d8576b"
            ],
            [
             0.6666666666666666,
             "#ed7953"
            ],
            [
             0.7777777777777778,
             "#fb9f3a"
            ],
            [
             0.8888888888888888,
             "#fdca26"
            ],
            [
             1,
             "#f0f921"
            ]
           ]
          },
          "colorway": [
           "#636efa",
           "#EF553B",
           "#00cc96",
           "#ab63fa",
           "#FFA15A",
           "#19d3f3",
           "#FF6692",
           "#B6E880",
           "#FF97FF",
           "#FECB52"
          ],
          "font": {
           "color": "#2a3f5f"
          },
          "geo": {
           "bgcolor": "white",
           "lakecolor": "white",
           "landcolor": "white",
           "showlakes": true,
           "showland": true,
           "subunitcolor": "#C8D4E3"
          },
          "hoverlabel": {
           "align": "left"
          },
          "hovermode": "closest",
          "mapbox": {
           "style": "light"
          },
          "paper_bgcolor": "white",
          "plot_bgcolor": "white",
          "polar": {
           "angularaxis": {
            "gridcolor": "#EBF0F8",
            "linecolor": "#EBF0F8",
            "ticks": ""
           },
           "bgcolor": "white",
           "radialaxis": {
            "gridcolor": "#EBF0F8",
            "linecolor": "#EBF0F8",
            "ticks": ""
           }
          },
          "scene": {
           "xaxis": {
            "backgroundcolor": "white",
            "gridcolor": "#DFE8F3",
            "gridwidth": 2,
            "linecolor": "#EBF0F8",
            "showbackground": true,
            "ticks": "",
            "zerolinecolor": "#EBF0F8"
           },
           "yaxis": {
            "backgroundcolor": "white",
            "gridcolor": "#DFE8F3",
            "gridwidth": 2,
            "linecolor": "#EBF0F8",
            "showbackground": true,
            "ticks": "",
            "zerolinecolor": "#EBF0F8"
           },
           "zaxis": {
            "backgroundcolor": "white",
            "gridcolor": "#DFE8F3",
            "gridwidth": 2,
            "linecolor": "#EBF0F8",
            "showbackground": true,
            "ticks": "",
            "zerolinecolor": "#EBF0F8"
           }
          },
          "shapedefaults": {
           "line": {
            "color": "#2a3f5f"
           }
          },
          "ternary": {
           "aaxis": {
            "gridcolor": "#DFE8F3",
            "linecolor": "#A2B1C6",
            "ticks": ""
           },
           "baxis": {
            "gridcolor": "#DFE8F3",
            "linecolor": "#A2B1C6",
            "ticks": ""
           },
           "bgcolor": "white",
           "caxis": {
            "gridcolor": "#DFE8F3",
            "linecolor": "#A2B1C6",
            "ticks": ""
           }
          },
          "title": {
           "x": 0.05
          },
          "xaxis": {
           "automargin": true,
           "gridcolor": "#EBF0F8",
           "linecolor": "#EBF0F8",
           "ticks": "",
           "title": {
            "standoff": 15
           },
           "zerolinecolor": "#EBF0F8",
           "zerolinewidth": 2
          },
          "yaxis": {
           "automargin": true,
           "gridcolor": "#EBF0F8",
           "linecolor": "#EBF0F8",
           "ticks": "",
           "title": {
            "standoff": 15
           },
           "zerolinecolor": "#EBF0F8",
           "zerolinewidth": 2
          }
         }
        },
        "title": {
         "text": "🔄 아라미스의 결과: 유의한 변화 있음 (r = 0.990)"
        },
        "xaxis": {
         "anchor": "y",
         "domain": [
          0,
          0.45
         ]
        },
        "xaxis2": {
         "anchor": "y2",
         "domain": [
          0.55,
          1
         ]
        },
        "xaxis3": {
         "anchor": "y3",
         "domain": [
          0,
          0.45
         ],
         "title": {
          "text": "다이어트 전"
         }
        },
        "xaxis4": {
         "anchor": "y4",
         "domain": [
          0.55,
          1
         ],
         "title": {
          "text": "체중 변화 (kg)"
         }
        },
        "yaxis": {
         "anchor": "x",
         "domain": [
          0.625,
          1
         ]
        },
        "yaxis2": {
         "anchor": "x2",
         "domain": [
          0.625,
          1
         ]
        },
        "yaxis3": {
         "anchor": "x3",
         "domain": [
          0,
          0.375
         ],
         "title": {
          "text": "다이어트 후"
         }
        },
        "yaxis4": {
         "anchor": "x4",
         "domain": [
          0,
          0.375
         ],
         "ticktext": [
          "90% CI",
          "95% CI",
          "99% CI"
         ],
         "tickvals": [
          0.5,
          1,
          1.5
         ],
         "title": {
          "text": "신뢰수준"
         }
        }
       }
      }
     },
     "metadata": {},
     "output_type": "display_data"
    },
    {
     "name": "stdout",
     "output_type": "stream",
     "text": [
      "\n",
      "🔄 아라미스의 보고서:\n",
      "\n",
      "📊 검정 결과:\n",
      "\n",
      "   • 참가자 수: 20명\n",
      "\n",
      "   • 다이어트 전 평균: 68.3kg (SD: 9.6kg)\n",
      "\n",
      "   • 다이어트 후 평균: 65.7kg (SD: 9.9kg)\n",
      "\n",
      "   • 평균 체중 변화: -2.6kg\n",
      "\n",
      "   • t-통계량: -8.011\n",
      "\n",
      "   • p-값: 0.0000\n",
      "\n",
      "\n",
      "\n",
      "🎯 체중 변화 95% 신뢰구간: [-3.3, -1.9]kg\n",
      "\n",
      "📏 효과크기 (Cohen's d): -1.791\n",
      "\n",
      "🔗 전후 상관계수: 0.990\n",
      "\n",
      "\n",
      "\n",
      "🎉 결론: 다이어트 프로그램이 유의한 체중 감소 효과가 있습니다!\n",
      "\n",
      "💡 해석: 참가자들이 유의하게 체중을 감량했습니다.\n",
      "\n",
      "\n",
      "\n",
      "📈 그래프 해석 가이드:\n",
      "\n",
      "1️⃣ **전후 비교 (개별 선)**:\n",
      "   - 대부분의 선이 하향 → 체중 감소 경향\n",
      "   - 개인차 존재하지만 전체적 패턴 일관됨\n",
      "\n",
      "2️⃣ **차이값 분포**:\n",
      "   - 분포가 음수 영역에 집중 → 체중 감소가 주된 효과\n",
      "   - 평균(-2.6kg)이 0보다 확실히 왼쪽 → 통계적 유의성\n",
      "\n",
      "3️⃣ **전후 산점도**:\n",
      "   - 높은 상관(r=0.99) → 체중 순위 유지됨\n",
      "   - 점들이 대각선 아래 → 일관된 체중 감소\n",
      "\n",
      "4️⃣ **신뢰구간 시각화**:\n",
      "   - 모든 신뢰수준(90%, 95%, 99%)에서 0을 포함하지 않음\n",
      "   - 귀무가설 기각: 체중 변화가 통계적으로 유의함\n",
      "   - 좁은 신뢰구간: 효과 추정이 정밀함\n",
      "\n"
     ]
    }
   ],
   "source": [
    "# 🔄 아라미스의 모험: Paired t-test 시뮬레이션\n",
    "class PairedTTestHero:\n",
    "    def __init__(self, name=\"아라미스\"):\n",
    "        self.name = name\n",
    "        self.mission = \"동일 개체의 전후 변화 탐지하기\"\n",
    "    \n",
    "    def perform_test(self, before, after, alpha=0.05, alternative='two-sided'):\n",
    "        \"\"\"Paired t-test 수행\"\"\"\n",
    "        \n",
    "        # 차이값 계산\n",
    "        differences = np.array(after) - np.array(before)\n",
    "        \n",
    "        n = len(differences)\n",
    "        mean_diff = np.mean(differences)\n",
    "        std_diff = np.std(differences, ddof=1)\n",
    "        \n",
    "        # t-통계량 계산\n",
    "        t_statistic = mean_diff / (std_diff / np.sqrt(n))\n",
    "        \n",
    "        # 자유도\n",
    "        df = n - 1\n",
    "        \n",
    "        # p-값 계산\n",
    "        if alternative == 'two-sided':\n",
    "            p_value = 2 * (1 - stats.t.cdf(abs(t_statistic), df))\n",
    "            critical_t = stats.t.ppf(1 - alpha/2, df)\n",
    "            reject_condition = abs(t_statistic) > critical_t\n",
    "        elif alternative == 'greater':\n",
    "            p_value = 1 - stats.t.cdf(t_statistic, df)\n",
    "            critical_t = stats.t.ppf(1 - alpha, df)\n",
    "            reject_condition = t_statistic > critical_t\n",
    "        else:  # 'less'\n",
    "            p_value = stats.t.cdf(t_statistic, df)\n",
    "            critical_t = stats.t.ppf(alpha, df)\n",
    "            reject_condition = t_statistic < critical_t\n",
    "        \n",
    "        # 신뢰구간 (차이의 평균에 대한)\n",
    "        margin_error = stats.t.ppf(1 - alpha/2, df) * (std_diff / np.sqrt(n))\n",
    "        ci_lower = mean_diff - margin_error\n",
    "        ci_upper = mean_diff + margin_error\n",
    "        \n",
    "        # 효과크기 (Cohen's d for paired samples)\n",
    "        cohens_d = mean_diff / std_diff\n",
    "        \n",
    "        # 상관계수 (before vs after)\n",
    "        correlation = np.corrcoef(before, after)[0, 1]\n",
    "        \n",
    "        return {\n",
    "            'n': n,\n",
    "            'mean_before': np.mean(before),\n",
    "            'mean_after': np.mean(after),\n",
    "            'std_before': np.std(before, ddof=1),\n",
    "            'std_after': np.std(after, ddof=1),\n",
    "            'mean_diff': mean_diff,\n",
    "            'std_diff': std_diff,\n",
    "            'differences': differences,\n",
    "            't_statistic': t_statistic,\n",
    "            'df': df,\n",
    "            'p_value': p_value,\n",
    "            'critical_t': critical_t,\n",
    "            'reject_null': reject_condition,\n",
    "            'ci_lower': ci_lower,\n",
    "            'ci_upper': ci_upper,\n",
    "            'cohens_d': cohens_d,\n",
    "            'correlation': correlation,\n",
    "            'alpha': alpha,\n",
    "            'alternative': alternative\n",
    "        }\n",
    "    \n",
    "    def visualize_test(self, result, before, after, before_name='Before', after_name='After'):\n",
    "        \"\"\"Paired t-test 결과 시각화 (상세 설명 포함)\n",
    "        \n",
    "        4개의 그래프로 구성:\n",
    "        1. 전후 비교 (개별 선): 각 참가자의 개별 변화를 선으로 연결\n",
    "        2. 차이값 분포: 전후 차이의 히스토그램\n",
    "        3. 전후 산점도: 상관관계 확인\n",
    "        4. 차이값 신뢰구간: 평균 차이의 신뢰구간 시각화\n",
    "        \"\"\"\n",
    "        \n",
    "        fig = make_subplots(\n",
    "            rows=2, cols=2,\n",
    "            subplot_titles=[\n",
    "                '1. 전후 비교 (개별 선)',\n",
    "                '2. 차이값 분포',\n",
    "                '3. 전후 산점도',\n",
    "                '4. 차이값 신뢰구간'\n",
    "            ],\n",
    "            specs=[\n",
    "                [{'type': 'scatter'}, {'type': 'histogram'}],\n",
    "                [{'type': 'scatter'}, {'type': 'scatter'}]\n",
    "            ]\n",
    "        )\n",
    "        \n",
    "        # 📊 그래프 1: 전후 비교 (개별 선)\n",
    "        # - 회색 선들: 각 참가자의 개별적인 다이어트 전→후 체중 변화\n",
    "        # - 선의 기울기: 변화의 크기 (가파를수록 큰 변화)\n",
    "        # - 선의 방향: 하향선=체중감소, 상향선=체중증가, 평행=변화없음\n",
    "        for i in range(len(before)):\n",
    "            fig.add_trace(\n",
    "                go.Scatter(\n",
    "                    x=[before_name, after_name],\n",
    "                    y=[before[i], after[i]],\n",
    "                    mode='lines+markers',\n",
    "                    line=dict(width=1, color='lightgray'),\n",
    "                    marker=dict(size=4),\n",
    "                    showlegend=False,\n",
    "                    hovertemplate=f'개체 {i+1}: %{{y}}<extra></extra>'\n",
    "                ),\n",
    "                row=1, col=1\n",
    "            )\n",
    "        \n",
    "        # 빨간 굵은 선: 전체 평균의 변화 (가장 중요한 정보)\n",
    "        fig.add_trace(\n",
    "            go.Scatter(\n",
    "                x=[before_name, after_name],\n",
    "                y=[result['mean_before'], result['mean_after']],\n",
    "                mode='lines+markers',\n",
    "                line=dict(width=4, color='red'),\n",
    "                marker=dict(size=10, color='red'),\n",
    "                name='평균'\n",
    "            ),\n",
    "            row=1, col=1\n",
    "        )\n",
    "        \n",
    "        # 📊 그래프 2: 차이값 분포\n",
    "        # - 녹색 히스토그램: 각 참가자의 (후-전) 체중 차이 분포\n",
    "        # - 음수 영역: 체중 감소한 참가자들\n",
    "        # - 양수 영역: 체중 증가한 참가자들  \n",
    "        # - 분포 형태: 정규분포에 가까우면 t-test 가정 만족\n",
    "        fig.add_trace(\n",
    "            go.Histogram(\n",
    "                x=result['differences'],\n",
    "                nbinsx=15,\n",
    "                name='차이값',\n",
    "                marker_color='lightgreen',\n",
    "                opacity=0.7\n",
    "            ),\n",
    "            row=1, col=2\n",
    "        )\n",
    "        \n",
    "        # 빨간 실선: 평균 차이값 (검정통계량 계산의 핵심)\n",
    "        fig.add_vline(\n",
    "            x=result['mean_diff'],\n",
    "            line_dash=\"solid\",\n",
    "            line_color=\"red\",\n",
    "            annotation_text=f\"평균 차이: {result['mean_diff']:.2f}\",\n",
    "            row=1, col=2\n",
    "        )\n",
    "        \n",
    "        # 검은 점선: 귀무가설 기준선 (H₀: 차이=0)\n",
    "        fig.add_vline(\n",
    "            x=0,\n",
    "            line_dash=\"dash\",\n",
    "            line_color=\"black\",\n",
    "            annotation_text=\"차이 없음\",\n",
    "            row=1, col=2\n",
    "        )\n",
    "        \n",
    "        # 📊 그래프 3: 전후 산점도\n",
    "        # - 파란 점들: 각 참가자의 (전 체중, 후 체중) 좌표\n",
    "        # - 점의 위치: 대각선 아래=체중감소, 위=체중증가, 선상=변화없음\n",
    "        # - 상관계수 r: 1에 가까울수록 개인별 체중 순위가 유지됨\n",
    "        # - 높은 상관(r>0.9): paired t-test가 효과적임을 시사\n",
    "        fig.add_trace(\n",
    "            go.Scatter(\n",
    "                x=before,\n",
    "                y=after,\n",
    "                mode='markers',\n",
    "                name='개별 데이터',\n",
    "                marker=dict(size=8, color='blue', opacity=0.6)\n",
    "            ),\n",
    "            row=2, col=1\n",
    "        )\n",
    "        \n",
    "        # 회색 대각선: y=x 기준선 (변화 없음을 나타냄)\n",
    "        min_val = min(min(before), min(after))\n",
    "        max_val = max(max(before), max(after))\n",
    "        fig.add_trace(\n",
    "            go.Scatter(\n",
    "                x=[min_val, max_val],\n",
    "                y=[min_val, max_val],\n",
    "                mode='lines',\n",
    "                line=dict(dash='dash', color='gray'),\n",
    "                name='변화 없음'\n",
    "            ),\n",
    "            row=2, col=1\n",
    "        )\n",
    "        \n",
    "        # 📊 그래프 4: 차이값 신뢰구간 (Forest plot 스타일)\n",
    "        # - 녹색 선: 95% 신뢰구간 [하한, 상한]\n",
    "        # - 빨간 다이아몬드: 평균 차이 (점추정값)\n",
    "        # - 검은 점선(0): 귀무가설 기준선\n",
    "        # \n",
    "        # 🔍 해석 방법:\n",
    "        # - 신뢰구간이 0을 포함하지 않음 → 귀무가설 기각 (유의한 차이)\n",
    "        # - 신뢰구간이 0을 포함함 → 귀무가설 채택 (유의하지 않음)\n",
    "        # - 구간이 좁을수록 추정이 정밀함\n",
    "        \n",
    "        # y축을 더 의미있게 만들기 위해 여러 신뢰수준 표시\n",
    "        confidence_levels = [0.90, 0.95, 0.99]\n",
    "        y_positions = [0.5, 1.0, 1.5]\n",
    "        colors = ['lightgreen', 'green', 'darkgreen']\n",
    "        \n",
    "        for conf_level, y_pos, color in zip(confidence_levels, y_positions, colors):\n",
    "            margin = stats.t.ppf(1 - (1-conf_level)/2, result['df']) * (result['std_diff'] / np.sqrt(result['n']))\n",
    "            ci_low = result['mean_diff'] - margin\n",
    "            ci_up = result['mean_diff'] + margin\n",
    "            \n",
    "            fig.add_trace(\n",
    "                go.Scatter(\n",
    "                    x=[ci_low, ci_up],\n",
    "                    y=[y_pos, y_pos],\n",
    "                    mode='lines+markers',\n",
    "                    name=f'{int(conf_level*100)}% CI',\n",
    "                    line=dict(color=color, width=4),\n",
    "                    marker=dict(size=8),\n",
    "                    hovertemplate=f'{int(conf_level*100)}% CI: [{ci_low:.2f}, {ci_up:.2f}]<extra></extra>'\n",
    "                ),\n",
    "                row=2, col=2\n",
    "            )\n",
    "        \n",
    "        # 평균 차이 점 (모든 신뢰수준에 대해)\n",
    "        fig.add_trace(\n",
    "            go.Scatter(\n",
    "                x=[result['mean_diff']] * 3,\n",
    "                y=y_positions,\n",
    "                mode='markers',\n",
    "                name='평균 차이',\n",
    "                marker=dict(color='red', size=10, symbol='diamond'),\n",
    "                hovertemplate=f\"평균 차이: {result['mean_diff']:.2f}<extra></extra>\"\n",
    "            ),\n",
    "            row=2, col=2\n",
    "        )\n",
    "        \n",
    "        # 차이 없음 선 (귀무가설)\n",
    "        fig.add_vline(\n",
    "            x=0,\n",
    "            line_dash=\"dash\",\n",
    "            line_color=\"black\",\n",
    "            annotation_text=\"H₀: 변화=0\",\n",
    "            row=2, col=2\n",
    "        )\n",
    "        \n",
    "        # y축 레이블 업데이트\n",
    "        fig.update_yaxes(\n",
    "            ticktext=['90% CI', '95% CI', '99% CI'],\n",
    "            tickvals=[0.5, 1.0, 1.5],\n",
    "            title_text='신뢰수준',\n",
    "            row=2, col=2\n",
    "        )\n",
    "        \n",
    "        # x축 레이블\n",
    "        fig.update_xaxes(title_text='체중 변화 (kg)', row=2, col=2)\n",
    "        \n",
    "        # 레이아웃\n",
    "        decision = \"유의한 변화 있음\" if result['reject_null'] else \"유의한 변화 없음\"\n",
    "        \n",
    "        fig.update_layout(\n",
    "            title=f'🔄 {self.name}의 결과: {decision} (r = {result[\"correlation\"]:.3f})',\n",
    "            height=800\n",
    "        )\n",
    "        \n",
    "        # 축 레이블 업데이트\n",
    "        fig.update_xaxes(title_text=before_name, row=2, col=1)\n",
    "        fig.update_yaxes(title_text=after_name, row=2, col=1)\n",
    "        \n",
    "        return fig\n",
    "\n",
    "# 아라미스 인스턴스 생성\n",
    "aramis = PairedTTestHero(\"아라미스\")\n",
    "\n",
    "# 예제 데이터: 다이어트 프로그램 전후 체중 변화\n",
    "np.random.seed(42)\n",
    "n_participants = 20\n",
    "\n",
    "# 참가자들의 초기 체중 (개인차 반영)\n",
    "initial_weights = np.random.normal(70, 10, n_participants)\n",
    "\n",
    "# 다이어트 효과 (평균 3kg 감량, 개인차 있음)\n",
    "weight_loss = np.random.normal(3, 1.5, n_participants)\n",
    "\n",
    "# 다이어트 전후 체중\n",
    "before_weight = initial_weights\n",
    "after_weight = initial_weights - weight_loss  # 체중 감소\n",
    "\n",
    "print(\"🏃‍♀️ 사례: 다이어트 프로그램 효과 분석\")\n",
    "print(f\"👥 참가자 수: {n_participants}명\")\n",
    "print(f\"⚖️ 다이어트 전 평균 체중: {np.mean(before_weight):.1f}kg\")\n",
    "print(f\"⚖️ 다이어트 후 평균 체중: {np.mean(after_weight):.1f}kg\")\n",
    "print(f\"📉 평균 체중 변화: {np.mean(after_weight - before_weight):.1f}kg\")\n",
    "print(\"\")\n",
    "\n",
    "# 아라미스의 검정 수행\n",
    "aramis_result = aramis.perform_test(\n",
    "    before_weight, after_weight, \n",
    "    alpha=0.05, alternative='less'  # 체중이 감소했는지 확인 (단측검정)\n",
    ")\n",
    "\n",
    "# 결과 시각화\n",
    "fig_aramis = aramis.visualize_test(\n",
    "    aramis_result, before_weight, after_weight,\n",
    "    '다이어트 전', '다이어트 후'\n",
    ")\n",
    "fig_aramis.show()\n",
    "\n",
    "# 결과 해석\n",
    "print(f\"\"\"\\n🔄 {aramis.name}의 보고서:\\n\n",
    "📊 검정 결과:\\n\n",
    "   • 참가자 수: {aramis_result['n']}명\\n\n",
    "   • 다이어트 전 평균: {aramis_result['mean_before']:.1f}kg (SD: {aramis_result['std_before']:.1f}kg)\\n\n",
    "   • 다이어트 후 평균: {aramis_result['mean_after']:.1f}kg (SD: {aramis_result['std_after']:.1f}kg)\\n\n",
    "   • 평균 체중 변화: {aramis_result['mean_diff']:.1f}kg\\n\n",
    "   • t-통계량: {aramis_result['t_statistic']:.3f}\\n\n",
    "   • p-값: {aramis_result['p_value']:.4f}\\n\n",
    "\\n\n",
    "🎯 체중 변화 95% 신뢰구간: [{aramis_result['ci_lower']:.1f}, {aramis_result['ci_upper']:.1f}]kg\\n\n",
    "📏 효과크기 (Cohen's d): {aramis_result['cohens_d']:.3f}\\n\n",
    "🔗 전후 상관계수: {aramis_result['correlation']:.3f}\\n\n",
    "\\n\n",
    "{'🎉 결론: 다이어트 프로그램이 유의한 체중 감소 효과가 있습니다!' if aramis_result['reject_null'] else '😔 결론: 다이어트 프로그램의 효과가 통계적으로 유의하지 않습니다.'}\\n\n",
    "💡 해석: {'참가자들이 유의하게 체중을 감량했습니다.' if aramis_result['reject_null'] else '체중 변화가 우연에 의한 것일 수 있습니다.'}\\n\n",
    "\"\"\")\n",
    "\n",
    "# 그래프 해석 가이드 추가\n",
    "print(\"\"\"\n",
    "📈 그래프 해석 가이드:\n",
    "\n",
    "1️⃣ **전후 비교 (개별 선)**:\n",
    "   - 대부분의 선이 하향 → 체중 감소 경향\n",
    "   - 개인차 존재하지만 전체적 패턴 일관됨\n",
    "   \n",
    "2️⃣ **차이값 분포**:\n",
    "   - 분포가 음수 영역에 집중 → 체중 감소가 주된 효과\n",
    "   - 평균(-2.6kg)이 0보다 확실히 왼쪽 → 통계적 유의성\n",
    "   \n",
    "3️⃣ **전후 산점도**:\n",
    "   - 높은 상관(r=0.99) → 체중 순위 유지됨\n",
    "   - 점들이 대각선 아래 → 일관된 체중 감소\n",
    "   \n",
    "4️⃣ **신뢰구간 시각화**:\n",
    "   - 모든 신뢰수준(90%, 95%, 99%)에서 0을 포함하지 않음\n",
    "   - 귀무가설 기각: 체중 변화가 통계적으로 유의함\n",
    "   - 좁은 신뢰구간: 효과 추정이 정밀함\n",
    "\"\"\")"
   ]
  },
  {
   "cell_type": "markdown",
   "metadata": {},
   "source": [
    "## 📊 4. 효과크기와 검정력: 통계적 유의성을 넘어서\n",
    "\n",
    "### 🤔 p-값만으로 충분할까?\n",
    "\n",
    "통계적 유의성(p < 0.05)은 **차이가 존재한다**는 것을 알려주지만, **얼마나 중요한 차이인지**는 말해주지 않습니다.\n",
    "\n",
    "### 📏 효과크기 (Effect Size): Cohen's d\n",
    "\n",
    "**Cohen's d**는 두 평균 간의 차이를 **표준편차 단위**로 표현한 것입니다.\n",
    "\n",
    "#### One-sample t-test:\n",
    "$$d = \\frac{\\bar{X} - \\mu_0}{s}$$\n",
    "\n",
    "#### Independent t-test:\n",
    "$$d = \\frac{\\bar{X_1} - \\bar{X_2}}{s_{pooled}}$$\n",
    "\n",
    "#### Paired t-test:\n",
    "$$d = \\frac{\\bar{D}}{s_D}$$\n",
    "\n",
    "### 🎯 Cohen's d 해석 기준\n",
    "\n",
    "| Cohen's d | 효과크기 | 해석 | 예시 |\n",
    "|-----------|----------|------|------|\n",
    "| 0.0 - 0.2 | 매우 작음 | 실용적 의미 거의 없음 | 키 차이 1-2cm |\n",
    "| 0.2 - 0.5 | 작음 | 작지만 의미있는 차이 | 시험점수 5-10점 차이 |\n",
    "| 0.5 - 0.8 | 중간 | 육안으로 관찰 가능한 차이 | 체중 5-7kg 차이 |\n",
    "| 0.8+ | 큼 | 명확하고 중요한 차이 | 치료 전후 극적 개선 |\n",
    "\n",
    "### ⚡ 검정력 (Statistical Power)\n",
    "\n",
    "**검정력**은 실제로 차이가 있을 때 이를 **올바르게 탐지할 확률**입니다.\n",
    "\n",
    "**Power = 1 - β** (β는 Type II 오류율)\n",
    "\n",
    "#### 검정력에 영향을 미치는 요소:\n",
    "1. **효과크기** (클수록 검정력 ↑)\n",
    "2. **표본크기** (클수록 검정력 ↑)\n",
    "3. **유의수준 α** (클수록 검정력 ↑)\n",
    "4. **분산** (작을수록 검정력 ↑)"
   ]
  },
  {
   "cell_type": "code",
   "execution_count": 13,
   "metadata": {},
   "outputs": [
    {
     "data": {
      "application/vnd.plotly.v1+json": {
       "config": {
        "plotlyServerURL": "https://plot.ly"
       },
       "data": [
        {
         "line": {
          "width": 2
         },
         "mode": "lines",
         "name": "n = 10",
         "type": "scatter",
         "x": {
          "bdata": "AAAAAAAAAACamZmZmZm5P5qZmZmZmck/NDMzMzMz0z+amZmZmZnZPwAAAAAAAOA/NDMzMzMz4z9nZmZmZmbmP5qZmZmZmek/zczMzMzM7D8AAAAAAADwP5qZmZmZmfE/NDMzMzMz8z/NzMzMzMz0P2dmZmZmZvY/AAAAAAAA+D+amZmZmZn5PzQzMzMzM/s/zczMzMzM/D9nZmZmZmb+PwAAAAAAAABA",
          "dtype": "f8"
         },
         "xaxis": "x",
         "y": [
          0.04999999999543214,
          0.05929030088786624,
          0.08765715402159535,
          0.13613625848788136,
          0.2051485389848814,
          0.2931756064984804,
          0.3959183320574867,
          0.5064218068513231,
          0.6162327634555631,
          0.717181217107993,
          0.8030968566182342,
          0.8708339905254051,
          0.9203333855816005,
          0.953877394014375,
          0.9749678966673296,
          0.9872769125825684,
          0.9939484287750234,
          0.9973079992981014,
          0.9988804858177397,
          0.9995648900659095,
          0.999841987435147
         ],
         "yaxis": "y"
        },
        {
         "line": {
          "width": 2
         },
         "mode": "lines",
         "name": "n = 20",
         "type": "scatter",
         "x": {
          "bdata": "AAAAAAAAAACamZmZmZm5P5qZmZmZmck/NDMzMzMz0z+amZmZmZnZPwAAAAAAAOA/NDMzMzMz4z9nZmZmZmbmP5qZmZmZmek/zczMzMzM7D8AAAAAAADwP5qZmZmZmfE/NDMzMzMz8z/NzMzMzMz0P2dmZmZmZvY/AAAAAAAA+D+amZmZmZn5PzQzMzMzM/s/zczMzMzM/D9nZmZmZmb+PwAAAAAAAABA",
          "dtype": "f8"
         },
         "xaxis": "x",
         "y": [
          0.05000000000000471,
          0.07094115697037551,
          0.13595628876737798,
          0.24708908996810874,
          0.396993825609812,
          0.564504418439038,
          0.7210050995594284,
          0.8435058764333119,
          0.9238987553885849,
          0.9681516433097676,
          0.9885912947787773,
          0.996515701623778,
          0.9990954035492384,
          0.9998007867212885,
          0.9999628453944049,
          0.9999941382763683,
          0.9999992184115031,
          0.9999999119773858,
          0.9999999916309947,
          0.9999999993284533,
          0.9999999999545319
         ],
         "yaxis": "y"
        },
        {
         "line": {
          "width": 2
         },
         "mode": "lines",
         "name": "n = 30",
         "type": "scatter",
         "x": {
          "bdata": "AAAAAAAAAACamZmZmZm5P5qZmZmZmck/NDMzMzMz0z+amZmZmZnZPwAAAAAAAOA/NDMzMzMz4z9nZmZmZmbmP5qZmZmZmek/zczMzMzM7D8AAAAAAADwP5qZmZmZmfE/NDMzMzMz8z/NzMzMzMz0P2dmZmZmZvY/AAAAAAAA+D+amZmZmZn5PzQzMzMzM/s/zczMzMzM/D9nZmZmZmb+PwAAAAAAAABA",
          "dtype": "f8"
         },
         "xaxis": "x",
         "y": [
          0.050000000000000044,
          0.08272600819885279,
          0.18518338712591942,
          0.35546273116552485,
          0.5628136071410574,
          0.7539647157437905,
          0.8879621039099166,
          0.959446073764887,
          0.9884752400890072,
          0.9974505527109435,
          0.9995636009612033,
          0.9999424406727602,
          0.9999941677819171,
          0.9999995470066465,
          0.999999973072288,
          0.9999999987763708,
          0.9999999999575312,
          0.9999999999988749,
          0.9999999999999772,
          0.9999999999999997,
          null
         ],
         "yaxis": "y"
        },
        {
         "line": {
          "width": 2
         },
         "mode": "lines",
         "name": "n = 50",
         "type": "scatter",
         "x": {
          "bdata": "AAAAAAAAAACamZmZmZm5P5qZmZmZmck/NDMzMzMz0z+amZmZmZnZPwAAAAAAAOA/NDMzMzMz4z9nZmZmZmbmP5qZmZmZmek/zczMzMzM7D8AAAAAAADwP5qZmZmZmfE/NDMzMzMz8z/NzMzMzMz0P2dmZmZmZvY/AAAAAAAA+D+amZmZmZn5PzQzMzMzM/s/zczMzMzM/D9nZmZmZmb+PwAAAAAAAABA",
          "dtype": "f8"
         },
         "xaxis": "x",
         "y": [
          0.050000000000000044,
          0.10662906419444307,
          0.28359241466747354,
          0.5476570389705147,
          0.7917871892678123,
          0.9338975812613689,
          0.9860313448023349,
          0.9980783193467935,
          0.9998302862283358,
          0.9999904648615929,
          0.9999996612427079,
          0.99999999242111,
          0.9999999998935325,
          null,
          null,
          null,
          null,
          1,
          1,
          null,
          1
         ],
         "yaxis": "y"
        },
        {
         "line": {
          "color": "blue",
          "width": 3
         },
         "mode": "lines",
         "name": "d = 0.5 (중간 효과)",
         "type": "scatter",
         "x": {
          "bdata": "BQoPFBkeIygtMjc8QUZLUFVaX2Q=",
          "dtype": "i1"
         },
         "xaxis": "x2",
         "y": [
          0.14051668999029754,
          0.2931756064984804,
          0.4379267106888163,
          0.564504418439038,
          0.6697077041795134,
          0.7539647157437905,
          0.8195357696014,
          0.8693981350238591,
          0.9065953041372932,
          0.9338975812613689,
          0.9536589356083879,
          0.9677885873049401,
          0.9777830668620087,
          0.984784833886876,
          0.989647709276605,
          0.9929986711762145,
          0.9952913174762845,
          0.9968496282778619,
          0.9979024250384696,
          0.9986097259860682
         ],
         "yaxis": "y2"
        },
        {
         "marker": {
          "color": [
           "lightgray",
           "yellow",
           "orange",
           "red"
          ]
         },
         "name": "효과크기 기준",
         "text": [
          "0.1",
          "0.35",
          "0.65",
          "1.0"
         ],
         "textposition": "auto",
         "type": "bar",
         "x": [
          "매우 작음<br>(0.0-0.2)",
          "작음<br>(0.2-0.5)",
          "중간<br>(0.5-0.8)",
          "큼<br>(0.8+)"
         ],
         "xaxis": "x3",
         "y": [
          0.1,
          0.35,
          0.65,
          1
         ],
         "yaxis": "y3"
        },
        {
         "marker": {
          "color": [
           "red",
           "yellow",
           "red",
           "orange"
          ]
         },
         "name": "실제 사례",
         "text": [
          "1.4",
          "0.3",
          "0.8",
          "0.6"
         ],
         "textposition": "auto",
         "type": "bar",
         "x": [
          "키 차이\n(남녀)",
          "교육 효과\n(일반적)",
          "치료 효과\n(우울증)",
          "약물 효과\n(혈압)"
         ],
         "xaxis": "x4",
         "y": [
          1.4,
          0.3,
          0.8,
          0.6
         ],
         "yaxis": "y4"
        }
       ],
       "layout": {
        "annotations": [
         {
          "font": {
           "size": 16
          },
          "showarrow": false,
          "text": "1. 효과크기별 검정력 (One-sample)",
          "x": 0.225,
          "xanchor": "center",
          "xref": "paper",
          "y": 1,
          "yanchor": "bottom",
          "yref": "paper"
         },
         {
          "font": {
           "size": 16
          },
          "showarrow": false,
          "text": "2. 표본크기별 검정력 비교",
          "x": 0.775,
          "xanchor": "center",
          "xref": "paper",
          "y": 1,
          "yanchor": "bottom",
          "yref": "paper"
         },
         {
          "font": {
           "size": 16
          },
          "showarrow": false,
          "text": "3. 효과크기 해석 기준",
          "x": 0.225,
          "xanchor": "center",
          "xref": "paper",
          "y": 0.375,
          "yanchor": "bottom",
          "yref": "paper"
         },
         {
          "font": {
           "size": 16
          },
          "showarrow": false,
          "text": "4. 실제 사례별 효과크기",
          "x": 0.775,
          "xanchor": "center",
          "xref": "paper",
          "y": 0.375,
          "yanchor": "bottom",
          "yref": "paper"
         },
         {
          "showarrow": false,
          "text": "권장 검정력 (0.8)",
          "x": 1,
          "xanchor": "right",
          "xref": "x domain",
          "y": 0.8,
          "yanchor": "bottom",
          "yref": "y"
         },
         {
          "showarrow": false,
          "text": "권장 검정력 (0.8)",
          "x": 1,
          "xanchor": "right",
          "xref": "x2 domain",
          "y": 0.8,
          "yanchor": "bottom",
          "yref": "y2"
         }
        ],
        "height": 800,
        "shapes": [
         {
          "line": {
           "color": "red",
           "dash": "dash"
          },
          "type": "line",
          "x0": 0,
          "x1": 1,
          "xref": "x domain",
          "y0": 0.8,
          "y1": 0.8,
          "yref": "y"
         },
         {
          "line": {
           "color": "red",
           "dash": "dash"
          },
          "type": "line",
          "x0": 0,
          "x1": 1,
          "xref": "x2 domain",
          "y0": 0.8,
          "y1": 0.8,
          "yref": "y2"
         }
        ],
        "template": {
         "data": {
          "bar": [
           {
            "error_x": {
             "color": "#2a3f5f"
            },
            "error_y": {
             "color": "#2a3f5f"
            },
            "marker": {
             "line": {
              "color": "white",
              "width": 0.5
             },
             "pattern": {
              "fillmode": "overlay",
              "size": 10,
              "solidity": 0.2
             }
            },
            "type": "bar"
           }
          ],
          "barpolar": [
           {
            "marker": {
             "line": {
              "color": "white",
              "width": 0.5
             },
             "pattern": {
              "fillmode": "overlay",
              "size": 10,
              "solidity": 0.2
             }
            },
            "type": "barpolar"
           }
          ],
          "carpet": [
           {
            "aaxis": {
             "endlinecolor": "#2a3f5f",
             "gridcolor": "#C8D4E3",
             "linecolor": "#C8D4E3",
             "minorgridcolor": "#C8D4E3",
             "startlinecolor": "#2a3f5f"
            },
            "baxis": {
             "endlinecolor": "#2a3f5f",
             "gridcolor": "#C8D4E3",
             "linecolor": "#C8D4E3",
             "minorgridcolor": "#C8D4E3",
             "startlinecolor": "#2a3f5f"
            },
            "type": "carpet"
           }
          ],
          "choropleth": [
           {
            "colorbar": {
             "outlinewidth": 0,
             "ticks": ""
            },
            "type": "choropleth"
           }
          ],
          "contour": [
           {
            "colorbar": {
             "outlinewidth": 0,
             "ticks": ""
            },
            "colorscale": [
             [
              0,
              "#0d0887"
             ],
             [
              0.1111111111111111,
              "#46039f"
             ],
             [
              0.2222222222222222,
              "#7201a8"
             ],
             [
              0.3333333333333333,
              "#9c179e"
             ],
             [
              0.4444444444444444,
              "#bd3786"
             ],
             [
              0.5555555555555556,
              "#d8576b"
             ],
             [
              0.6666666666666666,
              "#ed7953"
             ],
             [
              0.7777777777777778,
              "#fb9f3a"
             ],
             [
              0.8888888888888888,
              "#fdca26"
             ],
             [
              1,
              "#f0f921"
             ]
            ],
            "type": "contour"
           }
          ],
          "contourcarpet": [
           {
            "colorbar": {
             "outlinewidth": 0,
             "ticks": ""
            },
            "type": "contourcarpet"
           }
          ],
          "heatmap": [
           {
            "colorbar": {
             "outlinewidth": 0,
             "ticks": ""
            },
            "colorscale": [
             [
              0,
              "#0d0887"
             ],
             [
              0.1111111111111111,
              "#46039f"
             ],
             [
              0.2222222222222222,
              "#7201a8"
             ],
             [
              0.3333333333333333,
              "#9c179e"
             ],
             [
              0.4444444444444444,
              "#bd3786"
             ],
             [
              0.5555555555555556,
              "#d8576b"
             ],
             [
              0.6666666666666666,
              "#ed7953"
             ],
             [
              0.7777777777777778,
              "#fb9f3a"
             ],
             [
              0.8888888888888888,
              "#fdca26"
             ],
             [
              1,
              "#f0f921"
             ]
            ],
            "type": "heatmap"
           }
          ],
          "histogram": [
           {
            "marker": {
             "pattern": {
              "fillmode": "overlay",
              "size": 10,
              "solidity": 0.2
             }
            },
            "type": "histogram"
           }
          ],
          "histogram2d": [
           {
            "colorbar": {
             "outlinewidth": 0,
             "ticks": ""
            },
            "colorscale": [
             [
              0,
              "#0d0887"
             ],
             [
              0.1111111111111111,
              "#46039f"
             ],
             [
              0.2222222222222222,
              "#7201a8"
             ],
             [
              0.3333333333333333,
              "#9c179e"
             ],
             [
              0.4444444444444444,
              "#bd3786"
             ],
             [
              0.5555555555555556,
              "#d8576b"
             ],
             [
              0.6666666666666666,
              "#ed7953"
             ],
             [
              0.7777777777777778,
              "#fb9f3a"
             ],
             [
              0.8888888888888888,
              "#fdca26"
             ],
             [
              1,
              "#f0f921"
             ]
            ],
            "type": "histogram2d"
           }
          ],
          "histogram2dcontour": [
           {
            "colorbar": {
             "outlinewidth": 0,
             "ticks": ""
            },
            "colorscale": [
             [
              0,
              "#0d0887"
             ],
             [
              0.1111111111111111,
              "#46039f"
             ],
             [
              0.2222222222222222,
              "#7201a8"
             ],
             [
              0.3333333333333333,
              "#9c179e"
             ],
             [
              0.4444444444444444,
              "#bd3786"
             ],
             [
              0.5555555555555556,
              "#d8576b"
             ],
             [
              0.6666666666666666,
              "#ed7953"
             ],
             [
              0.7777777777777778,
              "#fb9f3a"
             ],
             [
              0.8888888888888888,
              "#fdca26"
             ],
             [
              1,
              "#f0f921"
             ]
            ],
            "type": "histogram2dcontour"
           }
          ],
          "mesh3d": [
           {
            "colorbar": {
             "outlinewidth": 0,
             "ticks": ""
            },
            "type": "mesh3d"
           }
          ],
          "parcoords": [
           {
            "line": {
             "colorbar": {
              "outlinewidth": 0,
              "ticks": ""
             }
            },
            "type": "parcoords"
           }
          ],
          "pie": [
           {
            "automargin": true,
            "type": "pie"
           }
          ],
          "scatter": [
           {
            "fillpattern": {
             "fillmode": "overlay",
             "size": 10,
             "solidity": 0.2
            },
            "type": "scatter"
           }
          ],
          "scatter3d": [
           {
            "line": {
             "colorbar": {
              "outlinewidth": 0,
              "ticks": ""
             }
            },
            "marker": {
             "colorbar": {
              "outlinewidth": 0,
              "ticks": ""
             }
            },
            "type": "scatter3d"
           }
          ],
          "scattercarpet": [
           {
            "marker": {
             "colorbar": {
              "outlinewidth": 0,
              "ticks": ""
             }
            },
            "type": "scattercarpet"
           }
          ],
          "scattergeo": [
           {
            "marker": {
             "colorbar": {
              "outlinewidth": 0,
              "ticks": ""
             }
            },
            "type": "scattergeo"
           }
          ],
          "scattergl": [
           {
            "marker": {
             "colorbar": {
              "outlinewidth": 0,
              "ticks": ""
             }
            },
            "type": "scattergl"
           }
          ],
          "scattermap": [
           {
            "marker": {
             "colorbar": {
              "outlinewidth": 0,
              "ticks": ""
             }
            },
            "type": "scattermap"
           }
          ],
          "scattermapbox": [
           {
            "marker": {
             "colorbar": {
              "outlinewidth": 0,
              "ticks": ""
             }
            },
            "type": "scattermapbox"
           }
          ],
          "scatterpolar": [
           {
            "marker": {
             "colorbar": {
              "outlinewidth": 0,
              "ticks": ""
             }
            },
            "type": "scatterpolar"
           }
          ],
          "scatterpolargl": [
           {
            "marker": {
             "colorbar": {
              "outlinewidth": 0,
              "ticks": ""
             }
            },
            "type": "scatterpolargl"
           }
          ],
          "scatterternary": [
           {
            "marker": {
             "colorbar": {
              "outlinewidth": 0,
              "ticks": ""
             }
            },
            "type": "scatterternary"
           }
          ],
          "surface": [
           {
            "colorbar": {
             "outlinewidth": 0,
             "ticks": ""
            },
            "colorscale": [
             [
              0,
              "#0d0887"
             ],
             [
              0.1111111111111111,
              "#46039f"
             ],
             [
              0.2222222222222222,
              "#7201a8"
             ],
             [
              0.3333333333333333,
              "#9c179e"
             ],
             [
              0.4444444444444444,
              "#bd3786"
             ],
             [
              0.5555555555555556,
              "#d8576b"
             ],
             [
              0.6666666666666666,
              "#ed7953"
             ],
             [
              0.7777777777777778,
              "#fb9f3a"
             ],
             [
              0.8888888888888888,
              "#fdca26"
             ],
             [
              1,
              "#f0f921"
             ]
            ],
            "type": "surface"
           }
          ],
          "table": [
           {
            "cells": {
             "fill": {
              "color": "#EBF0F8"
             },
             "line": {
              "color": "white"
             }
            },
            "header": {
             "fill": {
              "color": "#C8D4E3"
             },
             "line": {
              "color": "white"
             }
            },
            "type": "table"
           }
          ]
         },
         "layout": {
          "annotationdefaults": {
           "arrowcolor": "#2a3f5f",
           "arrowhead": 0,
           "arrowwidth": 1
          },
          "autotypenumbers": "strict",
          "coloraxis": {
           "colorbar": {
            "outlinewidth": 0,
            "ticks": ""
           }
          },
          "colorscale": {
           "diverging": [
            [
             0,
             "#8e0152"
            ],
            [
             0.1,
             "#c51b7d"
            ],
            [
             0.2,
             "#de77ae"
            ],
            [
             0.3,
             "#f1b6da"
            ],
            [
             0.4,
             "#fde0ef"
            ],
            [
             0.5,
             "#f7f7f7"
            ],
            [
             0.6,
             "#e6f5d0"
            ],
            [
             0.7,
             "#b8e186"
            ],
            [
             0.8,
             "#7fbc41"
            ],
            [
             0.9,
             "#4d9221"
            ],
            [
             1,
             "#276419"
            ]
           ],
           "sequential": [
            [
             0,
             "#0d0887"
            ],
            [
             0.1111111111111111,
             "#46039f"
            ],
            [
             0.2222222222222222,
             "#7201a8"
            ],
            [
             0.3333333333333333,
             "#9c179e"
            ],
            [
             0.4444444444444444,
             "#bd3786"
            ],
            [
             0.5555555555555556,
             "#d8576b"
            ],
            [
             0.6666666666666666,
             "#ed7953"
            ],
            [
             0.7777777777777778,
             "#fb9f3a"
            ],
            [
             0.8888888888888888,
             "#fdca26"
            ],
            [
             1,
             "#f0f921"
            ]
           ],
           "sequentialminus": [
            [
             0,
             "#0d0887"
            ],
            [
             0.1111111111111111,
             "#46039f"
            ],
            [
             0.2222222222222222,
             "#7201a8"
            ],
            [
             0.3333333333333333,
             "#9c179e"
            ],
            [
             0.4444444444444444,
             "#bd3786"
            ],
            [
             0.5555555555555556,
             "#d8576b"
            ],
            [
             0.6666666666666666,
             "#ed7953"
            ],
            [
             0.7777777777777778,
             "#fb9f3a"
            ],
            [
             0.8888888888888888,
             "#fdca26"
            ],
            [
             1,
             "#f0f921"
            ]
           ]
          },
          "colorway": [
           "#636efa",
           "#EF553B",
           "#00cc96",
           "#ab63fa",
           "#FFA15A",
           "#19d3f3",
           "#FF6692",
           "#B6E880",
           "#FF97FF",
           "#FECB52"
          ],
          "font": {
           "color": "#2a3f5f"
          },
          "geo": {
           "bgcolor": "white",
           "lakecolor": "white",
           "landcolor": "white",
           "showlakes": true,
           "showland": true,
           "subunitcolor": "#C8D4E3"
          },
          "hoverlabel": {
           "align": "left"
          },
          "hovermode": "closest",
          "mapbox": {
           "style": "light"
          },
          "paper_bgcolor": "white",
          "plot_bgcolor": "white",
          "polar": {
           "angularaxis": {
            "gridcolor": "#EBF0F8",
            "linecolor": "#EBF0F8",
            "ticks": ""
           },
           "bgcolor": "white",
           "radialaxis": {
            "gridcolor": "#EBF0F8",
            "linecolor": "#EBF0F8",
            "ticks": ""
           }
          },
          "scene": {
           "xaxis": {
            "backgroundcolor": "white",
            "gridcolor": "#DFE8F3",
            "gridwidth": 2,
            "linecolor": "#EBF0F8",
            "showbackground": true,
            "ticks": "",
            "zerolinecolor": "#EBF0F8"
           },
           "yaxis": {
            "backgroundcolor": "white",
            "gridcolor": "#DFE8F3",
            "gridwidth": 2,
            "linecolor": "#EBF0F8",
            "showbackground": true,
            "ticks": "",
            "zerolinecolor": "#EBF0F8"
           },
           "zaxis": {
            "backgroundcolor": "white",
            "gridcolor": "#DFE8F3",
            "gridwidth": 2,
            "linecolor": "#EBF0F8",
            "showbackground": true,
            "ticks": "",
            "zerolinecolor": "#EBF0F8"
           }
          },
          "shapedefaults": {
           "line": {
            "color": "#2a3f5f"
           }
          },
          "ternary": {
           "aaxis": {
            "gridcolor": "#DFE8F3",
            "linecolor": "#A2B1C6",
            "ticks": ""
           },
           "baxis": {
            "gridcolor": "#DFE8F3",
            "linecolor": "#A2B1C6",
            "ticks": ""
           },
           "bgcolor": "white",
           "caxis": {
            "gridcolor": "#DFE8F3",
            "linecolor": "#A2B1C6",
            "ticks": ""
           }
          },
          "title": {
           "x": 0.05
          },
          "xaxis": {
           "automargin": true,
           "gridcolor": "#EBF0F8",
           "linecolor": "#EBF0F8",
           "ticks": "",
           "title": {
            "standoff": 15
           },
           "zerolinecolor": "#EBF0F8",
           "zerolinewidth": 2
          },
          "yaxis": {
           "automargin": true,
           "gridcolor": "#EBF0F8",
           "linecolor": "#EBF0F8",
           "ticks": "",
           "title": {
            "standoff": 15
           },
           "zerolinecolor": "#EBF0F8",
           "zerolinewidth": 2
          }
         }
        },
        "title": {
         "text": "📊 효과크기와 검정력: p-값을 넘어선 실질적 의미"
        },
        "xaxis": {
         "anchor": "y",
         "domain": [
          0,
          0.45
         ],
         "title": {
          "text": "효과크기 (Cohen's d)"
         }
        },
        "xaxis2": {
         "anchor": "y2",
         "domain": [
          0.55,
          1
         ],
         "title": {
          "text": "표본크기"
         }
        },
        "xaxis3": {
         "anchor": "y3",
         "domain": [
          0,
          0.45
         ]
        },
        "xaxis4": {
         "anchor": "y4",
         "domain": [
          0.55,
          1
         ]
        },
        "yaxis": {
         "anchor": "x",
         "domain": [
          0.625,
          1
         ],
         "title": {
          "text": "검정력"
         }
        },
        "yaxis2": {
         "anchor": "x2",
         "domain": [
          0.625,
          1
         ],
         "title": {
          "text": "검정력"
         }
        },
        "yaxis3": {
         "anchor": "x3",
         "domain": [
          0,
          0.375
         ],
         "title": {
          "text": "Cohen's d"
         }
        },
        "yaxis4": {
         "anchor": "x4",
         "domain": [
          0,
          0.375
         ],
         "title": {
          "text": "Cohen's d"
         }
        }
       }
      }
     },
     "metadata": {},
     "output_type": "display_data"
    },
    {
     "name": "stdout",
     "output_type": "stream",
     "text": [
      "\n",
      "📊 효과크기와 검정력 핵심 통찰:\n",
      "\n",
      "🎯 효과크기 (Cohen's d):\n",
      "\n",
      "   • 통계적 유의성과는 별개의 실용적 중요도\n",
      "\n",
      "   • 0.2 (작음), 0.5 (중간), 0.8 (큼) 기준\n",
      "\n",
      "   • 분야별로 기준이 다를 수 있음\n",
      "\n",
      "\n",
      "\n",
      "⚡ 검정력 (Statistical Power):\n",
      "\n",
      "   • 실제 차이를 올바르게 탐지할 확률\n",
      "\n",
      "   • 일반적으로 0.8 이상 권장\n",
      "\n",
      "   • 표본크기 설계의 핵심 요소\n",
      "\n",
      "\n",
      "\n",
      "💡 실용적 가이드라인:\n",
      "\n",
      "   • p < 0.05: \"차이가 존재한다\"\n",
      "\n",
      "   • Cohen's d ≥ 0.5: \"실용적으로 의미있다\"\n",
      "\n",
      "   • Power ≥ 0.8: \"신뢰할 만한 설계다\"\n",
      "\n",
      "\n"
     ]
    }
   ],
   "source": [
    "# 📊 효과크기와 검정력 분석\n",
    "def effect_size_and_power_analysis():\n",
    "    \"\"\"효과크기와 검정력 관계 분석\"\"\"\n",
    "    \n",
    "    # 다양한 효과크기에 따른 검정력 계산\n",
    "    effect_sizes = np.arange(0, 2.1, 0.1)\n",
    "    sample_sizes = [10, 20, 30, 50]\n",
    "    alpha = 0.05\n",
    "    \n",
    "    fig = make_subplots(\n",
    "        rows=2, cols=2,\n",
    "        subplot_titles=[\n",
    "            '1. 효과크기별 검정력 (One-sample)',\n",
    "            '2. 표본크기별 검정력 비교',\n",
    "            '3. 효과크기 해석 기준',\n",
    "            '4. 실제 사례별 효과크기'\n",
    "        ]\n",
    "    )\n",
    "    \n",
    "    # 1. 효과크기별 검정력 곡선\n",
    "    for n in sample_sizes:\n",
    "        powers = []\n",
    "        for d in effect_sizes:\n",
    "            # One-sample t-test의 검정력 계산\n",
    "            ncp = d * np.sqrt(n)  # Non-centrality parameter\n",
    "            critical_t = stats.t.ppf(1 - alpha/2, n-1)\n",
    "            \n",
    "            # 검정력 = P(|T| > critical_t | H1 is true)\n",
    "            power = 1 - (stats.nct.cdf(critical_t, n-1, ncp) - \n",
    "                        stats.nct.cdf(-critical_t, n-1, ncp))\n",
    "            powers.append(power)\n",
    "        \n",
    "        fig.add_trace(\n",
    "            go.Scatter(\n",
    "                x=effect_sizes,\n",
    "                y=powers,\n",
    "                mode='lines',\n",
    "                name=f'n = {n}',\n",
    "                line=dict(width=2)\n",
    "            ),\n",
    "            row=1, col=1\n",
    "        )\n",
    "    \n",
    "    # 검정력 0.8 기준선\n",
    "    fig.add_hline(\n",
    "        y=0.8,\n",
    "        line_dash=\"dash\",\n",
    "        line_color=\"red\",\n",
    "        annotation_text=\"권장 검정력 (0.8)\",\n",
    "        row=1, col=1\n",
    "    )\n",
    "    \n",
    "    # 2. 특정 효과크기(d=0.5)에서 표본크기별 검정력\n",
    "    sample_range = np.arange(5, 101, 5)\n",
    "    d_medium = 0.5\n",
    "    \n",
    "    powers_medium = []\n",
    "    for n in sample_range:\n",
    "        ncp = d_medium * np.sqrt(n)\n",
    "        critical_t = stats.t.ppf(1 - alpha/2, n-1)\n",
    "        power = 1 - (stats.nct.cdf(critical_t, n-1, ncp) - \n",
    "                    stats.nct.cdf(-critical_t, n-1, ncp))\n",
    "        powers_medium.append(power)\n",
    "    \n",
    "    fig.add_trace(\n",
    "        go.Scatter(\n",
    "            x=sample_range,\n",
    "            y=powers_medium,\n",
    "            mode='lines',\n",
    "            name='d = 0.5 (중간 효과)',\n",
    "            line=dict(width=3, color='blue')\n",
    "        ),\n",
    "        row=1, col=2\n",
    "    )\n",
    "    \n",
    "    fig.add_hline(\n",
    "        y=0.8,\n",
    "        line_dash=\"dash\",\n",
    "        line_color=\"red\",\n",
    "        annotation_text=\"권장 검정력 (0.8)\",\n",
    "        row=1, col=2\n",
    "    )\n",
    "    \n",
    "    # 3. 효과크기 해석 기준\n",
    "    effect_categories = ['매우 작음<br>(0.0-0.2)', '작음<br>(0.2-0.5)', \n",
    "                        '중간<br>(0.5-0.8)', '큼<br>(0.8+)']\n",
    "    effect_ranges = [0.1, 0.35, 0.65, 1.0]\n",
    "    colors = ['lightgray', 'yellow', 'orange', 'red']\n",
    "    \n",
    "    fig.add_trace(\n",
    "        go.Bar(\n",
    "            x=effect_categories,\n",
    "            y=effect_ranges,\n",
    "            marker_color=colors,\n",
    "            name='효과크기 기준',\n",
    "            text=effect_ranges,\n",
    "            textposition='auto'\n",
    "        ),\n",
    "        row=2, col=1\n",
    "    )\n",
    "    \n",
    "    # 4. 실제 사례별 효과크기 예시\n",
    "    cases = ['키 차이\\n(남녀)', '교육 효과\\n(일반적)', '치료 효과\\n(우울증)', '약물 효과\\n(혈압)']\n",
    "    case_effects = [1.4, 0.3, 0.8, 0.6]\n",
    "    case_colors = ['red' if d >= 0.8 else 'orange' if d >= 0.5 else 'yellow' if d >= 0.2 else 'lightgray' \n",
    "                  for d in case_effects]\n",
    "    \n",
    "    fig.add_trace(\n",
    "        go.Bar(\n",
    "            x=cases,\n",
    "            y=case_effects,\n",
    "            marker_color=case_colors,\n",
    "            name='실제 사례',\n",
    "            text=[f'{d:.1f}' for d in case_effects],\n",
    "            textposition='auto'\n",
    "        ),\n",
    "        row=2, col=2\n",
    "    )\n",
    "    \n",
    "    # 레이아웃 업데이트\n",
    "    fig.update_layout(\n",
    "        title='📊 효과크기와 검정력: p-값을 넘어선 실질적 의미',\n",
    "        height=800\n",
    "    )\n",
    "    \n",
    "    # 축 레이블\n",
    "    fig.update_xaxes(title_text='효과크기 (Cohen\\'s d)', row=1, col=1)\n",
    "    fig.update_yaxes(title_text='검정력', row=1, col=1)\n",
    "    fig.update_xaxes(title_text='표본크기', row=1, col=2)\n",
    "    fig.update_yaxes(title_text='검정력', row=1, col=2)\n",
    "    fig.update_yaxes(title_text='Cohen\\'s d', row=2, col=1)\n",
    "    fig.update_yaxes(title_text='Cohen\\'s d', row=2, col=2)\n",
    "    \n",
    "    return fig\n",
    "\n",
    "# 효과크기와 검정력 분석 실행\n",
    "fig_power = effect_size_and_power_analysis()\n",
    "fig_power.show()\n",
    "\n",
    "print(\"\"\"\\n📊 효과크기와 검정력 핵심 통찰:\\n\n",
    "🎯 효과크기 (Cohen's d):\\n\n",
    "   • 통계적 유의성과는 별개의 실용적 중요도\\n\n",
    "   • 0.2 (작음), 0.5 (중간), 0.8 (큼) 기준\\n\n",
    "   • 분야별로 기준이 다를 수 있음\\n\n",
    "\\n\n",
    "⚡ 검정력 (Statistical Power):\\n\n",
    "   • 실제 차이를 올바르게 탐지할 확률\\n\n",
    "   • 일반적으로 0.8 이상 권장\\n\n",
    "   • 표본크기 설계의 핵심 요소\\n\n",
    "\\n\n",
    "💡 실용적 가이드라인:\\n\n",
    "   • p < 0.05: \\\"차이가 존재한다\\\"\\n\n",
    "   • Cohen's d ≥ 0.5: \\\"실용적으로 의미있다\\\"\\n\n",
    "   • Power ≥ 0.8: \\\"신뢰할 만한 설계다\\\"\\n\n",
    "\"\"\")"
   ]
  },
  {
   "cell_type": "markdown",
   "metadata": {},
   "source": [
    "## 🧭 5. 올바른 t-검정 선택 가이드\n",
    "\n",
    "### 🎯 결정 트리: 어떤 검정을 사용할까?\n",
    "\n",
    "```\n",
    "❓ 몇 개 그룹을 비교하나요?\n",
    "├── 1개 그룹 → 🎯 One-sample t-test (아토스)\n",
    "│   └── 알려진 기준값과 비교\n",
    "└── 2개 그룹\n",
    "    ├── ❓ 같은 개체의 전후 측정인가요?\n",
    "    │   ├── 예 → 🔄 Paired t-test (아라미스)\n",
    "    │   └── 아니오 → ⚖️ Independent t-test (포르토스)\n",
    "    │       ├── ❓ 등분산인가요?\n",
    "    │       ├── 예 → Student's t-test\n",
    "    │       └── 아니오 → Welch's t-test\n",
    "```\n",
    "\n",
    "### 📋 체크리스트\n",
    "\n",
    "#### 🎯 One-sample t-test를 선택하세요\n",
    "- ✅ 하나의 그룹이 있음\n",
    "- ✅ 알려진 기준값(모집단 평균)과 비교\n",
    "- ✅ 예: \"우리 제품이 규격에 맞나?\", \"평균이 100인가?\"\n",
    "\n",
    "#### ⚖️ Independent t-test를 선택하세요\n",
    "- ✅ 두 개의 독립적인 그룹\n",
    "- ✅ 서로 다른 개체들로 구성\n",
    "- ✅ 예: \"남성 vs 여성\", \"A약 vs B약\", \"서울 vs 부산\"\n",
    "\n",
    "#### 🔄 Paired t-test를 선택하세요\n",
    "- ✅ 동일한 개체의 두 번 측정\n",
    "- ✅ 전후 비교, 짝지어진 데이터\n",
    "- ✅ 예: \"치료 전후\", \"교육 전후\", \"수술 전후\""
   ]
  },
  {
   "cell_type": "code",
   "execution_count": null,
   "metadata": {},
   "outputs": [
    {
     "ename": "SyntaxError",
     "evalue": "unexpected character after line continuation character (4123956788.py, line 90)",
     "output_type": "error",
     "traceback": [
      "  \u001b[36mCell\u001b[39m\u001b[36m \u001b[39m\u001b[32mIn[14]\u001b[39m\u001b[32m, line 90\u001b[39m\n\u001b[31m    \u001b[39m\u001b[31mprint(\\\"📊 t-검정 삼총사 요약표:\\\")\u001b[39m\n           ^\n\u001b[31mSyntaxError\u001b[39m\u001b[31m:\u001b[39m unexpected character after line continuation character\n"
     ]
    }
   ],
   "source": [
    "# 🧭 올바른 t-검정 선택 시뮬레이터\n",
    "def t_test_selector_quiz():\n",
    "    \"\"\"대화형 t-검정 선택 가이드\"\"\"\n",
    "    \n",
    "    scenarios = [\n",
    "        {\n",
    "            'title': '🏥 신약 효과 테스트',\n",
    "            'description': '새로운 혈압약을 20명의 환자에게 투약하고, 투약 전후의 혈압을 측정했습니다.',\n",
    "            'correct_test': 'Paired t-test',\n",
    "            'reason': '동일한 환자들의 투약 전후 비교이므로 Paired t-test를 사용합니다.',\n",
    "            'hero': '아라미스'\n",
    "        },\n",
    "        {\n",
    "            'title': '📱 배터리 수명 검사',\n",
    "            'description': '스마트폰 배터리 30개를 테스트하여 평균 수명이 제조사 공칭값 24시간과 같은지 확인하고 싶습니다.',\n",
    "            'correct_test': 'One-sample t-test',\n",
    "            'reason': '하나의 그룹을 알려진 기준값(24시간)과 비교하므로 One-sample t-test를 사용합니다.',\n",
    "            'hero': '아토스'\n",
    "        },\n",
    "        {\n",
    "            'title': '🎓 학습 방법 비교',\n",
    "            'description': '온라인 학습 그룹 25명과 오프라인 학습 그룹 30명의 시험 점수를 비교하고 싶습니다.',\n",
    "            'correct_test': 'Independent t-test',\n",
    "            'reason': '서로 다른 두 그룹(온라인 vs 오프라인)을 비교하므로 Independent t-test를 사용합니다.',\n",
    "            'hero': '포르토스'\n",
    "        },\n",
    "        {\n",
    "            'title': '🏃‍♀️ 운동 효과 분석',\n",
    "            'description': '15명이 3개월 운동 프로그램에 참여하여 체지방률 변화를 측정했습니다.',\n",
    "            'correct_test': 'Paired t-test',\n",
    "            'reason': '동일한 사람들의 운동 전후 비교이므로 Paired t-test를 사용합니다.',\n",
    "            'hero': '아라미스'\n",
    "        },\n",
    "        {\n",
    "            'title': '☕ 지역별 커피 가격',\n",
    "            'description': '강남구 카페 20곳과 강북구 카페 18곳의 아메리카노 가격을 비교하고 싶습니다.',\n",
    "            'correct_test': 'Independent t-test',\n",
    "            'reason': '서로 다른 두 지역의 독립적인 카페들을 비교하므로 Independent t-test를 사용합니다.',\n",
    "            'hero': '포르토스'\n",
    "        }\n",
    "    ]\n",
    "    \n",
    "    print(\"🧭 t-검정 선택 마스터 퀴즈!\")\n",
    "    print(\"각 상황에 맞는 올바른 t-검정을 선택해보세요.\\\\n\")\n",
    "    \n",
    "    score = 0\n",
    "    total = len(scenarios)\n",
    "    \n",
    "    for i, scenario in enumerate(scenarios, 1):\n",
    "        print(f\"📝 문제 {i}: {scenario['title']}\")\n",
    "        print(f\"상황: {scenario['description']}\")\n",
    "        print(\"\")\n",
    "        print(\"선택지:\")\n",
    "        print(\"1) 🎯 One-sample t-test (아토스)\")\n",
    "        print(\"2) ⚖️ Independent t-test (포르토스)\")\n",
    "        print(\"3) 🔄 Paired t-test (아라미스)\")\n",
    "        print(\"\")\n",
    "        \n",
    "        # 정답 공개\n",
    "        print(f\"✅ 정답: {scenario['correct_test']} ({scenario['hero']})\")\n",
    "        print(f\"💡 이유: {scenario['reason']}\")\n",
    "        print(\" + \" + \"=\" * 60)\n",
    "        print(\"\")\n",
    "    \n",
    "    # 요약 테이블 생성\n",
    "    summary_df = pd.DataFrame([\n",
    "        {\n",
    "            '검정 유형': '🎯 One-sample t-test',\n",
    "            '영웅': '아토스',\n",
    "            '상황': '1개 그룹 vs 기준값',\n",
    "            '예시': '제품 품질, 평균 비교',\n",
    "            '공식': '(X̄ - μ₀) / (s/√n)'\n",
    "        },\n",
    "        {\n",
    "            '검정 유형': '⚖️ Independent t-test',\n",
    "            '영웅': '포르토스',\n",
    "            '상황': '2개 독립 그룹 비교',\n",
    "            '예시': 'A/B 테스트, 성별 차이',\n",
    "            '공식': '(X̄₁ - X̄₂) / SE_pooled'\n",
    "        },\n",
    "        {\n",
    "            '검정 유형': '🔄 Paired t-test',\n",
    "            '영웅': '아라미스',\n",
    "            '상황': '동일 개체 전후 비교',\n",
    "            '예시': '치료 효과, 교육 효과',\n",
    "            '공식': 'D̄ / (s_D/√n)'\n",
    "        }\n",
    "    ])\n",
    "\n",
    "    print(\"📊 t-검정 삼총사 요약표:\")\n",
    "    print(summary_df.to_string(index=False))\n",
    "    \n",
    "    return summary_df\n",
    "\n",
    "# t-검정 선택 가이드 실행\n",
    "summary_table = t_test_selector_quiz()\n",
    "\n",
    "print(\"\"\"\\n\\n🎉 t-검정 삼총사 완전 정복!\\n\n",
    "💡 기억해야 할 핵심 포인트:\\n\n",
    "🎯 아토스 (One-sample): \\\"내가 기준에 맞나?\\\"\\n\n",
    "⚖️ 포르토스 (Independent): \\\"둘이 서로 다른가?\\\"\\n\n",
    "🔄 아라미스 (Paired): \\\"나에게 변화가 있었나?\\\"\\n\n",
    "\\n\n",
    "🔍 분석 순서:\\n\n",
    "1️⃣ 상황 파악 → 올바른 검정 선택\\n\n",
    "2️⃣ 가정 확인 → 등분산성 검정 등\\n\n",
    "3️⃣ 검정 실행 → t-통계량, p-값 계산\\n\n",
    "4️⃣ 효과크기 → Cohen's d로 실용적 의미 평가\\n\n",
    "5️⃣ 결과 해석 → 통계적 + 실용적 의미 종합\\n\n",
    "\"\"\")"
   ]
  },
  {
   "cell_type": "markdown",
   "metadata": {},
   "source": [
    "## 📚 핵심 개념 요약\n",
    "\n",
    "### ⚔️ t-test 삼총사의 특별한 능력\n",
    "\n",
    "1. **🎯 아토스 (One-sample t-test)**\n",
    "   - **임무**: 단일 그룹을 기준값과 비교\n",
    "   - **공식**: $t = \\\\frac{\\\\bar{X} - \\\\mu_0}{s/\\\\sqrt{n}}$\n",
    "   - **활용**: 품질 관리, 기준 준수 확인\n",
    "\n",
    "2. **⚖️ 포르토스 (Independent t-test)**\n",
    "   - **임무**: 두 독립 그룹 간 차이 검정\n",
    "   - **공식**: $t = \\\\frac{\\\\bar{X_1} - \\\\bar{X_2}}{s_p\\\\sqrt{\\\\frac{1}{n_1} + \\\\frac{1}{n_2}}}$\n",
    "   - **활용**: A/B 테스트, 그룹 간 비교\n",
    "\n",
    "3. **🔄 아라미스 (Paired t-test)**\n",
    "   - **임무**: 동일 개체의 전후 변화 검정\n",
    "   - **공식**: $t = \\\\frac{\\\\bar{D}}{s_D/\\\\sqrt{n}}$\n",
    "   - **활용**: 치료 효과, 교육 효과 분석\n",
    "\n",
    "### 📊 효과크기와 검정력\n",
    "\n",
    "- **Cohen's d**: 실용적 중요도 측정 (0.2/0.5/0.8 기준)\n",
    "- **검정력**: 실제 차이를 탐지할 확률 (0.8 이상 권장)\n",
    "- **p-값의 한계**: 통계적 유의성 ≠ 실용적 중요성\n",
    "\n",
    "### 🎯 선택 기준\n",
    "\n",
    "| 상황 | 그룹 수 | 데이터 구조 | 선택할 검정 |\n",
    "|------|---------|-------------|-------------|\n",
    "| 기준값과 비교 | 1개 | 단일 측정 | One-sample |\n",
    "| 두 그룹 비교 | 2개 | 독립적 | Independent |\n",
    "| 전후 비교 | 2개 측정 | 짝지어짐 | Paired |\n",
    "\n",
    "---\n",
    "\n",
    "## 🧩 연습 문제\n",
    "\n",
    "### 문제 1: 검정 선택\n",
    "다음 상황에서 어떤 t-검정을 사용해야 할까요?\n",
    "- a) 새로운 다이어트약을 20명에게 투여하고 체중 변화를 측정\n",
    "- b) 남학생 30명과 여학생 25명의 수학 점수 비교\n",
    "- c) 공장에서 생산된 볼트 50개의 길이가 10cm 규격에 맞는지 확인\n",
    "\n",
    "### 문제 2: 효과크기 해석\n",
    "Cohen's d = 0.3인 경우, 이 효과크기를 어떻게 해석해야 할까요?\n",
    "\n",
    "### 문제 3: 검정력 분석\n",
    "효과크기가 0.5일 때, 검정력 0.8을 달성하려면 최소 몇 명의 표본이 필요할까요?\n",
    "\n",
    "---\n",
    "\n",
    "## 🚀 다음 여행지: \"완벽하지 않은 현실\"\n",
    "\n",
    "삼총사의 능력을 익혔으니, 이제 **현실의 복잡함**을 다룰 차례입니다! 🌪️\n",
    "\n",
    "다음 노트북에서는:\n",
    "- **t-검정의 가정들**: 정규성, 독립성, 등분산성\n",
    "- **가정 위반 시 대처법**: Welch's t-test, 비모수 검정\n",
    "- **B.L. Welch의 혁신**: 등분산 가정 없는 t-검정\n",
    "- **Satterthwaite 자유도**: 복잡한 현실을 위한 수학\n",
    "- **강건성과 민감성**: 언제 걱정해야 할까?\n",
    "\n",
    "현실은 완벽하지 않지만, 우리에게는 대처법이 있습니다! 💪\n",
    "\n",
    "**다음 노트북**: `04_assumptions_and_violations.ipynb`"
   ]
  }
 ],
 "metadata": {
  "kernelspec": {
   "display_name": "Python 3 (ipykernel)",
   "language": "python",
   "name": "python3"
  },
  "language_info": {
   "codemirror_mode": {
    "name": "ipython",
    "version": 3
   },
   "file_extension": ".py",
   "mimetype": "text/x-python",
   "name": "python",
   "nbconvert_exporter": "python",
   "pygments_lexer": "ipython3",
   "version": "3.12.3"
  }
 },
 "nbformat": 4,
 "nbformat_minor": 4
}
