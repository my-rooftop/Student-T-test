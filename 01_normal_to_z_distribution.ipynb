{
 "cells": [
  {
   "cell_type": "markdown",
   "metadata": {},
   "source": [
    "# 🌟 완벽한 세상: 정규분포와 Z-검정\n",
    "\n",
    "## 📖 이야기의 시작\n",
    "\n",
    "1900년대 초, 통계학자들은 **완벽한 세상**을 꿈꿨습니다. 🌍✨\n",
    "\n",
    "그들이 꿈꾸던 세상은 이런 곳이었습니다:\n",
    "- 모든 데이터는 아름다운 **정규분포**를 따른다\n",
    "- **모집단의 표준편차 σ**는 이미 알려져 있다\n",
    "- 표본 크기는 충분히 크다 (n ≥ 30)\n",
    "\n",
    "이런 완벽한 조건에서는 **Z-분포**를 사용하여 모든 통계적 검정을 완벽하게 수행할 수 있었습니다. 하지만... 과연 현실은 어떨까요? 🤔\n",
    "\n",
    "---\n",
    "\n",
    "## 🎯 학습 목표\n",
    "\n",
    "이 노트북을 통해 다음을 학습합니다:\n",
    "1. 정규분포의 특성과 중심극한정리\n",
    "2. Z-분포와 표준화의 개념\n",
    "3. Z-검정의 원리와 수행 방법\n",
    "4. 신뢰구간의 의미와 해석\n",
    "5. 완벽한 세상의 한계점"
   ]
  },
  {
   "cell_type": "code",
   "execution_count": null,
   "metadata": {},
   "source": "# 필수 라이브러리 불러오기\nimport numpy as np\nimport pandas as pd\nimport matplotlib.pyplot as plt\nimport seaborn as sns\nimport plotly.graph_objects as go\nimport plotly.express as px\nfrom plotly.subplots import make_subplots\nfrom scipy import stats\nfrom ipywidgets import interact, widgets, IntSlider, FloatSlider\nimport warnings\n\nwarnings.filterwarnings('ignore')\n\n# 시각화 스타일 설정\nplt.style.use('seaborn-v0_8-darkgrid')\nsns.set_palette(\"husl\")\nplt.rcParams['figure.figsize'] = (12, 8)\nplt.rcParams['font.size'] = 12\n\n# 한글 폰트 설정 (필요시)\nplt.rcParams['font.family'] = 'DejaVu Sans'\n\nprint(\"📚 모든 라이브러리가 성공적으로 로드되었습니다!\")\nprint(\"🎉 완벽한 세상으로의 여행을 시작합니다!\")",
   "outputs": []
  },
  {
   "cell_type": "markdown",
   "metadata": {},
   "source": "## 🌈 1. 정규분포: 자연의 가장 아름다운 곡선\n\n정규분포는 **가우스 분포**라고도 불리며, 자연 현상에서 가장 자주 관찰되는 분포입니다.\n\n### 📊 정규분포의 특성\n- **대칭성**: 평균을 중심으로 완벽하게 대칭\n- **종 모양**: 아름다운 bell curve\n- **68-95-99.7 규칙**: \n  - 68%의 데이터가 μ ± σ 범위에\n  - 95%의 데이터가 μ ± 2σ 범위에\n  - 99.7%의 데이터가 μ ± 3σ 범위에\n\n### 🔢 수학적 표현\n\n정규분포 N(μ, σ²)의 확률밀도함수:\n\n$$f(x) = \\frac{1}{\\sigma\\sqrt{2\\pi}} e^{-\\frac{(x-\\mu)^2}{2\\sigma^2}}$$\n\n여기서:\n- μ: 평균 (mean)\n- σ: 표준편차 (standard deviation)\n- σ²: 분산 (variance)"
  },
  {
   "cell_type": "code",
   "execution_count": null,
   "metadata": {},
   "source": "# 🎨 인터랙티브 정규분포 시각화\ndef plot_normal_distribution(mu=0, sigma=1, show_areas=True):\n    \"\"\"정규분포를 시각화하는 함수\"\"\"\n    \n    # x 값 범위 설정\n    x = np.linspace(mu - 4*sigma, mu + 4*sigma, 1000)\n    y = stats.norm.pdf(x, mu, sigma)\n    \n    # 플롯 생성\n    fig = go.Figure()\n    \n    # 정규분포 곡선\n    fig.add_trace(go.Scatter(\n        x=x, y=y,\n        mode='lines',\n        name=f'N({mu}, {sigma}²)',\n        line=dict(width=3, color='blue')\n    ))\n    \n    if show_areas:\n        # 68% 영역 (μ ± σ)\n        x_68 = x[(x >= mu - sigma) & (x <= mu + sigma)]\n        y_68 = stats.norm.pdf(x_68, mu, sigma)\n        fig.add_trace(go.Scatter(\n            x=np.concatenate([x_68, x_68[::-1]]),\n            y=np.concatenate([y_68, np.zeros(len(y_68))]),\n            fill='toself',\n            fillcolor='rgba(255, 0, 0, 0.3)',\n            line=dict(width=0),\n            name='68% (μ ± σ)',\n            showlegend=True\n        ))\n        \n        # 95% 영역 (μ ± 2σ)\n        x_95_left = x[(x >= mu - 2*sigma) & (x < mu - sigma)]\n        y_95_left = stats.norm.pdf(x_95_left, mu, sigma)\n        x_95_right = x[(x > mu + sigma) & (x <= mu + 2*sigma)]\n        y_95_right = stats.norm.pdf(x_95_right, mu, sigma)\n        \n        for x_95, y_95, name in [(x_95_left, y_95_left, '95% 영역 (좌)'), \n                                 (x_95_right, y_95_right, '95% 영역 (우)')]:\n            if len(x_95) > 0:\n                fig.add_trace(go.Scatter(\n                    x=np.concatenate([x_95, x_95[::-1]]),\n                    y=np.concatenate([y_95, np.zeros(len(y_95))]),\n                    fill='toself',\n                    fillcolor='rgba(0, 255, 0, 0.2)',\n                    line=dict(width=0),\n                    name='95% (μ ± 2σ)' if 'left' in name else '',\n                    showlegend='left' in name\n                ))\n    \n    # 평균선 추가\n    fig.add_vline(x=mu, line_dash=\"dash\", line_color=\"red\", \n                  annotation_text=f\"μ = {mu}\")\n    \n    # 레이아웃 설정\n    fig.update_layout(\n        title=f'정규분포 N({mu}, {sigma}²) - 완벽한 세상의 기초',\n        xaxis_title='값 (X)',\n        yaxis_title='확률밀도',\n        template='plotly_white',\n        height=500,\n        showlegend=True\n    )\n    \n    return fig\n\n# 인터랙티브 위젯으로 정규분포 탐색\n@interact(mu=FloatSlider(min=-5, max=5, step=0.5, value=0, description='평균 (μ)'),\n          sigma=FloatSlider(min=0.5, max=3, step=0.1, value=1, description='표준편차 (σ)'),\n          show_areas=widgets.Checkbox(value=True, description='영역 표시'))\ndef interactive_normal(mu, sigma, show_areas):\n    fig = plot_normal_distribution(mu, sigma, show_areas)\n    fig.show()\n    \n    # 주요 통계량 출력\n    print(f\"\"\"\n\n💡 핵심 통찰:\n\n📊 평균 (μ): {mu}\n📏 표준편차 (σ): {sigma}\n📐 분산 (σ²): {sigma**2:.2f}\n🎯 68% 범위: [{mu-sigma:.2f}, {mu+sigma:.2f}]\n🎯 95% 범위: [{mu-2*sigma:.2f}, {mu+2*sigma:.2f}]\n🎯 99.7% 범위: [{mu-3*sigma:.2f}, {mu+3*sigma:.2f}]\n\n\"\"\")",
   "outputs": []
  },
  {
   "cell_type": "markdown",
   "metadata": {},
   "source": "## 🔄 2. 중심극한정리: 마법 같은 정리\n\n중심극한정리(Central Limit Theorem)는 통계학의 가장 아름다운 정리 중 하나입니다.\n\n### 📜 중심극한정리의 내용\n\n> **어떤 분포**를 따르는 모집단이라도, 표본 크기가 충분히 클 때 (일반적으로 n ≥ 30), **표본평균들의 분포**는 정규분포에 가까워진다.\n\n수학적으로 표현하면:\n\n$$\\bar{X} \\sim N\\left(\\mu, \\frac{\\sigma^2}{n}\\right)$$\n\n또는 표준화하면:\n\n$$Z = \\frac{\\bar{X} - \\mu}{\\frac{\\sigma}{\\sqrt{n}}} \\sim N(0, 1)$$\n\n### 💫 중심극한정리의 마법\n- 원래 분포가 **어떤 모양**이든 상관없다!\n- 균등분포, 지수분포, 베르누이분포... 모두 OK!\n- 표본 크기가 클수록 더 정확해진다"
  },
  {
   "cell_type": "code",
   "execution_count": null,
   "metadata": {},
   "source": "# 🎭 중심극한정리 시뮬레이션\ndef demonstrate_central_limit_theorem(distribution='uniform', n_samples=30, n_simulations=1000):\n    \"\"\"중심극한정리를 시연하는 함수\"\"\"\n    \n    np.random.seed(42)  # 재현가능한 결과를 위한 시드 설정\n    \n    # 다양한 원분포에서 데이터 생성\n    if distribution == 'uniform':\n        population_data = np.random.uniform(0, 10, 10000)\n        dist_name = '균등분포 U(0,10)'\n    elif distribution == 'exponential':\n        population_data = np.random.exponential(2, 10000)\n        dist_name = '지수분포 Exp(λ=0.5)'\n    elif distribution == 'skewed':\n        population_data = np.random.gamma(2, 2, 10000)\n        dist_name = '감마분포 Γ(2,2)'\n    else:  # bimodal\n        data1 = np.random.normal(3, 1, 5000)\n        data2 = np.random.normal(7, 1, 5000)\n        population_data = np.concatenate([data1, data2])\n        dist_name = '이봉분포 (Bimodal)'\n    \n    # 표본평균들 수집\n    sample_means = []\n    for _ in range(n_simulations):\n        sample = np.random.choice(population_data, n_samples, replace=True)\n        sample_means.append(np.mean(sample))\n    \n    sample_means = np.array(sample_means)\n    \n    # 이론적 값들 계산\n    pop_mean = np.mean(population_data)\n    pop_std = np.std(population_data)\n    theoretical_mean = pop_mean\n    theoretical_std = pop_std / np.sqrt(n_samples)\n    \n    # 시각화\n    fig = make_subplots(\n        rows=2, cols=2,\n        subplot_titles=['1. 원래 모집단 분포', '2. 표본평균들의 분포', \n                       '3. 정규분포와 비교', '4. Q-Q 플롯'],\n        specs=[[{'type': 'histogram'}, {'type': 'histogram'}],\n               [{'type': 'scatter'}, {'type': 'scatter'}]]\n    )\n    \n    # 1. 원래 분포\n    fig.add_trace(\n        go.Histogram(x=population_data[:1000], nbinsx=50, name='원분포', \n                    marker_color='lightblue', opacity=0.7),\n        row=1, col=1\n    )\n    \n    # 2. 표본평균들의 분포\n    fig.add_trace(\n        go.Histogram(x=sample_means, nbinsx=50, name='표본평균들', \n                    marker_color='lightgreen', opacity=0.7),\n        row=1, col=2\n    )\n    \n    # 3. 이론적 정규분포와 비교\n    x_theory = np.linspace(sample_means.min(), sample_means.max(), 100)\n    y_theory = stats.norm.pdf(x_theory, theoretical_mean, theoretical_std)\n    \n    # 히스토그램을 확률밀도로 변환\n    counts, bins = np.histogram(sample_means, bins=50, density=True)\n    bin_centers = (bins[:-1] + bins[1:]) / 2\n    \n    fig.add_trace(\n        go.Bar(x=bin_centers, y=counts, name='실제 분포', \n              marker_color='lightcoral', opacity=0.7),\n        row=2, col=1\n    )\n    \n    fig.add_trace(\n        go.Scatter(x=x_theory, y=y_theory, mode='lines', name='이론적 정규분포',\n                  line=dict(color='red', width=3)),\n        row=2, col=1\n    )\n    \n    # 4. Q-Q 플롯\n    theoretical_quantiles = stats.norm.ppf(np.linspace(0.01, 0.99, len(sample_means)))\n    sample_quantiles = np.sort(sample_means)\n    \n    # 표준화\n    sample_quantiles_std = (sample_quantiles - np.mean(sample_quantiles)) / np.std(sample_quantiles)\n    \n    fig.add_trace(\n        go.Scatter(x=theoretical_quantiles, y=sample_quantiles_std, mode='markers',\n                  name='Q-Q 점들', marker=dict(color='blue', size=4)),\n        row=2, col=2\n    )\n    \n    # 이상적인 선 (y=x)\n    line_range = [theoretical_quantiles.min(), theoretical_quantiles.max()]\n    fig.add_trace(\n        go.Scatter(x=line_range, y=line_range, mode='lines',\n                  name='이상적 선', line=dict(color='red', dash='dash')),\n        row=2, col=2\n    )\n    \n    # 레이아웃 업데이트\n    fig.update_layout(\n        title=f'중심극한정리 시연: {dist_name} → 정규분포 (n={n_samples})',\n        height=800,\n        showlegend=True\n    )\n    \n    return fig, sample_means, theoretical_mean, theoretical_std\n\n# 인터랙티브 중심극한정리 데모\n@interact(\n    distribution=widgets.Dropdown(\n        options=[('균등분포', 'uniform'), ('지수분포', 'exponential'), \n                ('감마분포', 'skewed'), ('이봉분포', 'bimodal')],\n        value='uniform',\n        description='원분포:'\n    ),\n    n_samples=IntSlider(min=5, max=100, step=5, value=30, description='표본크기 (n)'),\n    n_simulations=widgets.fixed(1000)\n)\ndef interactive_clt(distribution, n_samples, n_simulations):\n    fig, sample_means, theo_mean, theo_std = demonstrate_central_limit_theorem(\n        distribution, n_samples, n_simulations\n    )\n    fig.show()\n    \n    # 통계 요약\n    actual_mean = np.mean(sample_means)\n    actual_std = np.std(sample_means)\n    \n    print(f\"\"\"\n\n🎯 중심극한정리 검증 결과:\n\n📊 이론적 평균: {theo_mean:.3f}  |  실제 평균: {actual_mean:.3f}\n📏 이론적 표준오차: {theo_std:.3f}  |  실제 표준편차: {actual_std:.3f}\n📐 평균 오차: {abs(theo_mean - actual_mean):.3f}\n📐 표준편차 오차: {abs(theo_std - actual_std):.3f}\n✨ 정규성 검정 (Shapiro-Wilk): p-value = {stats.shapiro(sample_means)[1]:.3f}\n{'🎉 정규분포에 가깝습니다!' if stats.shapiro(sample_means)[1] > 0.05 else '⚠️ 표본크기를 늘려보세요!'}\n\n\"\"\")",
   "outputs": []
  },
  {
   "cell_type": "markdown",
   "metadata": {},
   "source": "## ⚡ 3. Z-분포와 표준화: 모든 것을 하나로\n\nZ-분포(표준정규분포)는 **평균이 0, 표준편차가 1**인 특별한 정규분포입니다.\n\n### 🔄 표준화 공식\n\n어떤 정규분포 X ~ N(μ, σ²)든 다음 공식으로 표준화할 수 있습니다:\n\n$$Z = \\frac{X - \\mu}{\\sigma} \\sim N(0, 1)$$\n\n표본평균의 경우:\n\n$$Z = \\frac{\\bar{X} - \\mu}{\\frac{\\sigma}{\\sqrt{n}}} \\sim N(0, 1)$$\n\n### 🎯 Z-분포의 특징\n- **평균**: 0\n- **표준편차**: 1\n- **68-95-99.7 규칙**이 Z값으로 간단해짐:\n  - 68%: -1 ≤ Z ≤ 1\n  - 95%: -1.96 ≤ Z ≤ 1.96\n  - 99%: -2.58 ≤ Z ≤ 2.58"
  },
  {
   "cell_type": "code",
   "execution_count": null,
   "metadata": {},
   "source": "# 🎨 Z-분포와 임계값 시각화\ndef plot_z_distribution_with_critical_values(alpha=0.05, test_type='two-tailed'):\n    \"\"\"Z-분포와 임계값을 시각화하는 함수\"\"\"\n    \n    # Z값 범위\n    z = np.linspace(-4, 4, 1000)\n    pdf = stats.norm.pdf(z, 0, 1)\n    \n    # 임계값 계산\n    if test_type == 'two-tailed':\n        z_critical = stats.norm.ppf(1 - alpha/2)\n        z_crit_neg = -z_critical\n    elif test_type == 'right-tailed':\n        z_critical = stats.norm.ppf(1 - alpha)\n        z_crit_neg = None\n    else:  # left-tailed\n        z_critical = stats.norm.ppf(alpha)\n        z_crit_neg = None\n    \n    # 플롯 생성\n    fig = go.Figure()\n    \n    # 기본 Z-분포 곡선\n    fig.add_trace(go.Scatter(\n        x=z, y=pdf,\n        mode='lines',\n        name='표준정규분포 N(0,1)',\n        line=dict(width=3, color='blue')\n    ))\n    \n    # 기각역 표시\n    if test_type == 'two-tailed':\n        # 왼쪽 기각역\n        z_left = z[z <= z_crit_neg]\n        pdf_left = stats.norm.pdf(z_left, 0, 1)\n        fig.add_trace(go.Scatter(\n            x=np.concatenate([z_left, z_left[::-1]]),\n            y=np.concatenate([pdf_left, np.zeros(len(pdf_left))]),\n            fill='toself',\n            fillcolor='rgba(255, 0, 0, 0.3)',\n            line=dict(width=0),\n            name=f'기각역 (α/2 = {alpha/2:.3f})',\n            showlegend=True\n        ))\n        \n        # 오른쪽 기각역\n        z_right = z[z >= z_critical]\n        pdf_right = stats.norm.pdf(z_right, 0, 1)\n        fig.add_trace(go.Scatter(\n            x=np.concatenate([z_right, z_right[::-1]]),\n            y=np.concatenate([pdf_right, np.zeros(len(pdf_right))]),\n            fill='toself',\n            fillcolor='rgba(255, 0, 0, 0.3)',\n            line=dict(width=0),\n            showlegend=False\n        ))\n        \n        # 임계값 선들\n        for z_val, label in [(z_crit_neg, f'Z = {z_crit_neg:.3f}'), \n                            (z_critical, f'Z = {z_critical:.3f}')]:\n            fig.add_vline(x=z_val, line_dash=\"dash\", line_color=\"red\",\n                         annotation_text=label)\n    \n    elif test_type == 'right-tailed':\n        z_tail = z[z >= z_critical]\n        pdf_tail = stats.norm.pdf(z_tail, 0, 1)\n        fig.add_trace(go.Scatter(\n            x=np.concatenate([z_tail, z_tail[::-1]]),\n            y=np.concatenate([pdf_tail, np.zeros(len(pdf_tail))]),\n            fill='toself',\n            fillcolor='rgba(255, 0, 0, 0.3)',\n            line=dict(width=0),\n            name=f'기각역 (α = {alpha:.3f})',\n            showlegend=True\n        ))\n        \n        fig.add_vline(x=z_critical, line_dash=\"dash\", line_color=\"red\",\n                     annotation_text=f'Z = {z_critical:.3f}')\n    \n    else:  # left-tailed\n        z_tail = z[z <= z_critical]\n        pdf_tail = stats.norm.pdf(z_tail, 0, 1)\n        fig.add_trace(go.Scatter(\n            x=np.concatenate([z_tail, z_tail[::-1]]),\n            y=np.concatenate([pdf_tail, np.zeros(len(pdf_tail))]),\n            fill='toself',\n            fillcolor='rgba(255, 0, 0, 0.3)',\n            line=dict(width=0),\n            name=f'기각역 (α = {alpha:.3f})',\n            showlegend=True\n        ))\n        \n        fig.add_vline(x=z_critical, line_dash=\"dash\", line_color=\"red\",\n                     annotation_text=f'Z = {z_critical:.3f}')\n    \n    # 레이아웃 설정\n    fig.update_layout(\n        title=f'Z-분포와 임계값 ({test_type}, α = {alpha})',\n        xaxis_title='Z 값',\n        yaxis_title='확률밀도',\n        template='plotly_white',\n        height=500\n    )\n    \n    return fig\n\n# 인터랙티브 Z-분포 시각화\n@interact(\n    alpha=FloatSlider(min=0.01, max=0.2, step=0.01, value=0.05, description='유의수준 (α)'),\n    test_type=widgets.Dropdown(\n        options=[('양측검정', 'two-tailed'), ('우측검정', 'right-tailed'), ('좌측검정', 'left-tailed')],\n        value='two-tailed',\n        description='검정 유형:'\n    )\n)\ndef interactive_z_distribution(alpha, test_type):\n    fig = plot_z_distribution_with_critical_values(alpha, test_type)\n    fig.show()\n    \n    # 임계값 정보\n    if test_type == 'two-tailed':\n        z_crit = stats.norm.ppf(1 - alpha/2)\n        print(f\"\"\"\n\n🎯 임계값 정보 (양측검정):\n\n📊 유의수준: α = {alpha}\n📊 각 쪽 유의수준: α/2 = {alpha/2:.3f}\n📏 임계값: ±{z_crit:.3f}\n🔍 기각조건: |Z| > {z_crit:.3f}\n\n\"\"\")\n    elif test_type == 'right-tailed':\n        z_crit = stats.norm.ppf(1 - alpha)\n        print(f\"\"\"\n\n🎯 임계값 정보 (우측검정):\n\n📊 유의수준: α = {alpha}\n📏 임계값: {z_crit:.3f}\n🔍 기각조건: Z > {z_crit:.3f}\n\n\"\"\")\n    else:\n        z_crit = stats.norm.ppf(alpha)\n        print(f\"\"\"\n\n🎯 임계값 정보 (좌측검정):\n\n📊 유의수준: α = {alpha}\n📏 임계값: {z_crit:.3f}\n🔍 기각조건: Z < {z_crit:.3f}\n\n\"\"\")",
   "outputs": []
  },
  {
   "cell_type": "markdown",
   "metadata": {},
   "source": "## 🧪 4. Z-검정: 완벽한 세상의 가설검정\n\nZ-검정은 **모집단의 표준편차 σ를 알고 있을 때** 사용하는 가설검정 방법입니다.\n\n### 📋 Z-검정의 조건\n1. **모집단이 정규분포**를 따르거나, **표본 크기가 충분히 큼** (n ≥ 30)\n2. **모집단의 표준편차 σ가 알려져 있음** ⭐ (핵심 조건!)\n3. 관찰값들이 **독립적**임\n\n### 🎯 Z-검정 절차\n\n#### 1단계: 가설 설정\n- H₀: μ = μ₀ (귀무가설)\n- H₁: μ ≠ μ₀ (대립가설) - 양측검정\n\n#### 2단계: 검정통계량 계산\n$$Z = \\frac{\\bar{X} - \\mu_0}{\\frac{\\sigma}{\\sqrt{n}}}$$\n\n#### 3단계: p-값 계산 및 결론\n- p-값 < α ⟹ H₀ 기각\n- p-값 ≥ α ⟹ H₀ 채택\n\n### 💡 핵심 통찰\n\n> Z-검정의 아름다움은 **완벽한 정보**(σ를 알고 있음)에 기반한다는 점입니다. 하지만 현실에서 σ를 정확히 아는 경우는 거의 없습니다! 😱"
  },
  {
   "cell_type": "code",
   "execution_count": null,
   "metadata": {},
   "source": "# 🧪 Z-검정 시뮬레이터\nclass ZTestSimulator:\n    def __init__(self):\n        self.results = {}\n    \n    def perform_z_test(self, sample_data, population_mean, population_std, \n                      alpha=0.05, test_type='two-tailed'):\n        \"\"\"Z-검정 수행\"\"\"\n        \n        n = len(sample_data)\n        sample_mean = np.mean(sample_data)\n        \n        # 검정통계량 계산\n        z_statistic = (sample_mean - population_mean) / (population_std / np.sqrt(n))\n        \n        # p-값 계산\n        if test_type == 'two-tailed':\n            p_value = 2 * (1 - stats.norm.cdf(abs(z_statistic)))\n        elif test_type == 'right-tailed':\n            p_value = 1 - stats.norm.cdf(z_statistic)\n        else:  # left-tailed\n            p_value = stats.norm.cdf(z_statistic)\n        \n        # 임계값 계산\n        if test_type == 'two-tailed':\n            z_critical = stats.norm.ppf(1 - alpha/2)\n            rejection_condition = abs(z_statistic) > z_critical\n        elif test_type == 'right-tailed':\n            z_critical = stats.norm.ppf(1 - alpha)\n            rejection_condition = z_statistic > z_critical\n        else:\n            z_critical = stats.norm.ppf(alpha)\n            rejection_condition = z_statistic < z_critical\n        \n        # 신뢰구간 계산 (양측)\n        margin_of_error = stats.norm.ppf(1 - alpha/2) * (population_std / np.sqrt(n))\n        ci_lower = sample_mean - margin_of_error\n        ci_upper = sample_mean + margin_of_error\n        \n        return {\n            'sample_mean': sample_mean,\n            'z_statistic': z_statistic,\n            'p_value': p_value,\n            'z_critical': z_critical,\n            'reject_null': rejection_condition,\n            'ci_lower': ci_lower,\n            'ci_upper': ci_upper,\n            'alpha': alpha,\n            'test_type': test_type\n        }\n    \n    def visualize_z_test(self, result, population_mean):\n        \"\"\"Z-검정 결과 시각화\"\"\"\n        \n        z = np.linspace(-4, 4, 1000)\n        pdf = stats.norm.pdf(z, 0, 1)\n        \n        fig = go.Figure()\n        \n        # 기본 분포\n        fig.add_trace(go.Scatter(\n            x=z, y=pdf,\n            mode='lines',\n            name='표준정규분포',\n            line=dict(width=3, color='blue')\n        ))\n        \n        # 기각역 표시\n        alpha = result['alpha']\n        test_type = result['test_type']\n        \n        if test_type == 'two-tailed':\n            z_crit = result['z_critical']\n            \n            # 좌측 기각역\n            z_left = z[z <= -z_crit]\n            pdf_left = stats.norm.pdf(z_left, 0, 1)\n            fig.add_trace(go.Scatter(\n                x=np.concatenate([z_left, z_left[::-1]]),\n                y=np.concatenate([pdf_left, np.zeros(len(pdf_left))]),\n                fill='toself',\n                fillcolor='rgba(255, 0, 0, 0.3)',\n                line=dict(width=0),\n                name='기각역',\n                showlegend=True\n            ))\n            \n            # 우측 기각역\n            z_right = z[z >= z_crit]\n            pdf_right = stats.norm.pdf(z_right, 0, 1)\n            fig.add_trace(go.Scatter(\n                x=np.concatenate([z_right, z_right[::-1]]),\n                y=np.concatenate([pdf_right, np.zeros(len(pdf_right))]),\n                fill='toself',\n                fillcolor='rgba(255, 0, 0, 0.3)',\n                line=dict(width=0),\n                showlegend=False\n            ))\n        \n        # 검정통계량 표시\n        z_stat = result['z_statistic']\n        fig.add_vline(\n            x=z_stat, \n            line_dash=\"solid\", \n            line_color=\"green\" if not result['reject_null'] else \"red\",\n            line_width=3,\n            annotation_text=f'Z = {z_stat:.3f}'\n        )\n        \n        # 임계값 표시\n        if test_type == 'two-tailed':\n            for z_val in [-result['z_critical'], result['z_critical']]:\n                fig.add_vline(x=z_val, line_dash=\"dash\", line_color=\"orange\")\n        \n        # 레이아웃\n        decision = \"귀무가설 기각\" if result['reject_null'] else \"귀무가설 채택\"\n        fig.update_layout(\n            title=f'Z-검정 결과: {decision} (p = {result[\"p_value\"]:.4f})',\n            xaxis_title='Z 값',\n            yaxis_title='확률밀도',\n            template='plotly_white',\n            height=500\n        )\n        \n        return fig\n\n# Z-검정 실습 예제\ndef z_test_example():\n    \"\"\"Z-검정 실습 예제: 공장 제품 품질 관리\"\"\"\n    \n    print(\"\"\"\n\n📦 사례연구: 스마트폰 배터리 수명 검사\n\n🏭 상황:\n- 스마트폰 배터리의 평균 수명은 24시간이어야 함 (품질 기준)\n- 과거 데이터로부터 표준편차는 2시간으로 알려져 있음 (σ = 2)\n- 새로운 생산 배치에서 36개 샘플을 추출하여 검사\n- 검사 결과 평균 수명이 23.2시간으로 나타남\n🤔 질문: 이 배치가 품질 기준을 만족한다고 볼 수 있을까?\n\n\"\"\")\n    \n    # 데이터 설정\n    np.random.seed(42)\n    true_mean = 23.2  # 실제 새 배치의 평균\n    population_std = 2\n    sample_size = 36\n    hypothesized_mean = 24  # 품질 기준\n    \n    # 샘플 데이터 생성 (실제 평균 23.2시간)\n    sample_data = np.random.normal(true_mean, population_std, sample_size)\n    \n    # Z-검정 수행\n    simulator = ZTestSimulator()\n    result = simulator.perform_z_test(\n        sample_data, hypothesized_mean, population_std, \n        alpha=0.05, test_type='two-tailed'\n    )\n    \n    # 결과 시각화\n    fig = simulator.visualize_z_test(result, hypothesized_mean)\n    fig.show()\n    \n    # 결과 출력\n    print(f\"\"\"\n\n📊 Z-검정 결과 분석:\n\n🎯 가설 설정:\n    H₀: μ = 24시간 (품질 기준 만족)\n    H₁: μ ≠ 24시간 (품질 기준 불만족)\n\n📈 검정 통계량:\n    표본 평균: {result['sample_mean']:.3f}시간\n    표준오차: {population_std/np.sqrt(sample_size):.3f}시간\n    Z 통계량: {result['z_statistic']:.3f}\n    p-값: {result['p_value']:.4f}\n\n🎯 임계값: ±{result['z_critical']:.3f}\n\n📋 95% 신뢰구간: [{result['ci_lower']:.3f}, {result['ci_upper']:.3f}]\n\n\n{'🚨 결론: 귀무가설을 기각합니다!' if result['reject_null'] else '✅ 결론: 귀무가설을 채택합니다!'}\n{'   → 이 배치는 품질 기준을 만족하지 않습니다.' if result['reject_null'] else '   → 이 배치는 품질 기준을 만족합니다.'}\n\n💡 해석:\n{'   - p-값이 0.05보다 작으므로 통계적으로 유의한 차이가 있습니다.' if result['reject_null'] else '   - p-값이 0.05보다 크므로 통계적으로 유의한 차이가 없습니다.'}\n{'   - 배터리 수명이 기준보다 유의하게 짧습니다.' if result['reject_null'] else '   - 배터리 수명이 기준과 유의한 차이가 없습니다.'}\n\n\"\"\")\n\n# 실습 실행\nz_test_example()",
   "outputs": []
  },
  {
   "cell_type": "markdown",
   "metadata": {},
   "source": "## 🎯 5. 신뢰구간: 불확실성의 정량화\n\n신뢰구간은 **모집단 모수의 가능한 범위**를 나타내는 구간입니다.\n\n### 📏 95% 신뢰구간의 의미\n\n> 동일한 방법으로 100번의 표본을 뽑아 신뢰구간을 구한다면, 그 중 약 95개의 구간이 실제 모집단 평균 μ를 포함할 것이다.\n\n### 🔢 신뢰구간 공식 (Z-분포)\n\n$$\\bar{X} \\pm Z_{\\alpha/2} \\cdot \\frac{\\sigma}{\\sqrt{n}}$$\n\n여기서:\n- $\\bar{X}$: 표본평균\n- $Z_{\\alpha/2}$: 임계값 (예: 95% 신뢰구간이면 Z₀.₀₂₅ = 1.96)\n- $\\frac{\\sigma}{\\sqrt{n}}$: 표준오차\n\n### ⚠️ 흔한 오해\n\n❌ **잘못된 해석**: \"모집단 평균이 이 구간에 있을 확률이 95%이다\"\n\n✅ **올바른 해석**: \"이와 같은 방법으로 구한 구간들 중 95%가 모집단 평균을 포함한다\""
  },
  {
   "cell_type": "code",
   "execution_count": null,
   "metadata": {},
   "source": "# 🎯 신뢰구간 시뮬레이션\ndef confidence_interval_simulation(true_mean=50, true_std=10, sample_size=30, \n                                 confidence_level=0.95, n_samples=100):\n    \"\"\"신뢰구간의 의미를 시뮬레이션으로 보여주는 함수\"\"\"\n    \n    np.random.seed(42)\n    alpha = 1 - confidence_level\n    z_critical = stats.norm.ppf(1 - alpha/2)\n    \n    # 여러 표본에서 신뢰구간들 계산\n    sample_means = []\n    ci_lowers = []\n    ci_uppers = []\n    contains_true_mean = []\n    \n    for i in range(n_samples):\n        # 표본 추출\n        sample = np.random.normal(true_mean, true_std, sample_size)\n        sample_mean = np.mean(sample)\n        \n        # 신뢰구간 계산\n        margin_of_error = z_critical * (true_std / np.sqrt(sample_size))\n        ci_lower = sample_mean - margin_of_error\n        ci_upper = sample_mean + margin_of_error\n        \n        sample_means.append(sample_mean)\n        ci_lowers.append(ci_lower)\n        ci_uppers.append(ci_upper)\n        contains_true_mean.append(ci_lower <= true_mean <= ci_upper)\n    \n    # 결과 정리\n    coverage_rate = np.mean(contains_true_mean)\n    \n    # 시각화\n    fig = go.Figure()\n    \n    # 신뢰구간들 그리기 (처음 50개만)\n    display_count = min(50, n_samples)\n    \n    for i in range(display_count):\n        color = 'green' if contains_true_mean[i] else 'red'\n        \n        # 신뢰구간 선\n        fig.add_trace(go.Scatter(\n            x=[ci_lowers[i], ci_uppers[i]],\n            y=[i, i],\n            mode='lines',\n            line=dict(color=color, width=2),\n            showlegend=False\n        ))\n        \n        # 표본평균 점\n        fig.add_trace(go.Scatter(\n            x=[sample_means[i]],\n            y=[i],\n            mode='markers',\n            marker=dict(color=color, size=6),\n            showlegend=False\n        ))\n    \n    # 실제 모집단 평균 선\n    fig.add_vline(\n        x=true_mean,\n        line_dash=\"dash\",\n        line_color=\"blue\",\n        line_width=3,\n        annotation_text=f'실제 평균 = {true_mean}'\n    )\n    \n    # 범례용 더미 트레이스\n    fig.add_trace(go.Scatter(\n        x=[None], y=[None],\n        mode='lines',\n        line=dict(color='green', width=2),\n        name=f'포함 구간 ({np.sum(contains_true_mean[:display_count])}/{display_count})'\n    ))\n    \n    fig.add_trace(go.Scatter(\n        x=[None], y=[None],\n        mode='lines',\n        line=dict(color='red', width=2),\n        name=f'미포함 구간 ({display_count - np.sum(contains_true_mean[:display_count])}/{display_count})'\n    ))\n    \n    # 레이아웃\n    fig.update_layout(\n        title=f'{confidence_level*100:.0f}% 신뢰구간 시뮬레이션 (커버리지: {coverage_rate:.1%})',\n        xaxis_title='값',\n        yaxis_title='표본 번호',\n        template='plotly_white',\n        height=600,\n        yaxis=dict(autorange=\"reversed\")  # 위에서부터 표시\n    )\n    \n    return fig, coverage_rate, sample_means, ci_lowers, ci_uppers\n\n# 인터랙티브 신뢰구간 시뮬레이션\n@interact(\n    confidence_level=FloatSlider(min=0.8, max=0.99, step=0.01, value=0.95, \n                                description='신뢰수준'),\n    sample_size=IntSlider(min=10, max=100, step=10, value=30, \n                         description='표본크기'),\n    n_samples=IntSlider(min=50, max=200, step=50, value=100, \n                       description='시뮬레이션 횟수')\n)\ndef interactive_ci_simulation(confidence_level, sample_size, n_samples):\n    fig, coverage_rate, _, _, _ = confidence_interval_simulation(\n        true_mean=50, true_std=10, sample_size=sample_size, \n        confidence_level=confidence_level, n_samples=n_samples\n    )\n    fig.show()\n    \n    expected_coverage = confidence_level\n    difference = abs(coverage_rate - expected_coverage)\n    \n    print(f\"\"\"\n\n📊 신뢰구간 분석 결과:\n\n🎯 이론적 커버리지: {expected_coverage:.1%}\n📈 실제 커버리지: {coverage_rate:.1%}\n📐 차이: {difference:.1%}\n\n💡 해석:\n{f'✅ 이론과 잘 일치합니다!' if difference < 0.05 else '⚠️ 시뮬레이션 횟수를 늘려보세요.'}\n\n🔍 신뢰구간의 의미:\n- 초록선: 실제 평균을 포함하는 신뢰구간\n- 빨간선: 실제 평균을 포함하지 않는 신뢰구간\n- 파란 점선: 실제 모집단 평균 (μ = 50)\n\n\"\"\")",
   "outputs": []
  },
  {
   "cell_type": "markdown",
   "metadata": {},
   "source": [
    "## 🤔 6. 완벽한 세상의 한계\n",
    "\n",
    "지금까지 우리는 **완벽한 세상**에서의 통계 검정을 살펴봤습니다. 하지만 현실은 어떨까요?\n",
    "\n",
    "### ❓ 생각해보기\n",
    "\n",
    "다음 상황들을 생각해보세요:\n",
    "\n",
    "1. **신제품 개발**: 새로운 약물의 효과를 테스트할 때, 과거 데이터가 없어서 σ를 모른다면?\n",
    "\n",
    "2. **품질 관리**: 소규모 공장에서 매일 3-4개의 제품만 검사할 수 있다면?\n",
    "\n",
    "3. **A/B 테스트**: 웹사이트 방문자 중 일부만 새 버전을 테스트할 때, 표본이 작다면?\n",
    "\n",
    "### 🚨 Z-검정의 현실적 한계\n",
    "\n",
    "1. **σ를 아는 경우가 드물다** 😱\n",
    "   - 실제로는 표본표준편차 s를 사용해야 함\n",
    "   - s는 σ의 추정값이므로 불확실성이 추가됨\n",
    "\n",
    "2. **작은 표본 크기** 📏\n",
    "   - 중심극한정리가 잘 작동하지 않음 (n < 30)\n",
    "   - 표본분포가 정규분포에서 벗어남\n",
    "\n",
    "3. **추정의 불확실성** 🎲\n",
    "   - σ를 s로 대체하면 추가적인 변동성 발생\n",
    "   - Z-분포보다 \"더 넓은\" 분포가 필요함\n",
    "\n",
    "### 💡 다음 이야기 예고\n",
    "\n",
    "> **1908년 더블린**, 기네스 맥주 공장의 한 젊은 통계학자가 이 문제로 고민하고 있었습니다. 그의 이름은 **William Gosset**... 그리고 그는 곧 통계학 역사를 바꿀 발견을 하게 됩니다! 🍺✨\n",
    "\n",
    "다음 노트북에서는 이 흥미진진한 이야기와 함께 **t-분포의 탄생**을 다뤄보겠습니다!"
   ]
  },
  {
   "cell_type": "code",
   "execution_count": null,
   "metadata": {},
   "source": "# 🎭 Z-검정 vs 실제 상황 비교 시뮬레이션\ndef compare_z_vs_reality(true_mean=100, true_std=15, sample_sizes=[5, 10, 30, 100]):\n    \"\"\"Z-검정(σ 알려짐)과 실제 상황(σ 모름) 비교\"\"\"\n    \n    np.random.seed(42)\n    \n    fig = make_subplots(\n        rows=2, cols=2,\n        subplot_titles=[f'n = {n}' for n in sample_sizes],\n        specs=[[{'type': 'histogram'}, {'type': 'histogram'}],\n               [{'type': 'histogram'}, {'type': 'histogram'}]]\n    )\n    \n    results = {}\n    \n    for idx, n in enumerate(sample_sizes):\n        row = idx // 2 + 1\n        col = idx % 2 + 1\n        \n        # 1000번의 표본 추출\n        z_statistics = []\n        t_statistics = []\n        \n        for _ in range(1000):\n            sample = np.random.normal(true_mean, true_std, n)\n            sample_mean = np.mean(sample)\n            sample_std = np.std(sample, ddof=1)  # 표본표준편차\n            \n            # Z-통계량 (σ 알려진 경우)\n            z_stat = (sample_mean - true_mean) / (true_std / np.sqrt(n))\n            z_statistics.append(z_stat)\n            \n            # t-통계량 (σ 모르는 경우)\n            t_stat = (sample_mean - true_mean) / (sample_std / np.sqrt(n))\n            t_statistics.append(t_stat)\n        \n        # Z-통계량 히스토그램\n        fig.add_trace(\n            go.Histogram(\n                x=z_statistics,\n                nbinsx=50,\n                name=f'Z-통계량 (n={n})',\n                opacity=0.7,\n                marker_color='blue',\n                legendgroup=f'group{n}'\n            ),\n            row=row, col=col\n        )\n        \n        # t-통계량 히스토그램\n        fig.add_trace(\n            go.Histogram(\n                x=t_statistics,\n                nbinsx=50,\n                name=f't-통계량 (n={n})',\n                opacity=0.5,\n                marker_color='red',\n                legendgroup=f'group{n}'\n            ),\n            row=row, col=col\n        )\n        \n        # 이론적 분포 곡선 추가\n        x_range = np.linspace(-4, 4, 100)\n        \n        # 표준정규분포 (Z)\n        y_norm = stats.norm.pdf(x_range, 0, 1) * 50  # 스케일링\n        fig.add_trace(\n            go.Scatter(\n                x=x_range,\n                y=y_norm,\n                mode='lines',\n                name=f'표준정규분포 (n={n})',\n                line=dict(color='blue', width=3),\n                legendgroup=f'group{n}'\n            ),\n            row=row, col=col\n        )\n        \n        # t-분포\n        y_t = stats.t.pdf(x_range, n-1) * 50  # 자유도 n-1\n        fig.add_trace(\n            go.Scatter(\n                x=x_range,\n                y=y_t,\n                mode='lines',\n                name=f't-분포 (df={n-1})',\n                line=dict(color='red', width=3, dash='dash'),\n                legendgroup=f'group{n}'\n            ),\n            row=row, col=col\n        )\n        \n        # 통계 저장\n        results[n] = {\n            'z_mean': np.mean(z_statistics),\n            'z_std': np.std(z_statistics),\n            't_mean': np.mean(t_statistics),\n            't_std': np.std(t_statistics)\n        }\n    \n    fig.update_layout(\n        title='완벽한 세상 vs 현실: σ를 알 때와 모를 때의 차이',\n        height=800,\n        showlegend=True\n    )\n    \n    return fig, results\n\n# 비교 시뮬레이션 실행\nfig, results = compare_z_vs_reality()\nfig.show()\n\nprint(\"\"\"\n\n🔍 완벽한 세상 vs 현실 세상 비교:\n\n\"\"\")\n\nfor n in [5, 10, 30, 100]:\n    r = results[n]\n    print(f\"\"\"\n\n📊 표본크기 n = {n}:\n\nZ-통계량 (σ 알려짐): 평균 = {r['z_mean']:.3f}, 표준편차 = {r['z_std']:.3f}\nt-통계량 (σ 모름):   평균 = {r['t_mean']:.3f}, 표준편차 = {r['t_std']:.3f}\n차이: {abs(r['t_std'] - r['z_std']):.3f} {'(거의 없음)' if abs(r['t_std'] - r['z_std']) < 0.1 else '(상당한 차이)'}\"\"\")\n\nprint(\"\"\"\n\n\n💡 핵심 관찰:\n\n🎯 표본크기가 작을수록 (n=5, 10) t-통계량의 분산이 Z-통계량보다 크다\n🎯 표본크기가 클수록 (n=100) 두 분포가 거의 같아진다\n🎯 이것이 바로 William Gosset이 발견한 현상이다!\n\n🚀 다음 노트북에서 계속...\"\"\")",
   "outputs": []
  },
  {
   "cell_type": "markdown",
   "metadata": {},
   "source": "## 📚 핵심 개념 요약\n\n### ✨ 오늘 배운 것들\n\n1. **정규분포**: 자연의 가장 아름다운 분포, 68-95-99.7 규칙\n\n2. **중심극한정리**: 어떤 분포든 표본평균들은 정규분포에 수렴\n\n3. **Z-분포**: 평균 0, 표준편차 1인 표준정규분포\n\n4. **Z-검정**: σ를 알 때 사용하는 완벽한 가설검정\n\n5. **신뢰구간**: 모수의 가능한 범위를 나타내는 구간\n\n6. **현실의 한계**: σ를 모르는 상황의 문제점\n\n### 🔑 핵심 공식들\n\n- **표준화**: $Z = \\frac{X - \\mu}{\\sigma}$\n- **표본평균 분포**: $\\bar{X} \\sim N(\\mu, \\frac{\\sigma^2}{n})$\n- **Z-검정 통계량**: $Z = \\frac{\\bar{X} - \\mu_0}{\\frac{\\sigma}{\\sqrt{n}}}$\n- **신뢰구간**: $\\bar{X} \\pm Z_{\\alpha/2} \\cdot \\frac{\\sigma}{\\sqrt{n}}$\n\n---\n\n## 🧩 연습 문제\n\n### 문제 1: 기본 개념\n정규분포 N(100, 15²)에서 표본 25개를 뽑았을 때, 표본평균의 분포는?\n\n### 문제 2: Z-검정 \n어떤 공장의 제품 무게는 평균 500g, 표준편차 20g인 정규분포를 따른다고 알려져 있습니다. 새로운 생산 방식으로 만든 제품 36개의 평균 무게가 495g이었습니다. 이 차이가 통계적으로 유의한가요? (α = 0.05)\n\n### 문제 3: 신뢰구간\n위 문제에서 새로운 생산 방식의 평균 무게에 대한 95% 신뢰구간을 구하세요.\n\n---\n\n## 🚀 다음 여행지: \"기네스의 비밀\"\n\n다음 노트북에서는 1908년 더블린로 시간여행을 떠납니다! 🍺\n\n- William Gosset의 고민\n- 작은 표본의 비밀\n- Student's t-분포의 탄생\n- 몬테카를로로 직접 유도해보기\n\n**다음 노트북**: `02_birth_of_t_distribution.ipynb`"
  }
 ],
 "metadata": {
  "kernelspec": {
   "display_name": "Python 3",
   "language": "python",
   "name": "python3"
  },
  "language_info": {
   "codemirror_mode": {
    "name": "ipython",
    "version": 3
   },
   "file_extension": ".py",
   "mimetype": "text/x-python",
   "name": "python",
   "nbconvert_exporter": "python",
   "pygments_lexer": "ipython3",
   "version": "3.8.5"
  }
 },
 "nbformat": 4,
 "nbformat_minor": 4
}