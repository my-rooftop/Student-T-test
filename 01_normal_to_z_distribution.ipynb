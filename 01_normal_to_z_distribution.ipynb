{
 "cells": [
  {
   "cell_type": "markdown",
   "metadata": {},
   "source": [
    "# 🌟 완벽한 세상: 정규분포와 Z-검정\n",
    "\n",
    "## 📖 이야기의 시작\n",
    "\n",
    "1900년대 초, 통계학자들은 **완벽한 세상**을 꿈꿨습니다. 🌍✨\n",
    "\n",
    "그들이 꿈꾸던 세상은 이런 곳이었습니다:\n",
    "- 모든 데이터는 아름다운 **정규분포**를 따른다\n",
    "- **모집단의 표준편차 σ**는 이미 알려져 있다\n",
    "- 표본 크기는 충분히 크다 (n ≥ 30)\n",
    "\n",
    "이런 완벽한 조건에서는 **Z-분포**를 사용하여 모든 통계적 검정을 완벽하게 수행할 수 있었습니다. 하지만... 과연 현실은 어떨까요? 🤔\n",
    "\n",
    "---\n",
    "\n",
    "## 🎯 학습 목표\n",
    "\n",
    "이 노트북을 통해 다음을 학습합니다:\n",
    "1. 정규분포의 특성과 중심극한정리\n",
    "2. Z-분포와 표준화의 개념\n",
    "3. Z-검정의 원리와 수행 방법\n",
    "4. 신뢰구간의 의미와 해석\n",
    "5. 완벽한 세상의 한계점"
   ]
  },
  {
   "cell_type": "code",
   "execution_count": 1,
   "metadata": {},
   "outputs": [
    {
     "name": "stdout",
     "output_type": "stream",
     "text": [
      "📚 모든 라이브러리가 성공적으로 로드되었습니다!\n",
      "🎉 완벽한 세상으로의 여행을 시작합니다!\n"
     ]
    }
   ],
   "source": [
    "# 필수 라이브러리 불러오기\n",
    "import numpy as np\n",
    "import pandas as pd\n",
    "import matplotlib.pyplot as plt\n",
    "import seaborn as sns\n",
    "import plotly.graph_objects as go\n",
    "import plotly.express as px\n",
    "from plotly.subplots import make_subplots\n",
    "from scipy import stats\n",
    "from ipywidgets import interact, widgets, IntSlider, FloatSlider\n",
    "import warnings\n",
    "\n",
    "warnings.filterwarnings('ignore')\n",
    "\n",
    "# 시각화 스타일 설정\n",
    "plt.style.use('seaborn-v0_8-darkgrid')\n",
    "sns.set_palette(\"husl\")\n",
    "plt.rcParams['figure.figsize'] = (12, 8)\n",
    "plt.rcParams['font.size'] = 12\n",
    "\n",
    "# 한글 폰트 설정 (필요시)\n",
    "plt.rcParams['font.family'] = 'DejaVu Sans'\n",
    "\n",
    "print(\"📚 모든 라이브러리가 성공적으로 로드되었습니다!\")\n",
    "print(\"🎉 완벽한 세상으로의 여행을 시작합니다!\")"
   ]
  },
  {
   "cell_type": "markdown",
   "metadata": {},
   "source": [
    "## 🌈 1. 정규분포: 자연의 가장 아름다운 곡선\n",
    "\n",
    "정규분포는 **가우스 분포**라고도 불리며, 자연 현상에서 가장 자주 관찰되는 분포입니다.\n",
    "\n",
    "### 📊 정규분포의 특성\n",
    "- **대칭성**: 평균을 중심으로 완벽하게 대칭\n",
    "- **종 모양**: 아름다운 bell curve\n",
    "- **68-95-99.7 규칙**: \n",
    "  - 68%의 데이터가 μ ± σ 범위에\n",
    "  - 95%의 데이터가 μ ± 2σ 범위에\n",
    "  - 99.7%의 데이터가 μ ± 3σ 범위에\n",
    "\n",
    "### 🔢 수학적 표현\n",
    "\n",
    "정규분포 N(μ, σ²)의 확률밀도함수:\n",
    "\n",
    "$$f(x) = \\frac{1}{\\sigma\\sqrt{2\\pi}} e^{-\\frac{(x-\\mu)^2}{2\\sigma^2}}$$\n",
    "\n",
    "여기서:\n",
    "- μ: 평균 (mean)\n",
    "- σ: 표준편차 (standard deviation)\n",
    "- σ²: 분산 (variance)"
   ]
  },
  {
   "cell_type": "code",
   "execution_count": 2,
   "metadata": {},
   "outputs": [
    {
     "data": {
      "application/vnd.jupyter.widget-view+json": {
       "model_id": "8455e0bdcb3d4908839976880b33c878",
       "version_major": 2,
       "version_minor": 0
      },
      "text/plain": [
       "interactive(children=(FloatSlider(value=0.0, description='평균 (μ)', max=5.0, min=-5.0, step=0.5), FloatSlider(v…"
      ]
     },
     "metadata": {},
     "output_type": "display_data"
    }
   ],
   "source": [
    "# 🎨 인터랙티브 정규분포 시각화\n",
    "def plot_normal_distribution(mu=0, sigma=1, show_areas=True):\n",
    "    \"\"\"정규분포를 시각화하는 함수\"\"\"\n",
    "    \n",
    "    # 고정된 범위 설정 (더 넓은 범위로 설정)\n",
    "    x_min, x_max = -15, 15\n",
    "    y_min, y_max = 0, 0.5\n",
    "    \n",
    "    x = np.linspace(x_min, x_max, 1000)\n",
    "    y = stats.norm.pdf(x, mu, sigma)\n",
    "    \n",
    "    # 플롯 생성\n",
    "    fig = go.Figure()\n",
    "    \n",
    "    # 정규분포 곡선\n",
    "    fig.add_trace(go.Scatter(\n",
    "        x=x, y=y,\n",
    "        mode='lines',\n",
    "        name=f'N({mu}, {sigma}²)',\n",
    "        line=dict(width=3, color='blue')\n",
    "    ))\n",
    "    \n",
    "    if show_areas:\n",
    "        # 68% 영역 (μ ± σ)\n",
    "        x_68 = x[(x >= mu - sigma) & (x <= mu + sigma)]\n",
    "        y_68 = stats.norm.pdf(x_68, mu, sigma)\n",
    "        if len(x_68) > 0:\n",
    "            fig.add_trace(go.Scatter(\n",
    "                x=np.concatenate([x_68, x_68[::-1]]),\n",
    "                y=np.concatenate([y_68, np.zeros(len(y_68))]),\n",
    "                fill='toself',\n",
    "                fillcolor='rgba(255, 0, 0, 0.3)',\n",
    "                line=dict(width=0),\n",
    "                name='68% (μ ± σ)',\n",
    "                showlegend=True\n",
    "            ))\n",
    "        \n",
    "        # 95% 영역 (μ ± 2σ)\n",
    "        x_95_left = x[(x >= mu - 2*sigma) & (x < mu - sigma)]\n",
    "        y_95_left = stats.norm.pdf(x_95_left, mu, sigma)\n",
    "        x_95_right = x[(x > mu + sigma) & (x <= mu + 2*sigma)]\n",
    "        y_95_right = stats.norm.pdf(x_95_right, mu, sigma)\n",
    "        \n",
    "        for x_95, y_95, name in [(x_95_left, y_95_left, '95% 영역 (좌)'), \n",
    "                                 (x_95_right, y_95_right, '95% 영역 (우)')]:\n",
    "            if len(x_95) > 0:\n",
    "                fig.add_trace(go.Scatter(\n",
    "                    x=np.concatenate([x_95, x_95[::-1]]),\n",
    "                    y=np.concatenate([y_95, np.zeros(len(y_95))]),\n",
    "                    fill='toself',\n",
    "                    fillcolor='rgba(0, 255, 0, 0.2)',\n",
    "                    line=dict(width=0),\n",
    "                    name='95% (μ ± 2σ)' if 'left' in name else '',\n",
    "                    showlegend='left' in name\n",
    "                ))\n",
    "    \n",
    "    # 평균선 추가\n",
    "    fig.add_vline(x=mu, line_dash=\"dash\", line_color=\"red\", \n",
    "                  annotation_text=f\"μ = {mu}\")\n",
    "    \n",
    "    # 레이아웃 설정 - 축 범위 고정\n",
    "    fig.update_layout(\n",
    "        title=f'정규분포 N({mu}, {sigma}²) - 완벽한 세상의 기초',\n",
    "        xaxis_title='값 (X)',\n",
    "        yaxis_title='확률밀도',\n",
    "        template='plotly_white',\n",
    "        height=500,\n",
    "        showlegend=True,\n",
    "        xaxis=dict(range=[x_min, x_max]),  # X축 고정\n",
    "        yaxis=dict(range=[y_min, y_max])   # Y축 고정\n",
    "    )\n",
    "    \n",
    "    return fig\n",
    "\n",
    "# 인터랙티브 위젯으로 정규분포 탐색\n",
    "@interact(mu=FloatSlider(min=-5, max=5, step=0.5, value=0, description='평균 (μ)'),\n",
    "          sigma=FloatSlider(min=0.5, max=3, step=0.1, value=1, description='표준편차 (σ)'),\n",
    "          show_areas=widgets.Checkbox(value=True, description='영역 표시'))\n",
    "def interactive_normal(mu, sigma, show_areas):\n",
    "    # 기존 출력 클리어\n",
    "    from IPython.display import clear_output\n",
    "    clear_output(wait=True)\n",
    "    \n",
    "    fig = plot_normal_distribution(mu, sigma, show_areas)\n",
    "    \n",
    "    # 주요 통계량 출력\n",
    "    print(f\"\"\"\n",
    "\n",
    "💡 핵심 통찰:\n",
    "\n",
    "📊 평균 (μ): {mu}\n",
    "📏 표준편차 (σ): {sigma}\n",
    "📐 분산 (σ²): {sigma**2:.2f}\n",
    "🎯 68% 범위: [{mu-sigma:.2f}, {mu+sigma:.2f}]\n",
    "🎯 95% 범위: [{mu-2*sigma:.2f}, {mu+2*sigma:.2f}]\n",
    "🎯 99.7% 범위: [{mu-3*sigma:.2f}, {mu+3*sigma:.2f}]\n",
    "\n",
    "\"\"\")\n",
    "    \n",
    "    fig.show()\n",
    "    \n",
    "    # 명시적으로 None 반환하여 추가 출력 방지\n",
    "    return None"
   ]
  },
  {
   "cell_type": "markdown",
   "metadata": {},
   "source": [
    "## 🔄 2. 중심극한정리: 마법 같은 정리\n",
    "\n",
    "중심극한정리(Central Limit Theorem)는 통계학의 가장 아름다운 정리 중 하나입니다.\n",
    "\n",
    "### 📜 중심극한정리의 내용\n",
    "\n",
    "> **어떤 분포**를 따르는 모집단이라도, 표본 크기가 충분히 클 때 (일반적으로 n ≥ 30), **표본평균들의 분포**는 정규분포에 가까워진다.\n",
    "\n",
    "수학적으로 표현하면:\n",
    "\n",
    "$$\\bar{X} \\sim N\\left(\\mu, \\frac{\\sigma^2}{n}\\right)$$\n",
    "\n",
    "또는 표준화하면:\n",
    "\n",
    "$$Z = \\frac{\\bar{X} - \\mu}{\\frac{\\sigma}{\\sqrt{n}}} \\sim N(0, 1)$$\n",
    "\n",
    "### 💫 중심극한정리의 마법\n",
    "- 원래 분포가 **어떤 모양**이든 상관없다!\n",
    "- 균등분포, 지수분포, 베르누이분포... 모두 OK!\n",
    "- 표본 크기가 클수록 더 정확해진다\n",
    "\n",
    "### 📈 Q-Q Plot이란?\n",
    "\n",
    "**Q-Q Plot**(Quantile-Quantile Plot)은 두 분포의 분위수(quantile)를 비교하는 시각화 도구입니다.\n",
    "\n",
    "#### 🔍 Q-Q Plot 읽는 법\n",
    "- **X축**: 이론적 정규분포의 분위수\n",
    "- **Y축**: 실제 데이터의 분위수 (표준화됨)\n",
    "- **빨간 대각선**: 완벽한 정규분포일 때의 이상적 선 (y = x)\n",
    "\n",
    "#### 📊 해석 방법\n",
    "✅ **점들이 대각선에 가까움** → 정규분포에 가까움  \n",
    "❌ **점들이 대각선에서 벗어남** → 정규분포에서 벗어남\n",
    "\n",
    "- **점들이 S자 곡선**: 치우침(skewness) 존재\n",
    "- **점들이 위로 볼록**: 두꺼운 꼬리(heavy tail)\n",
    "- **점들이 아래로 볼록**: 얇은 꼬리(light tail)\n",
    "\n",
    "중심극한정리가 잘 작동한다면, 표본평균들의 Q-Q plot에서 점들이 빨간 대각선에 가깝게 분포해야 합니다!"
   ]
  },
  {
   "cell_type": "code",
   "execution_count": 3,
   "metadata": {},
   "outputs": [
    {
     "data": {
      "application/vnd.jupyter.widget-view+json": {
       "model_id": "1c2b61fcfdec4a94bc169888b954120f",
       "version_major": 2,
       "version_minor": 0
      },
      "text/plain": [
       "interactive(children=(Dropdown(description='원분포:', options=(('균등분포', 'uniform'), ('지수분포', 'exponential'), ('감마…"
      ]
     },
     "metadata": {},
     "output_type": "display_data"
    }
   ],
   "source": [
    "# 🎭 중심극한정리 시뮬레이션\n",
    "def demonstrate_central_limit_theorem(distribution='uniform', n_samples=30, n_simulations=1000):\n",
    "    \"\"\"중심극한정리를 시연하는 함수\"\"\"\n",
    "    \n",
    "    np.random.seed(42)  # 재현가능한 결과를 위한 시드 설정\n",
    "    \n",
    "    # 다양한 원분포에서 데이터 생성\n",
    "    if distribution == 'uniform':\n",
    "        population_data = np.random.uniform(0, 10, 10000)\n",
    "        dist_name = '균등분포 U(0,10)'\n",
    "    elif distribution == 'exponential':\n",
    "        population_data = np.random.exponential(2, 10000)\n",
    "        dist_name = '지수분포 Exp(λ=0.5)'\n",
    "    elif distribution == 'skewed':\n",
    "        population_data = np.random.gamma(2, 2, 10000)\n",
    "        dist_name = '감마분포 Γ(2,2)'\n",
    "    elif distribution == 'normal':\n",
    "        population_data = np.random.normal(5, 2, 10000)\n",
    "        dist_name = '정규분포 N(5,2²)'\n",
    "    else:  # bimodal\n",
    "        data1 = np.random.normal(3, 1, 5000)\n",
    "        data2 = np.random.normal(7, 1, 5000)\n",
    "        population_data = np.concatenate([data1, data2])\n",
    "        dist_name = '이봉분포 (Bimodal)'\n",
    "    \n",
    "    # 표본평균들 수집\n",
    "    sample_means = []\n",
    "    for _ in range(n_simulations):\n",
    "        sample = np.random.choice(population_data, n_samples, replace=True)\n",
    "        sample_means.append(np.mean(sample))\n",
    "    \n",
    "    sample_means = np.array(sample_means)\n",
    "    \n",
    "    # 이론적 값들 계산\n",
    "    pop_mean = np.mean(population_data)\n",
    "    pop_std = np.std(population_data)\n",
    "    theoretical_mean = pop_mean\n",
    "    theoretical_std = pop_std / np.sqrt(n_samples)\n",
    "    \n",
    "    # 시각화\n",
    "    fig = make_subplots(\n",
    "        rows=2, cols=2,\n",
    "        subplot_titles=['1. 원래 모집단 분포', '2. 표본평균들의 분포', \n",
    "                       '3. 정규분포와 비교', '4. Q-Q 플롯'],\n",
    "        specs=[[{'type': 'histogram'}, {'type': 'histogram'}],\n",
    "               [{'type': 'scatter'}, {'type': 'scatter'}]]\n",
    "    )\n",
    "    \n",
    "    # 1. 원래 분포 - 축 범위 고정\n",
    "    fig.add_trace(\n",
    "        go.Histogram(x=population_data[:1000], nbinsx=50, name='원분포', \n",
    "                    marker_color='lightblue', opacity=0.7),\n",
    "        row=1, col=1\n",
    "    )\n",
    "    \n",
    "    # 2. 표본평균들의 분포 - 축 범위 고정\n",
    "    fig.add_trace(\n",
    "        go.Histogram(x=sample_means, nbinsx=50, name='표본평균들', \n",
    "                    marker_color='lightgreen', opacity=0.7),\n",
    "        row=1, col=2\n",
    "    )\n",
    "    \n",
    "    # 3. 이론적 정규분포와 비교\n",
    "    x_theory = np.linspace(0, 12, 100)  # 고정된 범위\n",
    "    y_theory = stats.norm.pdf(x_theory, theoretical_mean, theoretical_std)\n",
    "    \n",
    "    # 히스토그램을 확률밀도로 변환\n",
    "    counts, bins = np.histogram(sample_means, bins=50, density=True, range=(0, 12))\n",
    "    bin_centers = (bins[:-1] + bins[1:]) / 2\n",
    "    \n",
    "    fig.add_trace(\n",
    "        go.Bar(x=bin_centers, y=counts, name='실제 분포', \n",
    "              marker_color='lightcoral', opacity=0.7),\n",
    "        row=2, col=1\n",
    "    )\n",
    "    \n",
    "    fig.add_trace(\n",
    "        go.Scatter(x=x_theory, y=y_theory, mode='lines', name='이론적 정규분포',\n",
    "                  line=dict(color='red', width=3)),\n",
    "        row=2, col=1\n",
    "    )\n",
    "    \n",
    "    # 4. Q-Q 플롯 - 축 범위 고정\n",
    "    theoretical_quantiles = stats.norm.ppf(np.linspace(0.01, 0.99, len(sample_means)))\n",
    "    sample_quantiles = np.sort(sample_means)\n",
    "    \n",
    "    # 표준화\n",
    "    sample_quantiles_std = (sample_quantiles - np.mean(sample_quantiles)) / np.std(sample_quantiles)\n",
    "    \n",
    "    fig.add_trace(\n",
    "        go.Scatter(x=theoretical_quantiles, y=sample_quantiles_std, mode='markers',\n",
    "                  name='Q-Q 점들', marker=dict(color='blue', size=4)),\n",
    "        row=2, col=2\n",
    "    )\n",
    "    \n",
    "    # 이상적인 선 (y=x)\n",
    "    line_range = [-3, 3]  # 고정된 범위\n",
    "    fig.add_trace(\n",
    "        go.Scatter(x=line_range, y=line_range, mode='lines',\n",
    "                  name='이상적 선', line=dict(color='red', dash='dash')),\n",
    "        row=2, col=2\n",
    "    )\n",
    "    \n",
    "    # 레이아웃 업데이트 - 축 범위 고정\n",
    "    fig.update_layout(\n",
    "        title=f'중심극한정리 시연: {dist_name} → 정규분포 (n={n_samples})',\n",
    "        height=800,\n",
    "        showlegend=True\n",
    "    )\n",
    "    \n",
    "    # 각 서브플롯의 축 범위 고정\n",
    "    fig.update_xaxes(range=[0, 12], row=1, col=1)  # 원분포 X축\n",
    "    fig.update_yaxes(range=[0, 600], row=1, col=1)  # 원분포 Y축\n",
    "    \n",
    "    fig.update_xaxes(range=[0, 12], row=1, col=2)  # 표본평균 X축\n",
    "    fig.update_yaxes(range=[0, 600], row=1, col=2)  # 표본평균 Y축\n",
    "    \n",
    "    fig.update_xaxes(range=[0, 12], row=2, col=1)  # 비교 X축\n",
    "    fig.update_yaxes(range=[0, 2], row=2, col=1)   # 비교 Y축\n",
    "    \n",
    "    fig.update_xaxes(range=[-3, 3], row=2, col=2)  # Q-Q X축\n",
    "    fig.update_yaxes(range=[-3, 3], row=2, col=2)  # Q-Q Y축\n",
    "    \n",
    "    # Q-Q 플롯 분석을 위한 데이터 반환\n",
    "    qq_data = {\n",
    "        'theoretical_quantiles': theoretical_quantiles,\n",
    "        'sample_quantiles_std': sample_quantiles_std\n",
    "    }\n",
    "    \n",
    "    return fig, sample_means, theoretical_mean, theoretical_std, qq_data\n",
    "\n",
    "def analyze_qq_plot(theoretical_quantiles, sample_quantiles_std):\n",
    "    \"\"\"Q-Q 플롯을 분석하여 정규성과 패턴을 평가\"\"\"\n",
    "    \n",
    "    # 상관계수 계산 (선형성 측정)\n",
    "    correlation = np.corrcoef(theoretical_quantiles, sample_quantiles_std)[0, 1]\n",
    "    \n",
    "    # 선형회귀로 기울기와 절편 계산\n",
    "    slope, intercept = np.polyfit(theoretical_quantiles, sample_quantiles_std, 1)\n",
    "    \n",
    "    # 잔차 계산 (대각선으로부터의 거리)\n",
    "    predicted = slope * theoretical_quantiles + intercept\n",
    "    residuals = sample_quantiles_std - predicted\n",
    "    rmse = np.sqrt(np.mean(residuals**2))\n",
    "    \n",
    "    # 패턴 분석\n",
    "    # 치우침 감지: 양끝점들의 잔차 분석\n",
    "    n_points = len(theoretical_quantiles)\n",
    "    left_tail = residuals[:n_points//10]  # 왼쪽 10%\n",
    "    right_tail = residuals[-n_points//10:]  # 오른쪽 10%\n",
    "    \n",
    "    skewness_pattern = \"대칭적\"\n",
    "    if np.mean(left_tail) > 0.1 and np.mean(right_tail) < -0.1:\n",
    "        skewness_pattern = \"우측 치우침 (S자 곡선)\"\n",
    "    elif np.mean(left_tail) < -0.1 and np.mean(right_tail) > 0.1:\n",
    "        skewness_pattern = \"좌측 치우침 (역S자 곡선)\"\n",
    "    \n",
    "    # 꼬리 두께 감지: 양끝에서 대각선으로부터의 거리\n",
    "    tail_deviation = np.mean(np.abs(residuals[:n_points//20])) + np.mean(np.abs(residuals[-n_points//20:]))\n",
    "    \n",
    "    tail_pattern = \"정상적\"\n",
    "    if tail_deviation > 0.2:\n",
    "        if np.mean(np.abs(left_tail)) > np.mean(np.abs(residuals[n_points//3:2*n_points//3])):\n",
    "            tail_pattern = \"두꺼운 꼬리 (Heavy tail)\"\n",
    "        else:\n",
    "            tail_pattern = \"얇은 꼬리 (Light tail)\"\n",
    "    \n",
    "    # 정규성 등급 결정\n",
    "    if correlation > 0.99:\n",
    "        normality_grade = \"A+ (매우 우수)\"\n",
    "        normality_comment = \"완벽에 가까운 정규분포입니다!\"\n",
    "    elif correlation > 0.98:\n",
    "        normality_grade = \"A (우수)\"\n",
    "        normality_comment = \"정규분포에 매우 가깝습니다.\"\n",
    "    elif correlation > 0.95:\n",
    "        normality_grade = \"B+ (양호)\"\n",
    "        normality_comment = \"정규분포에 가까우나 약간의 편차가 있습니다.\"\n",
    "    elif correlation > 0.90:\n",
    "        normality_grade = \"B (보통)\"\n",
    "        normality_comment = \"정규분포와 어느 정도 차이가 있습니다.\"\n",
    "    else:\n",
    "        normality_grade = \"C (개선 필요)\"\n",
    "        normality_comment = \"정규분포에서 상당히 벗어납니다.\"\n",
    "    \n",
    "    return {\n",
    "        'correlation': correlation,\n",
    "        'slope': slope,\n",
    "        'intercept': intercept,\n",
    "        'rmse': rmse,\n",
    "        'skewness_pattern': skewness_pattern,\n",
    "        'tail_pattern': tail_pattern,\n",
    "        'normality_grade': normality_grade,\n",
    "        'normality_comment': normality_comment\n",
    "    }\n",
    "\n",
    "# 인터랙티브 중심극한정리 데모\n",
    "@interact(\n",
    "    distribution=widgets.Dropdown(\n",
    "        options=[('균등분포', 'uniform'), ('지수분포', 'exponential'), \n",
    "                ('감마분포', 'skewed'), ('정규분포', 'normal'), ('이봉분포', 'bimodal')],\n",
    "        value='uniform',\n",
    "        description='원분포:'\n",
    "    ),\n",
    "    n_samples=IntSlider(min=5, max=200, step=5, value=30, description='표본크기 (n)'),\n",
    "    n_simulations=widgets.fixed(1000)\n",
    ")\n",
    "def interactive_clt(distribution, n_samples, n_simulations):\n",
    "    # 기존 출력 클리어\n",
    "    from IPython.display import clear_output\n",
    "    clear_output(wait=True)\n",
    "    \n",
    "    fig, sample_means, theo_mean, theo_std, qq_data = demonstrate_central_limit_theorem(\n",
    "        distribution, n_samples, n_simulations\n",
    "    )\n",
    "    \n",
    "    # Q-Q 플롯 분석\n",
    "    qq_analysis = analyze_qq_plot(qq_data['theoretical_quantiles'], qq_data['sample_quantiles_std'])\n",
    "    \n",
    "    # 통계 요약\n",
    "    actual_mean = np.mean(sample_means)\n",
    "    actual_std = np.std(sample_means)\n",
    "    \n",
    "    print(f\"\"\"\n",
    "\n",
    "🎯 중심극한정리 검증 결과:\n",
    "\n",
    "📊 이론적 평균: {theo_mean:.3f}  |  실제 평균: {actual_mean:.3f}\n",
    "📏 이론적 표준오차: {theo_std:.3f}  |  실제 표준편차: {actual_std:.3f}\n",
    "📐 평균 오차: {abs(theo_mean - actual_mean):.3f}\n",
    "📐 표준편차 오차: {abs(theo_std - actual_std):.3f}\n",
    "✨ 정규성 검정 (Shapiro-Wilk): p-value = {stats.shapiro(sample_means)[1]:.3f}\n",
    "{'🎉 정규분포에 가깝습니다!' if stats.shapiro(sample_means)[1] > 0.05 else '⚠️ 표본크기를 늘려보세요!'}\n",
    "\n",
    "🔍 Q-Q 플롯 상세 분석:\n",
    "\n",
    "📈 선형 상관도: {qq_analysis['correlation']:.4f} → {qq_analysis['normality_grade']}\n",
    "💬 {qq_analysis['normality_comment']}\n",
    "\n",
    "📊 패턴 분석:\n",
    "   • 치우침: {qq_analysis['skewness_pattern']}\n",
    "   • 꼬리 형태: {qq_analysis['tail_pattern']}\n",
    "   • 대각선 적합도 (RMSE): {qq_analysis['rmse']:.3f}\n",
    "\n",
    "🎓 Q-Q 플롯 해석 가이드:\n",
    "   ✅ 상관도 > 0.99: 점들이 빨간 대각선에 거의 완벽하게 일치\n",
    "   ✅ 상관도 > 0.95: 정규분포 가정이 합리적\n",
    "   ⚠️ 상관도 < 0.95: 정규분포에서 벗어남, 표본크기 증가 고려\n",
    "   \n",
    "   📖 패턴별 의미:\n",
    "   • S자 곡선: 원분포의 치우침이 아직 남아있음\n",
    "   • 두꺼운 꼬리: 극값이 정규분포보다 자주 발생\n",
    "   • 얇은 꼬리: 극값이 정규분포보다 드물게 발생\n",
    "\n",
    "💡 중심극한정리 효과: {'강함 💪' if qq_analysis['correlation'] > 0.98 else '보통 ⚖️' if qq_analysis['correlation'] > 0.95 else '약함 ⚠️'}\n",
    "\n",
    "\"\"\")\n",
    "    \n",
    "    fig.show()\n",
    "    \n",
    "    return None"
   ]
  },
  {
   "cell_type": "markdown",
   "metadata": {},
   "source": [
    "## ⚡ 3. Z-분포와 표준화: 모든 것을 하나로\n",
    "\n",
    "Z-분포(표준정규분포)는 **평균이 0, 표준편차가 1**인 특별한 정규분포입니다.\n",
    "\n",
    "### 🔄 표준화 공식\n",
    "\n",
    "어떤 정규분포 X ~ N(μ, σ²)든 다음 공식으로 표준화할 수 있습니다:\n",
    "\n",
    "$$Z = \\frac{X - \\mu}{\\sigma} \\sim N(0, 1)$$\n",
    "\n",
    "표본평균의 경우:\n",
    "\n",
    "$$Z = \\frac{\\bar{X} - \\mu}{\\frac{\\sigma}{\\sqrt{n}}} \\sim N(0, 1)$$\n",
    "\n",
    "### 🎯 Z-분포의 특징\n",
    "- **평균**: 0\n",
    "- **표준편차**: 1\n",
    "- **68-95-99.7 규칙**이 Z값으로 간단해짐:\n",
    "  - 68%: -1 ≤ Z ≤ 1\n",
    "  - 95%: -1.96 ≤ Z ≤ 1.96\n",
    "  - 99%: -2.58 ≤ Z ≤ 2.58"
   ]
  },
  {
   "cell_type": "code",
   "execution_count": 4,
   "metadata": {},
   "outputs": [
    {
     "data": {
      "application/vnd.jupyter.widget-view+json": {
       "model_id": "5a0a804e8a1546bb91892c4b748e1bfa",
       "version_major": 2,
       "version_minor": 0
      },
      "text/plain": [
       "interactive(children=(FloatSlider(value=0.05, description='유의수준 (α)', max=0.2, min=0.01, step=0.01), Dropdown(…"
      ]
     },
     "metadata": {},
     "output_type": "display_data"
    }
   ],
   "source": [
    "# 🎨 Z-분포와 임계값 시각화\n",
    "def plot_z_distribution_with_critical_values(alpha=0.05, test_type='two-tailed'):\n",
    "    \"\"\"Z-분포와 임계값을 시각화하는 함수\"\"\"\n",
    "    \n",
    "    # 고정된 범위 설정\n",
    "    x_min, x_max = -4, 4\n",
    "    y_min, y_max = 0, 0.45\n",
    "    \n",
    "    # Z값 범위\n",
    "    z = np.linspace(x_min, x_max, 1000)\n",
    "    pdf = stats.norm.pdf(z, 0, 1)\n",
    "    \n",
    "    # 임계값 계산\n",
    "    if test_type == 'two-tailed':\n",
    "        z_critical = stats.norm.ppf(1 - alpha/2)\n",
    "        z_crit_neg = -z_critical\n",
    "    elif test_type == 'right-tailed':\n",
    "        z_critical = stats.norm.ppf(1 - alpha)\n",
    "        z_crit_neg = None\n",
    "    else:  # left-tailed\n",
    "        z_critical = stats.norm.ppf(alpha)\n",
    "        z_crit_neg = None\n",
    "    \n",
    "    # 플롯 생성\n",
    "    fig = go.Figure()\n",
    "    \n",
    "    # 기본 Z-분포 곡선\n",
    "    fig.add_trace(go.Scatter(\n",
    "        x=z, y=pdf,\n",
    "        mode='lines',\n",
    "        name='표준정규분포 N(0,1)',\n",
    "        line=dict(width=3, color='blue')\n",
    "    ))\n",
    "    \n",
    "    # 기각역 표시\n",
    "    if test_type == 'two-tailed':\n",
    "        # 왼쪽 기각역\n",
    "        z_left = z[z <= z_crit_neg]\n",
    "        pdf_left = stats.norm.pdf(z_left, 0, 1)\n",
    "        fig.add_trace(go.Scatter(\n",
    "            x=np.concatenate([z_left, z_left[::-1]]),\n",
    "            y=np.concatenate([pdf_left, np.zeros(len(pdf_left))]),\n",
    "            fill='toself',\n",
    "            fillcolor='rgba(255, 0, 0, 0.3)',\n",
    "            line=dict(width=0),\n",
    "            name=f'기각역 (α/2 = {alpha/2:.3f})',\n",
    "            showlegend=True\n",
    "        ))\n",
    "        \n",
    "        # 오른쪽 기각역\n",
    "        z_right = z[z >= z_critical]\n",
    "        pdf_right = stats.norm.pdf(z_right, 0, 1)\n",
    "        fig.add_trace(go.Scatter(\n",
    "            x=np.concatenate([z_right, z_right[::-1]]),\n",
    "            y=np.concatenate([pdf_right, np.zeros(len(pdf_right))]),\n",
    "            fill='toself',\n",
    "            fillcolor='rgba(255, 0, 0, 0.3)',\n",
    "            line=dict(width=0),\n",
    "            showlegend=False\n",
    "        ))\n",
    "        \n",
    "        # 임계값 선들\n",
    "        for z_val, label in [(z_crit_neg, f'Z = {z_crit_neg:.3f}'), \n",
    "                            (z_critical, f'Z = {z_critical:.3f}')]:\n",
    "            fig.add_vline(x=z_val, line_dash=\"dash\", line_color=\"red\",\n",
    "                         annotation_text=label)\n",
    "    \n",
    "    elif test_type == 'right-tailed':\n",
    "        z_tail = z[z >= z_critical]\n",
    "        pdf_tail = stats.norm.pdf(z_tail, 0, 1)\n",
    "        fig.add_trace(go.Scatter(\n",
    "            x=np.concatenate([z_tail, z_tail[::-1]]),\n",
    "            y=np.concatenate([pdf_tail, np.zeros(len(pdf_tail))]),\n",
    "            fill='toself',\n",
    "            fillcolor='rgba(255, 0, 0, 0.3)',\n",
    "            line=dict(width=0),\n",
    "            name=f'기각역 (α = {alpha:.3f})',\n",
    "            showlegend=True\n",
    "        ))\n",
    "        \n",
    "        fig.add_vline(x=z_critical, line_dash=\"dash\", line_color=\"red\",\n",
    "                     annotation_text=f'Z = {z_critical:.3f}')\n",
    "    \n",
    "    else:  # left-tailed\n",
    "        z_tail = z[z <= z_critical]\n",
    "        pdf_tail = stats.norm.pdf(z_tail, 0, 1)\n",
    "        fig.add_trace(go.Scatter(\n",
    "            x=np.concatenate([z_tail, z_tail[::-1]]),\n",
    "            y=np.concatenate([pdf_tail, np.zeros(len(pdf_tail))]),\n",
    "            fill='toself',\n",
    "            fillcolor='rgba(255, 0, 0, 0.3)',\n",
    "            line=dict(width=0),\n",
    "            name=f'기각역 (α = {alpha:.3f})',\n",
    "            showlegend=True\n",
    "        ))\n",
    "        \n",
    "        fig.add_vline(x=z_critical, line_dash=\"dash\", line_color=\"red\",\n",
    "                     annotation_text=f'Z = {z_critical:.3f}')\n",
    "    \n",
    "    # 레이아웃 설정 - 축 범위 고정\n",
    "    fig.update_layout(\n",
    "        title=f'Z-분포와 임계값 ({test_type}, α = {alpha})',\n",
    "        xaxis_title='Z 값',\n",
    "        yaxis_title='확률밀도',\n",
    "        template='plotly_white',\n",
    "        height=500,\n",
    "        xaxis=dict(range=[x_min, x_max]),  # X축 고정\n",
    "        yaxis=dict(range=[y_min, y_max])   # Y축 고정\n",
    "    )\n",
    "    \n",
    "    return fig\n",
    "\n",
    "# 인터랙티브 Z-분포 시각화\n",
    "@interact(\n",
    "    alpha=FloatSlider(min=0.01, max=0.2, step=0.01, value=0.05, description='유의수준 (α)'),\n",
    "    test_type=widgets.Dropdown(\n",
    "        options=[('양측검정', 'two-tailed'), ('우측검정', 'right-tailed'), ('좌측검정', 'left-tailed')],\n",
    "        value='two-tailed',\n",
    "        description='검정 유형:'\n",
    "    )\n",
    ")\n",
    "def interactive_z_distribution(alpha, test_type):\n",
    "    # 기존 출력 클리어\n",
    "    from IPython.display import clear_output\n",
    "    clear_output(wait=True)\n",
    "    \n",
    "    fig = plot_z_distribution_with_critical_values(alpha, test_type)\n",
    "    \n",
    "    # 임계값 정보\n",
    "    if test_type == 'two-tailed':\n",
    "        z_crit = stats.norm.ppf(1 - alpha/2)\n",
    "        print(f\"\"\"\n",
    "\n",
    "🎯 임계값 정보 (양측검정):\n",
    "\n",
    "📊 유의수준: α = {alpha}\n",
    "📊 각 쪽 유의수준: α/2 = {alpha/2:.3f}\n",
    "📏 임계값: ±{z_crit:.3f}\n",
    "🔍 기각조건: |Z| > {z_crit:.3f}\n",
    "\n",
    "\"\"\")\n",
    "    elif test_type == 'right-tailed':\n",
    "        z_crit = stats.norm.ppf(1 - alpha)\n",
    "        print(f\"\"\"\n",
    "\n",
    "🎯 임계값 정보 (우측검정):\n",
    "\n",
    "📊 유의수준: α = {alpha}\n",
    "📏 임계값: {z_crit:.3f}\n",
    "🔍 기각조건: Z > {z_crit:.3f}\n",
    "\n",
    "\"\"\")\n",
    "    else:\n",
    "        z_crit = stats.norm.ppf(alpha)\n",
    "        print(f\"\"\"\n",
    "\n",
    "🎯 임계값 정보 (좌측검정):\n",
    "\n",
    "📊 유의수준: α = {alpha}\n",
    "📏 임계값: {z_crit:.3f}\n",
    "🔍 기각조건: Z < {z_crit:.3f}\n",
    "\n",
    "\"\"\")\n",
    "    \n",
    "    fig.show()\n",
    "    \n",
    "    return None"
   ]
  },
  {
   "cell_type": "markdown",
   "metadata": {},
   "source": [
    "## 🧪 4. Z-검정: 완벽한 세상의 가설검정\n",
    "\n",
    "Z-검정은 **모집단의 표준편차 σ를 알고 있을 때** 사용하는 가설검정 방법입니다.\n",
    "\n",
    "### 🤔 먼저 이해하고 가자! - 자주 헷갈리는 개념들\n",
    "\n",
    "#### ❓ **Q1: Z-분포는 모집단인가요?**\n",
    "**A: 아닙니다!** Z-분포는 **검정통계량의 분포**입니다.\n",
    "\n",
    "- **모집단**: 우리가 관심있는 실제 데이터들 (예: 모든 스마트폰 배터리 수명)\n",
    "- **표본**: 모집단에서 뽑은 일부 데이터 (예: 36개 배터리)\n",
    "- **Z-분포**: 표본에서 계산한 Z값들이 따르는 **이론적 분포** (평균 0, 표준편차 1)\n",
    "\n",
    "```\n",
    "🏭 실제 상황:\n",
    "모집단 → 표본 추출 → Z값 계산 → Z-분포와 비교\n",
    "```\n",
    "\n",
    "#### ❓ **Q2: 왜 95%를 벗어난 게 문제인가요?**\n",
    "**A: 이것이 바로 가설검정의 핵심입니다!**\n",
    "\n",
    "**🎯 가설검정의 논리:**\n",
    "1. **\"배터리 수명이 24시간이다\"**라고 가정 (귀무가설 H₀)\n",
    "2. 만약 이게 참이라면, Z값은 95% 확률로 -1.96 ~ +1.96 사이에 있어야 함\n",
    "3. 그런데 실제 계산한 Z값이 **-2.4**가 나옴 (95% 범위 밖!)\n",
    "4. **\"어? 이상하네? 정말로 24시간이 맞나?\"** → 가설을 의심하게 됨\n",
    "\n",
    "**🔍 기준이 95%인 이유:**\n",
    "- **α = 0.05 (5%)**: 우리가 설정한 \"오판할 확률\"\n",
    "- **95% = 1-α**: \"올바른 판단을 할 확률\"\n",
    "- 만약 H₀가 참이라면, Z값이 95% 범위를 벗어날 확률은 단 5%\n",
    "- 그런데 실제로 벗어났다? → H₀가 거짓일 가능성이 높다!\n",
    "\n",
    "### 🌟 **왜 가설검정을 하는가? - 검정의 필요성**\n",
    "\n",
    "#### **🤷‍♂️ 일상에서의 의사결정 문제**\n",
    "\n",
    "**상황 1: 새로운 다이어트 방법** 🥗\n",
    "- \"이 방법으로 한 달에 평균 5kg 감량 가능!\" (광고 문구)\n",
    "- **문제**: 정말 효과가 있을까? 아니면 그냥 우연일까?\n",
    "- **해결**: 실험해보고 통계적으로 검증해야 함\n",
    "\n",
    "**상황 2: 새로운 온라인 광고** 📱\n",
    "- A 광고: 클릭률 3.2%, B 광고: 클릭률 3.8%\n",
    "- **문제**: B가 정말 더 좋을까? 아니면 그냥 운이 좋았을 뿐일까?\n",
    "- **해결**: 충분한 데이터로 통계적 검정 필요\n",
    "\n",
    "**상황 3: 신약 개발** 💊\n",
    "- 기존 약 효과: 70%, 신약 효과: 75%\n",
    "- **문제**: 5% 차이가 진짜 개선일까? 아니면 측정 오차일까?\n",
    "- **해결**: 엄격한 통계적 검증 필수\n",
    "\n",
    "#### **🎲 \"우연\"과 \"진짜 효과\"를 구분하는 방법**\n",
    "\n",
    "**핵심 아이디어**: \n",
    "> **\"만약 정말 차이가 없다면, 이런 극단적인 결과가 나올 확률은?\"**\n",
    "\n",
    "**예시**: 동전 던지기\n",
    "- 동전을 10번 던져서 앞면이 8번 나옴\n",
    "- **질문**: 이 동전이 불공정한가?\n",
    "- **검정**: 공정한 동전이라면 8번 이상 앞면이 나올 확률 = 5.5%\n",
    "- **결론**: 5.5% < 5% → 이 동전은 의심스럽다!\n",
    "\n",
    "#### **📊 비즈니스에서의 실제 적용**\n",
    "\n",
    "**A/B 테스트**: 웹사이트 버전 비교\n",
    "- A버전: 구매율 2.1% (1000명 중 21명)\n",
    "- B버전: 구매율 2.8% (1000명 중 28명)\n",
    "- **단순 비교**: B가 더 좋아 보임\n",
    "- **가설검정**: 이 차이가 **통계적으로 유의**한지 확인\n",
    "- **결과**: p-값이 0.03 → B버전이 실제로 더 효과적!\n",
    "\n",
    "**품질 관리**: 제품 불량률 검사\n",
    "- 기준: 불량률 2% 이하\n",
    "- 오늘 검사: 100개 중 4개 불량 (4%)\n",
    "- **가설검정**: H₀: 불량률 = 2% vs H₁: 불량률 > 2%\n",
    "- **결과**: 통계적으로 유의하다면 생산 라인 점검 필요\n",
    "\n",
    "### 📋 Z-검정의 조건\n",
    "1. **모집단이 정규분포**를 따르거나, **표본 크기가 충분히 큼** (n ≥ 30)\n",
    "2. **모집단의 표준편차 σ가 알려져 있음** ⭐ (핵심 조건!)\n",
    "3. 관찰값들이 **독립적**임\n",
    "\n",
    "### 🎯 가설검정의 기본 개념\n",
    "\n",
    "#### 🔄 **귀무가설 (H₀)과 대립가설 (H₁)**\n",
    "\n",
    "**귀무가설 (Null Hypothesis, H₀)**:\n",
    "- **\"변화가 없다\"**, **\"차이가 없다\"**, **\"효과가 없다\"**는 가설\n",
    "- 우리가 **의심하고 있는** 주장\n",
    "- 보통 **기존 상식**이나 **현재 상태**를 나타냄\n",
    "- 예: H₀: μ = 24시간 (배터리 수명이 기준과 같다)\n",
    "\n",
    "**대립가설 (Alternative Hypothesis, H₁)**:\n",
    "- **\"변화가 있다\"**, **\"차이가 있다\"**, **\"효과가 있다\"**는 가설  \n",
    "- 우리가 **증명하고 싶은** 주장\n",
    "- 보통 **새로운 발견**이나 **변화**를 나타냄\n",
    "- 예: H₁: μ ≠ 24시간 (배터리 수명이 기준과 다르다)\n",
    "\n",
    "#### 🎭 **가설검정의 종류**\n",
    "\n",
    "**1. 양측검정 (Two-tailed test)**: μ ≠ μ₀\n",
    "- \"기준과 **다르다**\" (크거나 작거나)\n",
    "- 기각역이 **양쪽**에 있음\n",
    "- 예: 새 약이 기존 약과 **효과가 다른지** 알고 싶을 때\n",
    "\n",
    "**2. 우측검정 (Right-tailed test)**: μ > μ₀  \n",
    "- \"기준보다 **크다**\"\n",
    "- 기각역이 **오른쪽**에만 있음\n",
    "- 예: 새 방법이 기존 방법보다 **더 좋은지** 알고 싶을 때\n",
    "\n",
    "**3. 좌측검정 (Left-tailed test)**: μ < μ₀\n",
    "- \"기준보다 **작다**\"  \n",
    "- 기각역이 **왼쪽**에만 있음\n",
    "- 예: 새 처리법이 부작용을 **더 줄이는지** 알고 싶을 때\n",
    "\n",
    "### 🎯 Z-검정 절차 (단계별 설명)\n",
    "\n",
    "#### **1단계: 가설 설정**\n",
    "```\n",
    "H₀: μ = μ₀  (귀무가설 - 우리가 의심하는 주장)\n",
    "H₁: μ ≠ μ₀  (대립가설 - 우리가 증명하고 싶은 주장)\n",
    "```\n",
    "\n",
    "#### **2단계: 유의수준 α 설정**\n",
    "- **α = 0.05**: \"5% 확률로 잘못 판단할 수 있다\"\n",
    "- **1-α = 0.95**: \"95% 확률로 올바르게 판단한다\"\n",
    "\n",
    "#### **3단계: 검정통계량 계산**\n",
    "$$Z = \\frac{\\bar{X} - \\mu_0}{\\frac{\\sigma}{\\sqrt{n}}}$$\n",
    "\n",
    "**의미**: \n",
    "- 분자: 표본평균과 가설평균의 차이\n",
    "- 분모: 표준오차 (불확실성의 크기)\n",
    "- **Z값이 클수록**: 가설과 실제의 차이가 크다\n",
    "\n",
    "#### **4단계: p-값 계산**\n",
    "- **p-값**: H₀가 참일 때, 우리가 관찰한 것보다 극단적인 결과가 나올 확률\n",
    "- **p < α**: \"이런 극단적인 결과가 나올 확률이 5%보다 작다\" → H₀ 기각\n",
    "- **p ≥ α**: \"이런 결과는 충분히 일어날 수 있다\" → H₀ 채택\n",
    "\n",
    "#### **5단계: 결론 도출**\n",
    "- **H₀ 기각**: \"통계적으로 유의한 차이가 있다\"\n",
    "- **H₀ 채택**: \"통계적으로 유의한 차이가 없다\"\n",
    "\n",
    "### 🎪 **실제 예시로 이해하기**\n",
    "\n",
    "**상황**: 스마트폰 배터리 수명 검사\n",
    "- **기준**: 24시간 (μ₀ = 24)\n",
    "- **표본**: 36개 배터리, 평균 23.2시간\n",
    "- **모집단 표준편차**: σ = 2시간 (이미 알려진 값)\n",
    "\n",
    "**1단계**: 가설 설정\n",
    "- H₀: μ = 24 (배터리 수명이 기준과 같다)\n",
    "- H₁: μ ≠ 24 (배터리 수명이 기준과 다르다)\n",
    "\n",
    "**2단계**: α = 0.05 설정\n",
    "\n",
    "**3단계**: Z값 계산\n",
    "- Z = (23.2 - 24) / (2/√36) = -0.8 / 0.333 = **-2.4**\n",
    "\n",
    "**4단계**: 판단\n",
    "- |Z| = 2.4 > 1.96 → **기각역에 속함**\n",
    "- p-값 ≈ 0.016 < 0.05 → **유의함**\n",
    "\n",
    "**5단계**: 결론\n",
    "- **H₀ 기각**: 배터리 수명이 24시간과 유의하게 다르다\n",
    "- **실제 의미**: 이 배치는 품질 기준을 만족하지 않는다\n",
    "\n",
    "### 💡 **핵심 통찰**\n",
    "\n",
    "> **\"95%를 벗어났다\"**의 의미:\n",
    "> \n",
    "> 만약 정말로 배터리 수명이 24시간이라면, 이렇게 극단적인 결과(Z = -2.4)가 나올 확률은 단 1.6%입니다. \n",
    "> \n",
    "> 이렇게 희귀한 일이 일어났다는 것은 **\"24시간이라는 가설이 틀렸을 가능성이 높다\"**는 의미입니다!\n",
    "\n",
    "> **가설검정의 본질**:\n",
    "> \n",
    "> 단순히 \"다르다/같다\"를 말하는 게 아니라, **\"우연으로 설명하기에는 너무 극단적인 차이인가?\"**를 과학적으로 판단하는 도구입니다!\n",
    "\n",
    "Z-검정의 아름다움은 **완벽한 정보**(σ를 알고 있음)에 기반한다는 점입니다. 하지만 현실에서 σ를 정확히 아는 경우는 거의 없습니다! 😱"
   ]
  },
  {
   "cell_type": "code",
   "execution_count": 5,
   "metadata": {},
   "outputs": [
    {
     "name": "stdout",
     "output_type": "stream",
     "text": [
      "\n",
      "\n",
      "📦 사례연구: 스마트폰 배터리 수명 검사\n",
      "\n",
      "🏭 상황:\n",
      "- 스마트폰 배터리의 평균 수명은 24시간이어야 함 (품질 기준)\n",
      "- 과거 데이터로부터 표준편차는 2시간으로 알려져 있음 (σ = 2)\n",
      "- 새로운 생산 배치에서 36개 샘플을 추출하여 검사\n",
      "- 검사 결과 평균 수명이 23.2시간으로 나타남\n",
      "🤔 질문: 이 배치가 품질 기준을 만족한다고 볼 수 있을까?\n",
      "\n",
      "\n"
     ]
    },
    {
     "data": {
      "application/vnd.plotly.v1+json": {
       "config": {
        "plotlyServerURL": "https://plot.ly"
       },
       "data": [
        {
         "line": {
          "color": "blue",
          "width": 3
         },
         "mode": "lines",
         "name": "표준정규분포",
         "type": "scatter",
         "x": {
          "bdata": "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",
          "dtype": "f8"
         },
         "y": {
          "bdata": "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",
          "dtype": "f8"
         }
        },
        {
         "fill": "toself",
         "fillcolor": "rgba(255, 0, 0, 0.3)",
         "line": {
          "width": 0
         },
         "name": "기각역",
         "showlegend": true,
         "type": "scatter",
         "x": {
          "bdata": "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",
          "dtype": "f8"
         },
         "y": {
          "bdata": "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",
          "dtype": "f8"
         }
        },
        {
         "fill": "toself",
         "fillcolor": "rgba(255, 0, 0, 0.3)",
         "line": {
          "width": 0
         },
         "showlegend": false,
         "type": "scatter",
         "x": {
          "bdata": "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",
          "dtype": "f8"
         },
         "y": {
          "bdata": "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",
          "dtype": "f8"
         }
        }
       ],
       "layout": {
        "annotations": [
         {
          "showarrow": false,
          "text": "Z = -3.377",
          "x": -3.3772236991355484,
          "xanchor": "left",
          "xref": "x",
          "y": 1,
          "yanchor": "top",
          "yref": "y domain"
         }
        ],
        "height": 500,
        "shapes": [
         {
          "line": {
           "color": "red",
           "dash": "solid",
           "width": 3
          },
          "type": "line",
          "x0": -3.3772236991355484,
          "x1": -3.3772236991355484,
          "xref": "x",
          "y0": 0,
          "y1": 1,
          "yref": "y domain"
         },
         {
          "line": {
           "color": "orange",
           "dash": "dash"
          },
          "type": "line",
          "x0": -1.959963984540054,
          "x1": -1.959963984540054,
          "xref": "x",
          "y0": 0,
          "y1": 1,
          "yref": "y domain"
         },
         {
          "line": {
           "color": "orange",
           "dash": "dash"
          },
          "type": "line",
          "x0": 1.959963984540054,
          "x1": 1.959963984540054,
          "xref": "x",
          "y0": 0,
          "y1": 1,
          "yref": "y domain"
         }
        ],
        "template": {
         "data": {
          "bar": [
           {
            "error_x": {
             "color": "#2a3f5f"
            },
            "error_y": {
             "color": "#2a3f5f"
            },
            "marker": {
             "line": {
              "color": "white",
              "width": 0.5
             },
             "pattern": {
              "fillmode": "overlay",
              "size": 10,
              "solidity": 0.2
             }
            },
            "type": "bar"
           }
          ],
          "barpolar": [
           {
            "marker": {
             "line": {
              "color": "white",
              "width": 0.5
             },
             "pattern": {
              "fillmode": "overlay",
              "size": 10,
              "solidity": 0.2
             }
            },
            "type": "barpolar"
           }
          ],
          "carpet": [
           {
            "aaxis": {
             "endlinecolor": "#2a3f5f",
             "gridcolor": "#C8D4E3",
             "linecolor": "#C8D4E3",
             "minorgridcolor": "#C8D4E3",
             "startlinecolor": "#2a3f5f"
            },
            "baxis": {
             "endlinecolor": "#2a3f5f",
             "gridcolor": "#C8D4E3",
             "linecolor": "#C8D4E3",
             "minorgridcolor": "#C8D4E3",
             "startlinecolor": "#2a3f5f"
            },
            "type": "carpet"
           }
          ],
          "choropleth": [
           {
            "colorbar": {
             "outlinewidth": 0,
             "ticks": ""
            },
            "type": "choropleth"
           }
          ],
          "contour": [
           {
            "colorbar": {
             "outlinewidth": 0,
             "ticks": ""
            },
            "colorscale": [
             [
              0,
              "#0d0887"
             ],
             [
              0.1111111111111111,
              "#46039f"
             ],
             [
              0.2222222222222222,
              "#7201a8"
             ],
             [
              0.3333333333333333,
              "#9c179e"
             ],
             [
              0.4444444444444444,
              "#bd3786"
             ],
             [
              0.5555555555555556,
              "#d8576b"
             ],
             [
              0.6666666666666666,
              "#ed7953"
             ],
             [
              0.7777777777777778,
              "#fb9f3a"
             ],
             [
              0.8888888888888888,
              "#fdca26"
             ],
             [
              1,
              "#f0f921"
             ]
            ],
            "type": "contour"
           }
          ],
          "contourcarpet": [
           {
            "colorbar": {
             "outlinewidth": 0,
             "ticks": ""
            },
            "type": "contourcarpet"
           }
          ],
          "heatmap": [
           {
            "colorbar": {
             "outlinewidth": 0,
             "ticks": ""
            },
            "colorscale": [
             [
              0,
              "#0d0887"
             ],
             [
              0.1111111111111111,
              "#46039f"
             ],
             [
              0.2222222222222222,
              "#7201a8"
             ],
             [
              0.3333333333333333,
              "#9c179e"
             ],
             [
              0.4444444444444444,
              "#bd3786"
             ],
             [
              0.5555555555555556,
              "#d8576b"
             ],
             [
              0.6666666666666666,
              "#ed7953"
             ],
             [
              0.7777777777777778,
              "#fb9f3a"
             ],
             [
              0.8888888888888888,
              "#fdca26"
             ],
             [
              1,
              "#f0f921"
             ]
            ],
            "type": "heatmap"
           }
          ],
          "histogram": [
           {
            "marker": {
             "pattern": {
              "fillmode": "overlay",
              "size": 10,
              "solidity": 0.2
             }
            },
            "type": "histogram"
           }
          ],
          "histogram2d": [
           {
            "colorbar": {
             "outlinewidth": 0,
             "ticks": ""
            },
            "colorscale": [
             [
              0,
              "#0d0887"
             ],
             [
              0.1111111111111111,
              "#46039f"
             ],
             [
              0.2222222222222222,
              "#7201a8"
             ],
             [
              0.3333333333333333,
              "#9c179e"
             ],
             [
              0.4444444444444444,
              "#bd3786"
             ],
             [
              0.5555555555555556,
              "#d8576b"
             ],
             [
              0.6666666666666666,
              "#ed7953"
             ],
             [
              0.7777777777777778,
              "#fb9f3a"
             ],
             [
              0.8888888888888888,
              "#fdca26"
             ],
             [
              1,
              "#f0f921"
             ]
            ],
            "type": "histogram2d"
           }
          ],
          "histogram2dcontour": [
           {
            "colorbar": {
             "outlinewidth": 0,
             "ticks": ""
            },
            "colorscale": [
             [
              0,
              "#0d0887"
             ],
             [
              0.1111111111111111,
              "#46039f"
             ],
             [
              0.2222222222222222,
              "#7201a8"
             ],
             [
              0.3333333333333333,
              "#9c179e"
             ],
             [
              0.4444444444444444,
              "#bd3786"
             ],
             [
              0.5555555555555556,
              "#d8576b"
             ],
             [
              0.6666666666666666,
              "#ed7953"
             ],
             [
              0.7777777777777778,
              "#fb9f3a"
             ],
             [
              0.8888888888888888,
              "#fdca26"
             ],
             [
              1,
              "#f0f921"
             ]
            ],
            "type": "histogram2dcontour"
           }
          ],
          "mesh3d": [
           {
            "colorbar": {
             "outlinewidth": 0,
             "ticks": ""
            },
            "type": "mesh3d"
           }
          ],
          "parcoords": [
           {
            "line": {
             "colorbar": {
              "outlinewidth": 0,
              "ticks": ""
             }
            },
            "type": "parcoords"
           }
          ],
          "pie": [
           {
            "automargin": true,
            "type": "pie"
           }
          ],
          "scatter": [
           {
            "fillpattern": {
             "fillmode": "overlay",
             "size": 10,
             "solidity": 0.2
            },
            "type": "scatter"
           }
          ],
          "scatter3d": [
           {
            "line": {
             "colorbar": {
              "outlinewidth": 0,
              "ticks": ""
             }
            },
            "marker": {
             "colorbar": {
              "outlinewidth": 0,
              "ticks": ""
             }
            },
            "type": "scatter3d"
           }
          ],
          "scattercarpet": [
           {
            "marker": {
             "colorbar": {
              "outlinewidth": 0,
              "ticks": ""
             }
            },
            "type": "scattercarpet"
           }
          ],
          "scattergeo": [
           {
            "marker": {
             "colorbar": {
              "outlinewidth": 0,
              "ticks": ""
             }
            },
            "type": "scattergeo"
           }
          ],
          "scattergl": [
           {
            "marker": {
             "colorbar": {
              "outlinewidth": 0,
              "ticks": ""
             }
            },
            "type": "scattergl"
           }
          ],
          "scattermap": [
           {
            "marker": {
             "colorbar": {
              "outlinewidth": 0,
              "ticks": ""
             }
            },
            "type": "scattermap"
           }
          ],
          "scattermapbox": [
           {
            "marker": {
             "colorbar": {
              "outlinewidth": 0,
              "ticks": ""
             }
            },
            "type": "scattermapbox"
           }
          ],
          "scatterpolar": [
           {
            "marker": {
             "colorbar": {
              "outlinewidth": 0,
              "ticks": ""
             }
            },
            "type": "scatterpolar"
           }
          ],
          "scatterpolargl": [
           {
            "marker": {
             "colorbar": {
              "outlinewidth": 0,
              "ticks": ""
             }
            },
            "type": "scatterpolargl"
           }
          ],
          "scatterternary": [
           {
            "marker": {
             "colorbar": {
              "outlinewidth": 0,
              "ticks": ""
             }
            },
            "type": "scatterternary"
           }
          ],
          "surface": [
           {
            "colorbar": {
             "outlinewidth": 0,
             "ticks": ""
            },
            "colorscale": [
             [
              0,
              "#0d0887"
             ],
             [
              0.1111111111111111,
              "#46039f"
             ],
             [
              0.2222222222222222,
              "#7201a8"
             ],
             [
              0.3333333333333333,
              "#9c179e"
             ],
             [
              0.4444444444444444,
              "#bd3786"
             ],
             [
              0.5555555555555556,
              "#d8576b"
             ],
             [
              0.6666666666666666,
              "#ed7953"
             ],
             [
              0.7777777777777778,
              "#fb9f3a"
             ],
             [
              0.8888888888888888,
              "#fdca26"
             ],
             [
              1,
              "#f0f921"
             ]
            ],
            "type": "surface"
           }
          ],
          "table": [
           {
            "cells": {
             "fill": {
              "color": "#EBF0F8"
             },
             "line": {
              "color": "white"
             }
            },
            "header": {
             "fill": {
              "color": "#C8D4E3"
             },
             "line": {
              "color": "white"
             }
            },
            "type": "table"
           }
          ]
         },
         "layout": {
          "annotationdefaults": {
           "arrowcolor": "#2a3f5f",
           "arrowhead": 0,
           "arrowwidth": 1
          },
          "autotypenumbers": "strict",
          "coloraxis": {
           "colorbar": {
            "outlinewidth": 0,
            "ticks": ""
           }
          },
          "colorscale": {
           "diverging": [
            [
             0,
             "#8e0152"
            ],
            [
             0.1,
             "#c51b7d"
            ],
            [
             0.2,
             "#de77ae"
            ],
            [
             0.3,
             "#f1b6da"
            ],
            [
             0.4,
             "#fde0ef"
            ],
            [
             0.5,
             "#f7f7f7"
            ],
            [
             0.6,
             "#e6f5d0"
            ],
            [
             0.7,
             "#b8e186"
            ],
            [
             0.8,
             "#7fbc41"
            ],
            [
             0.9,
             "#4d9221"
            ],
            [
             1,
             "#276419"
            ]
           ],
           "sequential": [
            [
             0,
             "#0d0887"
            ],
            [
             0.1111111111111111,
             "#46039f"
            ],
            [
             0.2222222222222222,
             "#7201a8"
            ],
            [
             0.3333333333333333,
             "#9c179e"
            ],
            [
             0.4444444444444444,
             "#bd3786"
            ],
            [
             0.5555555555555556,
             "#d8576b"
            ],
            [
             0.6666666666666666,
             "#ed7953"
            ],
            [
             0.7777777777777778,
             "#fb9f3a"
            ],
            [
             0.8888888888888888,
             "#fdca26"
            ],
            [
             1,
             "#f0f921"
            ]
           ],
           "sequentialminus": [
            [
             0,
             "#0d0887"
            ],
            [
             0.1111111111111111,
             "#46039f"
            ],
            [
             0.2222222222222222,
             "#7201a8"
            ],
            [
             0.3333333333333333,
             "#9c179e"
            ],
            [
             0.4444444444444444,
             "#bd3786"
            ],
            [
             0.5555555555555556,
             "#d8576b"
            ],
            [
             0.6666666666666666,
             "#ed7953"
            ],
            [
             0.7777777777777778,
             "#fb9f3a"
            ],
            [
             0.8888888888888888,
             "#fdca26"
            ],
            [
             1,
             "#f0f921"
            ]
           ]
          },
          "colorway": [
           "#636efa",
           "#EF553B",
           "#00cc96",
           "#ab63fa",
           "#FFA15A",
           "#19d3f3",
           "#FF6692",
           "#B6E880",
           "#FF97FF",
           "#FECB52"
          ],
          "font": {
           "color": "#2a3f5f"
          },
          "geo": {
           "bgcolor": "white",
           "lakecolor": "white",
           "landcolor": "white",
           "showlakes": true,
           "showland": true,
           "subunitcolor": "#C8D4E3"
          },
          "hoverlabel": {
           "align": "left"
          },
          "hovermode": "closest",
          "mapbox": {
           "style": "light"
          },
          "paper_bgcolor": "white",
          "plot_bgcolor": "white",
          "polar": {
           "angularaxis": {
            "gridcolor": "#EBF0F8",
            "linecolor": "#EBF0F8",
            "ticks": ""
           },
           "bgcolor": "white",
           "radialaxis": {
            "gridcolor": "#EBF0F8",
            "linecolor": "#EBF0F8",
            "ticks": ""
           }
          },
          "scene": {
           "xaxis": {
            "backgroundcolor": "white",
            "gridcolor": "#DFE8F3",
            "gridwidth": 2,
            "linecolor": "#EBF0F8",
            "showbackground": true,
            "ticks": "",
            "zerolinecolor": "#EBF0F8"
           },
           "yaxis": {
            "backgroundcolor": "white",
            "gridcolor": "#DFE8F3",
            "gridwidth": 2,
            "linecolor": "#EBF0F8",
            "showbackground": true,
            "ticks": "",
            "zerolinecolor": "#EBF0F8"
           },
           "zaxis": {
            "backgroundcolor": "white",
            "gridcolor": "#DFE8F3",
            "gridwidth": 2,
            "linecolor": "#EBF0F8",
            "showbackground": true,
            "ticks": "",
            "zerolinecolor": "#EBF0F8"
           }
          },
          "shapedefaults": {
           "line": {
            "color": "#2a3f5f"
           }
          },
          "ternary": {
           "aaxis": {
            "gridcolor": "#DFE8F3",
            "linecolor": "#A2B1C6",
            "ticks": ""
           },
           "baxis": {
            "gridcolor": "#DFE8F3",
            "linecolor": "#A2B1C6",
            "ticks": ""
           },
           "bgcolor": "white",
           "caxis": {
            "gridcolor": "#DFE8F3",
            "linecolor": "#A2B1C6",
            "ticks": ""
           }
          },
          "title": {
           "x": 0.05
          },
          "xaxis": {
           "automargin": true,
           "gridcolor": "#EBF0F8",
           "linecolor": "#EBF0F8",
           "ticks": "",
           "title": {
            "standoff": 15
           },
           "zerolinecolor": "#EBF0F8",
           "zerolinewidth": 2
          },
          "yaxis": {
           "automargin": true,
           "gridcolor": "#EBF0F8",
           "linecolor": "#EBF0F8",
           "ticks": "",
           "title": {
            "standoff": 15
           },
           "zerolinecolor": "#EBF0F8",
           "zerolinewidth": 2
          }
         }
        },
        "title": {
         "text": "Z-검정 결과: 귀무가설 기각 (p = 0.0007)"
        },
        "xaxis": {
         "title": {
          "text": "Z 값"
         }
        },
        "yaxis": {
         "title": {
          "text": "확률밀도"
         }
        }
       }
      }
     },
     "metadata": {},
     "output_type": "display_data"
    },
    {
     "name": "stdout",
     "output_type": "stream",
     "text": [
      "\n",
      "\n",
      "📊 Z-검정 결과 분석:\n",
      "\n",
      "🎯 가설 설정:\n",
      "    H₀: μ = 24시간 (품질 기준 만족)\n",
      "    H₁: μ ≠ 24시간 (품질 기준 불만족)\n",
      "\n",
      "📈 검정 통계량:\n",
      "    표본 평균: 22.874시간\n",
      "    표준오차: 0.333시간\n",
      "    Z 통계량: -3.377\n",
      "    p-값: 0.0007\n",
      "\n",
      "🎯 임계값: ±1.960\n",
      "\n",
      "📋 95% 신뢰구간: [22.221, 23.528]\n",
      "\n",
      "\n",
      "🚨 결론: 귀무가설을 기각합니다!\n",
      "   → 이 배치는 품질 기준을 만족하지 않습니다.\n",
      "\n",
      "💡 해석:\n",
      "   - p-값이 0.05보다 작으므로 통계적으로 유의한 차이가 있습니다.\n",
      "   - 배터리 수명이 기준보다 유의하게 짧습니다.\n",
      "\n",
      "\n"
     ]
    }
   ],
   "source": [
    "# 🧪 Z-검정 시뮬레이터\n",
    "class ZTestSimulator:\n",
    "    def __init__(self):\n",
    "        self.results = {}\n",
    "    \n",
    "    def perform_z_test(self, sample_data, population_mean, population_std, \n",
    "                      alpha=0.05, test_type='two-tailed'):\n",
    "        \"\"\"Z-검정 수행\"\"\"\n",
    "        \n",
    "        n = len(sample_data)\n",
    "        sample_mean = np.mean(sample_data)\n",
    "        \n",
    "        # 검정통계량 계산\n",
    "        z_statistic = (sample_mean - population_mean) / (population_std / np.sqrt(n))\n",
    "        \n",
    "        # p-값 계산\n",
    "        if test_type == 'two-tailed':\n",
    "            p_value = 2 * (1 - stats.norm.cdf(abs(z_statistic)))\n",
    "        elif test_type == 'right-tailed':\n",
    "            p_value = 1 - stats.norm.cdf(z_statistic)\n",
    "        else:  # left-tailed\n",
    "            p_value = stats.norm.cdf(z_statistic)\n",
    "        \n",
    "        # 임계값 계산\n",
    "        if test_type == 'two-tailed':\n",
    "            z_critical = stats.norm.ppf(1 - alpha/2)\n",
    "            rejection_condition = abs(z_statistic) > z_critical\n",
    "        elif test_type == 'right-tailed':\n",
    "            z_critical = stats.norm.ppf(1 - alpha)\n",
    "            rejection_condition = z_statistic > z_critical\n",
    "        else:\n",
    "            z_critical = stats.norm.ppf(alpha)\n",
    "            rejection_condition = z_statistic < z_critical\n",
    "        \n",
    "        # 신뢰구간 계산 (양측)\n",
    "        margin_of_error = stats.norm.ppf(1 - alpha/2) * (population_std / np.sqrt(n))\n",
    "        ci_lower = sample_mean - margin_of_error\n",
    "        ci_upper = sample_mean + margin_of_error\n",
    "        \n",
    "        return {\n",
    "            'sample_mean': sample_mean,\n",
    "            'z_statistic': z_statistic,\n",
    "            'p_value': p_value,\n",
    "            'z_critical': z_critical,\n",
    "            'reject_null': rejection_condition,\n",
    "            'ci_lower': ci_lower,\n",
    "            'ci_upper': ci_upper,\n",
    "            'alpha': alpha,\n",
    "            'test_type': test_type\n",
    "        }\n",
    "    \n",
    "    def visualize_z_test(self, result, population_mean):\n",
    "        \"\"\"Z-검정 결과 시각화\"\"\"\n",
    "        \n",
    "        z = np.linspace(-4, 4, 1000)\n",
    "        pdf = stats.norm.pdf(z, 0, 1)\n",
    "        \n",
    "        fig = go.Figure()\n",
    "        \n",
    "        # 기본 분포\n",
    "        fig.add_trace(go.Scatter(\n",
    "            x=z, y=pdf,\n",
    "            mode='lines',\n",
    "            name='표준정규분포',\n",
    "            line=dict(width=3, color='blue')\n",
    "        ))\n",
    "        \n",
    "        # 기각역 표시\n",
    "        alpha = result['alpha']\n",
    "        test_type = result['test_type']\n",
    "        \n",
    "        if test_type == 'two-tailed':\n",
    "            z_crit = result['z_critical']\n",
    "            \n",
    "            # 좌측 기각역\n",
    "            z_left = z[z <= -z_crit]\n",
    "            pdf_left = stats.norm.pdf(z_left, 0, 1)\n",
    "            fig.add_trace(go.Scatter(\n",
    "                x=np.concatenate([z_left, z_left[::-1]]),\n",
    "                y=np.concatenate([pdf_left, np.zeros(len(pdf_left))]),\n",
    "                fill='toself',\n",
    "                fillcolor='rgba(255, 0, 0, 0.3)',\n",
    "                line=dict(width=0),\n",
    "                name='기각역',\n",
    "                showlegend=True\n",
    "            ))\n",
    "            \n",
    "            # 우측 기각역\n",
    "            z_right = z[z >= z_crit]\n",
    "            pdf_right = stats.norm.pdf(z_right, 0, 1)\n",
    "            fig.add_trace(go.Scatter(\n",
    "                x=np.concatenate([z_right, z_right[::-1]]),\n",
    "                y=np.concatenate([pdf_right, np.zeros(len(pdf_right))]),\n",
    "                fill='toself',\n",
    "                fillcolor='rgba(255, 0, 0, 0.3)',\n",
    "                line=dict(width=0),\n",
    "                showlegend=False\n",
    "            ))\n",
    "        \n",
    "        # 검정통계량 표시\n",
    "        z_stat = result['z_statistic']\n",
    "        fig.add_vline(\n",
    "            x=z_stat, \n",
    "            line_dash=\"solid\", \n",
    "            line_color=\"green\" if not result['reject_null'] else \"red\",\n",
    "            line_width=3,\n",
    "            annotation_text=f'Z = {z_stat:.3f}'\n",
    "        )\n",
    "        \n",
    "        # 임계값 표시\n",
    "        if test_type == 'two-tailed':\n",
    "            for z_val in [-result['z_critical'], result['z_critical']]:\n",
    "                fig.add_vline(x=z_val, line_dash=\"dash\", line_color=\"orange\")\n",
    "        \n",
    "        # 레이아웃\n",
    "        decision = \"귀무가설 기각\" if result['reject_null'] else \"귀무가설 채택\"\n",
    "        fig.update_layout(\n",
    "            title=f'Z-검정 결과: {decision} (p = {result[\"p_value\"]:.4f})',\n",
    "            xaxis_title='Z 값',\n",
    "            yaxis_title='확률밀도',\n",
    "            template='plotly_white',\n",
    "            height=500\n",
    "        )\n",
    "        \n",
    "        return fig\n",
    "\n",
    "# Z-검정 실습 예제\n",
    "def z_test_example():\n",
    "    \"\"\"Z-검정 실습 예제: 공장 제품 품질 관리\"\"\"\n",
    "    \n",
    "    print(\"\"\"\n",
    "\n",
    "📦 사례연구: 스마트폰 배터리 수명 검사\n",
    "\n",
    "🏭 상황:\n",
    "- 스마트폰 배터리의 평균 수명은 24시간이어야 함 (품질 기준)\n",
    "- 과거 데이터로부터 표준편차는 2시간으로 알려져 있음 (σ = 2)\n",
    "- 새로운 생산 배치에서 36개 샘플을 추출하여 검사\n",
    "- 검사 결과 평균 수명이 23.2시간으로 나타남\n",
    "🤔 질문: 이 배치가 품질 기준을 만족한다고 볼 수 있을까?\n",
    "\n",
    "\"\"\")\n",
    "    \n",
    "    # 데이터 설정\n",
    "    np.random.seed(42)\n",
    "    true_mean = 23.2  # 실제 새 배치의 평균\n",
    "    population_std = 2\n",
    "    sample_size = 36\n",
    "    hypothesized_mean = 24  # 품질 기준\n",
    "    \n",
    "    # 샘플 데이터 생성 (실제 평균 23.2시간)\n",
    "    sample_data = np.random.normal(true_mean, population_std, sample_size)\n",
    "    \n",
    "    # Z-검정 수행\n",
    "    simulator = ZTestSimulator()\n",
    "    result = simulator.perform_z_test(\n",
    "        sample_data, hypothesized_mean, population_std, \n",
    "        alpha=0.05, test_type='two-tailed'\n",
    "    )\n",
    "    \n",
    "    # 결과 시각화\n",
    "    fig = simulator.visualize_z_test(result, hypothesized_mean)\n",
    "    fig.show()\n",
    "    \n",
    "    # 결과 출력\n",
    "    print(f\"\"\"\n",
    "\n",
    "📊 Z-검정 결과 분석:\n",
    "\n",
    "🎯 가설 설정:\n",
    "    H₀: μ = 24시간 (품질 기준 만족)\n",
    "    H₁: μ ≠ 24시간 (품질 기준 불만족)\n",
    "\n",
    "📈 검정 통계량:\n",
    "    표본 평균: {result['sample_mean']:.3f}시간\n",
    "    표준오차: {population_std/np.sqrt(sample_size):.3f}시간\n",
    "    Z 통계량: {result['z_statistic']:.3f}\n",
    "    p-값: {result['p_value']:.4f}\n",
    "\n",
    "🎯 임계값: ±{result['z_critical']:.3f}\n",
    "\n",
    "📋 95% 신뢰구간: [{result['ci_lower']:.3f}, {result['ci_upper']:.3f}]\n",
    "\n",
    "\n",
    "{'🚨 결론: 귀무가설을 기각합니다!' if result['reject_null'] else '✅ 결론: 귀무가설을 채택합니다!'}\n",
    "{'   → 이 배치는 품질 기준을 만족하지 않습니다.' if result['reject_null'] else '   → 이 배치는 품질 기준을 만족합니다.'}\n",
    "\n",
    "💡 해석:\n",
    "{'   - p-값이 0.05보다 작으므로 통계적으로 유의한 차이가 있습니다.' if result['reject_null'] else '   - p-값이 0.05보다 크므로 통계적으로 유의한 차이가 없습니다.'}\n",
    "{'   - 배터리 수명이 기준보다 유의하게 짧습니다.' if result['reject_null'] else '   - 배터리 수명이 기준과 유의한 차이가 없습니다.'}\n",
    "\n",
    "\"\"\")\n",
    "\n",
    "# 실습 실행\n",
    "z_test_example()"
   ]
  },
  {
   "cell_type": "markdown",
   "metadata": {},
   "source": [
    "## 🎯 5. 신뢰구간: 불확실성의 정량화\n",
    "\n",
    "신뢰구간은 **모집단 모수의 가능한 범위**를 나타내는 구간입니다.\n",
    "\n",
    "### 📏 95% 신뢰구간의 의미\n",
    "\n",
    "> 동일한 방법으로 100번의 표본을 뽑아 신뢰구간을 구한다면, 그 중 약 95개의 구간이 실제 모집단 평균 μ를 포함할 것이다.\n",
    "\n",
    "### 🔢 신뢰구간 공식 (Z-분포)\n",
    "\n",
    "$$\\bar{X} \\pm Z_{\\alpha/2} \\cdot \\frac{\\sigma}{\\sqrt{n}}$$\n",
    "\n",
    "여기서:\n",
    "- $\\bar{X}$: 표본평균\n",
    "- $Z_{\\alpha/2}$: 임계값 (예: 95% 신뢰구간이면 Z₀.₀₂₅ = 1.96)\n",
    "- $\\frac{\\sigma}{\\sqrt{n}}$: 표준오차\n",
    "\n",
    "### ⚠️ 흔한 오해\n",
    "\n",
    "❌ **잘못된 해석**: \"모집단 평균이 이 구간에 있을 확률이 95%이다\"\n",
    "\n",
    "✅ **올바른 해석**: \"이와 같은 방법으로 구한 구간들 중 95%가 모집단 평균을 포함한다\""
   ]
  },
  {
   "cell_type": "code",
   "execution_count": null,
   "metadata": {},
   "outputs": [
    {
     "data": {
      "application/vnd.jupyter.widget-view+json": {
       "model_id": "67e338b0da6249afacb0e1d305f975dc",
       "version_major": 2,
       "version_minor": 0
      },
      "text/plain": [
       "interactive(children=(FloatSlider(value=0.95, description='신뢰수준', max=0.99, min=0.8, step=0.01), IntSlider(val…"
      ]
     },
     "metadata": {},
     "output_type": "display_data"
    }
   ],
   "source": [
    "# 🎯 신뢰구간 시뮬레이션\n",
    "def confidence_interval_simulation(true_mean=50, true_std=10, sample_size=30, \n",
    "                                 confidence_level=0.95, n_samples=100):\n",
    "    \"\"\"신뢰구간의 의미를 시뮬레이션으로 보여주는 함수\"\"\"\n",
    "    \n",
    "    np.random.seed(42)\n",
    "    alpha = 1 - confidence_level\n",
    "    z_critical = stats.norm.ppf(1 - alpha/2)\n",
    "    \n",
    "    # 여러 표본에서 신뢰구간들 계산\n",
    "    sample_means = []\n",
    "    ci_lowers = []\n",
    "    ci_uppers = []\n",
    "    contains_true_mean = []\n",
    "    \n",
    "    for i in range(n_samples):\n",
    "        # 표본 추출\n",
    "        sample = np.random.normal(true_mean, true_std, sample_size)\n",
    "        sample_mean = np.mean(sample)\n",
    "        \n",
    "        # 신뢰구간 계산\n",
    "        margin_of_error = z_critical * (true_std / np.sqrt(sample_size))\n",
    "        ci_lower = sample_mean - margin_of_error\n",
    "        ci_upper = sample_mean + margin_of_error\n",
    "        \n",
    "        sample_means.append(sample_mean)\n",
    "        ci_lowers.append(ci_lower)\n",
    "        ci_uppers.append(ci_upper)\n",
    "        contains_true_mean.append(ci_lower <= true_mean <= ci_upper)\n",
    "    \n",
    "    # 결과 정리\n",
    "    coverage_rate = np.mean(contains_true_mean)\n",
    "    \n",
    "    # 시각화 - 축 범위 고정\n",
    "    fig = go.Figure()\n",
    "    \n",
    "    # 고정된 X축 범위 설정 (더 넓은 범위)\n",
    "    x_min, x_max = 20, 80\n",
    "    \n",
    "    # 신뢰구간들 그리기 - 모든 n_samples 표시하되 너무 많으면 제한\n",
    "    display_count = min(200, n_samples)  # 최대 100개까지 표시\n",
    "    \n",
    "    for i in range(display_count):\n",
    "        color = 'green' if contains_true_mean[i] else 'red'\n",
    "        \n",
    "        # 신뢰구간 선\n",
    "        fig.add_trace(go.Scatter(\n",
    "            x=[ci_lowers[i], ci_uppers[i]],\n",
    "            y=[i, i],\n",
    "            mode='lines',\n",
    "            line=dict(color=color, width=2),\n",
    "            showlegend=False\n",
    "        ))\n",
    "        \n",
    "        # 표본평균 점\n",
    "        fig.add_trace(go.Scatter(\n",
    "            x=[sample_means[i]],\n",
    "            y=[i],\n",
    "            mode='markers',\n",
    "            marker=dict(color=color, size=6),\n",
    "            showlegend=False\n",
    "        ))\n",
    "    \n",
    "    # 실제 모집단 평균 선\n",
    "    fig.add_vline(\n",
    "        x=true_mean,\n",
    "        line_dash=\"dash\",\n",
    "        line_color=\"blue\",\n",
    "        line_width=3,\n",
    "        annotation_text=f'실제 평균 = {true_mean}'\n",
    "    )\n",
    "    \n",
    "    # 범례용 더미 트레이스\n",
    "    fig.add_trace(go.Scatter(\n",
    "        x=[None], y=[None],\n",
    "        mode='lines',\n",
    "        line=dict(color='green', width=2),\n",
    "        name=f'포함 구간 ({np.sum(contains_true_mean[:display_count])}/{display_count})'\n",
    "    ))\n",
    "    \n",
    "    fig.add_trace(go.Scatter(\n",
    "        x=[None], y=[None],\n",
    "        mode='lines',\n",
    "        line=dict(color='red', width=2),\n",
    "        name=f'미포함 구간 ({display_count - np.sum(contains_true_mean[:display_count])}/{display_count})'\n",
    "    ))\n",
    "    \n",
    "    # 레이아웃 - Y축 범위를 동적으로 조정\n",
    "    fig.update_layout(\n",
    "        title=f'{confidence_level*100:.0f}% 신뢰구간 시뮬레이션 (커버리지: {coverage_rate:.1%}, 표시: {display_count}/{n_samples})',\n",
    "        xaxis_title='값',\n",
    "        yaxis_title='표본 번호',\n",
    "        template='plotly_white',\n",
    "        height=max(400, min(800, display_count * 8)),  # 동적 높이 조정\n",
    "        yaxis=dict(autorange=\"reversed\", range=[-2, display_count+2]),  # Y축을 display_count에 맞춤\n",
    "        xaxis=dict(range=[x_min, x_max])  # X축 고정\n",
    "    )\n",
    "    \n",
    "    return fig, coverage_rate, sample_means, ci_lowers, ci_uppers\n",
    "\n",
    "# 인터랙티브 신뢰구간 시뮬레이션\n",
    "@interact(\n",
    "    confidence_level=FloatSlider(min=0.8, max=0.99, step=0.01, value=0.95, \n",
    "                                description='신뢰수준'),\n",
    "    sample_size=IntSlider(min=10, max=100, step=10, value=30, \n",
    "                         description='표본크기'),\n",
    "    n_samples=IntSlider(min=50, max=200, step=50, value=100, \n",
    "                       description='시뮬레이션 횟수')\n",
    ")\n",
    "def interactive_ci_simulation(confidence_level, sample_size, n_samples):\n",
    "    # 기존 출력 클리어\n",
    "    from IPython.display import clear_output\n",
    "    clear_output(wait=True)\n",
    "    \n",
    "    fig, coverage_rate, _, _, _ = confidence_interval_simulation(\n",
    "        true_mean=50, true_std=10, sample_size=sample_size, \n",
    "        confidence_level=confidence_level, n_samples=n_samples\n",
    "    )\n",
    "    \n",
    "    expected_coverage = confidence_level\n",
    "    difference = abs(coverage_rate - expected_coverage)\n",
    "    \n",
    "    print(f\"\"\"\n",
    "\n",
    "📊 신뢰구간 분석 결과:\n",
    "\n",
    "🎯 이론적 커버리지: {expected_coverage:.1%}\n",
    "📈 실제 커버리지: {coverage_rate:.1%}\n",
    "📐 차이: {difference:.1%}\n",
    "\n",
    "💡 해석:\n",
    "{f'✅ 이론과 잘 일치합니다!' if difference < 0.05 else '⚠️ 시뮬레이션 횟수를 늘려보세요.'}\n",
    "\n",
    "🔍 신뢰구간의 의미:\n",
    "- 초록선: 실제 평균을 포함하는 신뢰구간\n",
    "- 빨간선: 실제 평균을 포함하지 않는 신뢰구간\n",
    "- 파란 점선: 실제 모집단 평균 (μ = 50)\n",
    "\n",
    "ℹ️ 참고: 성능상 최대 100개의 신뢰구간만 시각화됩니다.\n",
    "\n",
    "\"\"\")\n",
    "    \n",
    "    fig.show()\n",
    "    \n",
    "    return None"
   ]
  },
  {
   "cell_type": "markdown",
   "metadata": {},
   "source": [
    "## 🤔 6. 완벽한 세상의 한계\n",
    "\n",
    "지금까지 우리는 **완벽한 세상**에서의 통계 검정을 살펴봤습니다. 하지만 현실은 어떨까요?\n",
    "\n",
    "### ❓ 생각해보기\n",
    "\n",
    "다음 상황들을 생각해보세요:\n",
    "\n",
    "1. **신제품 개발**: 새로운 약물의 효과를 테스트할 때, 과거 데이터가 없어서 σ를 모른다면?\n",
    "\n",
    "2. **품질 관리**: 소규모 공장에서 매일 3-4개의 제품만 검사할 수 있다면?\n",
    "\n",
    "3. **A/B 테스트**: 웹사이트 방문자 중 일부만 새 버전을 테스트할 때, 표본이 작다면?\n",
    "\n",
    "### 🚨 Z-검정의 현실적 한계\n",
    "\n",
    "1. **σ를 아는 경우가 드물다** 😱\n",
    "   - 실제로는 표본표준편차 s를 사용해야 함\n",
    "   - s는 σ의 추정값이므로 불확실성이 추가됨\n",
    "\n",
    "2. **작은 표본 크기** 📏\n",
    "   - 중심극한정리가 잘 작동하지 않음 (n < 30)\n",
    "   - 표본분포가 정규분포에서 벗어남\n",
    "\n",
    "3. **추정의 불확실성** 🎲\n",
    "   - σ를 s로 대체하면 추가적인 변동성 발생\n",
    "   - Z-분포보다 \"더 넓은\" 분포가 필요함\n",
    "\n",
    "### 💡 다음 이야기 예고\n",
    "\n",
    "> **1908년 더블린**, 기네스 맥주 공장의 한 젊은 통계학자가 이 문제로 고민하고 있었습니다. 그의 이름은 **William Gosset**... 그리고 그는 곧 통계학 역사를 바꿀 발견을 하게 됩니다! 🍺✨\n",
    "\n",
    "다음 노트북에서는 이 흥미진진한 이야기와 함께 **t-분포의 탄생**을 다뤄보겠습니다!"
   ]
  },
  {
   "cell_type": "code",
   "execution_count": null,
   "metadata": {},
   "outputs": [],
   "source": "# 🎭 Z-검정 vs 실제 상황 비교 시뮬레이션\ndef compare_z_vs_reality(true_mean=100, true_std=15, sample_sizes=[5, 10, 30, 100]):\n    \"\"\"Z-검정(σ 알려짐)과 실제 상황(σ 모름) 비교\"\"\"\n    \n    np.random.seed(42)\n    \n    fig = make_subplots(\n        rows=2, cols=2,\n        subplot_titles=[f'n = {n}' for n in sample_sizes],\n        specs=[[{'type': 'histogram'}, {'type': 'histogram'}],\n               [{'type': 'histogram'}, {'type': 'histogram'}]]\n    )\n    \n    results = {}\n    \n    # 고정된 축 범위 설정\n    x_min, x_max = -4, 4\n    y_min, y_max = 0, 250  # 히스토그램 최대 높이\n    \n    for idx, n in enumerate(sample_sizes):\n        row = idx // 2 + 1\n        col = idx % 2 + 1\n        \n        # 1000번의 표본 추출\n        z_statistics = []\n        t_statistics = []\n        \n        for _ in range(1000):\n            sample = np.random.normal(true_mean, true_std, n)\n            sample_mean = np.mean(sample)\n            sample_std = np.std(sample, ddof=1)  # 표본표준편차\n            \n            # Z-통계량 (σ 알려진 경우 - 완벽한 세상)\n            z_stat = (sample_mean - true_mean) / (true_std / np.sqrt(n))\n            z_statistics.append(z_stat)\n            \n            # t-통계량 (σ 모르는 경우 - 현실 세상)\n            t_stat = (sample_mean - true_mean) / (sample_std / np.sqrt(n))\n            t_statistics.append(t_stat)\n        \n        # Z-통계량 히스토그램 (고정된 범위로)\n        fig.add_trace(\n            go.Histogram(\n                x=z_statistics,\n                nbinsx=50,\n                name=f'Z-통계량 (n={n})',\n                opacity=0.7,\n                marker_color='blue',\n                legendgroup=f'group{n}',\n                xbins=dict(start=x_min, end=x_max, size=0.16)  # 고정된 bin 범위\n            ),\n            row=row, col=col\n        )\n        \n        # t-통계량 히스토그램 (고정된 범위로)\n        fig.add_trace(\n            go.Histogram(\n                x=t_statistics,\n                nbinsx=50,\n                name=f't-통계량 (n={n})',\n                opacity=0.5,\n                marker_color='red',\n                legendgroup=f'group{n}',\n                xbins=dict(start=x_min, end=x_max, size=0.16)  # 고정된 bin 범위\n            ),\n            row=row, col=col\n        )\n        \n        # 이론적 분포 곡선 추가\n        x_range = np.linspace(x_min, x_max, 100)\n        \n        # 표준정규분포 (Z) - 스케일링 조정\n        y_norm = stats.norm.pdf(x_range, 0, 1) * 40  # 고정된 스케일링\n        fig.add_trace(\n            go.Scatter(\n                x=x_range,\n                y=y_norm,\n                mode='lines',\n                name=f'표준정규분포 (n={n})',\n                line=dict(color='blue', width=3),\n                legendgroup=f'group{n}'\n            ),\n            row=row, col=col\n        )\n        \n        # t-분포 - 스케일링 조정\n        y_t = stats.t.pdf(x_range, n-1) * 40  # 고정된 스케일링, 자유도 n-1\n        fig.add_trace(\n            go.Scatter(\n                x=x_range,\n                y=y_t,\n                mode='lines',\n                name=f't-분포 (df={n-1})',\n                line=dict(color='red', width=3, dash='dash'),\n                legendgroup=f'group{n}'\n            ),\n            row=row, col=col\n        )\n        \n        # 통계 저장\n        results[n] = {\n            'z_mean': np.mean(z_statistics),\n            'z_std': np.std(z_statistics),\n            't_mean': np.mean(t_statistics),\n            't_std': np.std(t_statistics)\n        }\n    \n    # 레이아웃 업데이트 - 모든 서브플롯의 축 범위 고정\n    fig.update_layout(\n        title='완벽한 세상 vs 현실: σ를 알 때와 모를 때의 차이',\n        height=800,\n        showlegend=True\n    )\n    \n    # 모든 서브플롯의 축 범위 고정\n    for i in range(1, 3):  # rows\n        for j in range(1, 3):  # cols\n            fig.update_xaxes(range=[x_min, x_max], row=i, col=j)\n            fig.update_yaxes(range=[y_min, y_max], row=i, col=j)\n    \n    return fig, results\n\n# 비교 시뮬레이션 실행\nfig, results = compare_z_vs_reality()\nfig.show()\n\nprint(\"이 시뮬레이션이 보여주는 것:\")\nprint()\nprint(\"두 가지 상황 비교:\")\nprint(\"완벽한 세상 (Z-통계량):\")\nprint(\"- 모집단 표준편차 σ = 15를 정확히 알고 있음\")\nprint(\"- Z = (표본평균 - 모집단평균) / (σ / √n)\")\nprint(\"- 파란색 히스토그램과 파란색 실선 (표준정규분포)\")\nprint()\nprint(\"현실 세상 (t-통계량):\")\nprint(\"- 모집단 표준편차 σ를 모르기 때문에 표본표준편차 s로 대체\")\nprint(\"- t = (표본평균 - 모집단평균) / (s / √n)  ← 여기서 s는 매번 다름!\")\nprint(\"- 빨간색 히스토그램과 빨간색 점선 (t-분포)\")\nprint()\nprint(\"왜 t-통계량이 더 퍼져있을까?\")\nprint(\"핵심 아이디어: σ를 모르니까 s로 추정해야 하는데, s는 추정값이라 불확실함이 추가됨!\")\nprint()\nprint(\"수치 분석 결과:\")\n\nfor n in [5, 10, 30, 100]:\n    r = results[n]\n    print(f\"표본크기 n = {n}:\")\n    print(f\"   Z-통계량 (완벽한 세상): 평균 = {r['z_mean']:.3f}, 표준편차 = {r['z_std']:.3f}\")\n    print(f\"   t-통계량 (현실 세상):   평균 = {r['t_mean']:.3f}, 표준편차 = {r['t_std']:.3f}\")\n    print(f\"   차이: {abs(r['t_std'] - r['z_std']):.3f} {'← 거의 없음' if abs(r['t_std'] - r['z_std']) < 0.1 else '← 상당한 차이!'}\")\n    print()\n\nprint(\"핵심 통찰:\")\nprint(\"표본크기가 작을 때 (n=5, 10):\")\nprint(\"- t-통계량이 Z-통계량보다 훨씬 더 퍼져있음 (표준편차가 큼)\")\nprint(\"- 왜? s가 σ의 부정확한 추정이기 때문\")\nprint(\"- 적은 데이터로는 σ를 잘 추정할 수 없음\")\nprint()\nprint(\"표본크기가 클 때 (n=100):\")\nprint(\"- t-통계량과 Z-통계량이 거의 비슷해짐\")\nprint(\"- 왜? 큰 표본에서는 s가 σ에 매우 가까워짐 (대수의 법칙)\")\nprint(\"- s ≈ σ이므로 t ≈ Z\")\nprint()\nprint(\"William Gosset의 발견 (1908년):\")\nprint(\"σ를 모를 때는 Z-분포 대신 더 넓은 분포(t-분포)를 써야 한다!\")\nprint()\nprint(\"실제 문제:\")\nprint(\"- 기네스 맥주 공장에서 품질 검사를 할 때\")\nprint(\"- 매일 4-5개 맥주만 검사 가능 (작은 표본!)\")\nprint(\"- σ를 정확히 알 수 없음\")\nprint(\"- Z-검정을 쓰면 잘못된 결론을 내릴 위험\")\nprint()\nprint(\"그래프에서 관찰:\")\nprint(\"- n=5일 때: 빨간색(t-분포)이 파란색(Z-분포)보다 훨씬 넓음\")\nprint(\"- n=100일 때: 빨간색과 파란색이 거의 겹침\")\nprint()\nprint(\"결론:\")\nprint(\"표본크기가 작고 σ를 모르는 현실적 상황에서는 t-분포를 사용해야 올바른 통계적 추론이 가능합니다!\")\nprint()\nprint(\"다음 노트북에서 계속...\")\nprint(\"→ Gosset이 어떻게 t-분포를 유도했는지 직접 경험해보기!\")"
  },
  {
   "cell_type": "markdown",
   "metadata": {},
   "source": "## 📚 핵심 개념 요약\n\n### ✨ 오늘 배운 것들\n\n1. **정규분포**: 자연의 가장 아름다운 분포, 68-95-99.7 규칙\n\n2. **중심극한정리**: 어떤 분포든 표본평균들은 정규분포에 수렴\n\n3. **Z-분포**: 평균 0, 표준편차 1인 표준정규분포\n\n4. **Z-검정**: σ를 알 때 사용하는 완벽한 가설검정\n\n5. **신뢰구간**: 모수의 가능한 범위를 나타내는 구간\n\n6. **현실의 한계**: σ를 모르는 상황의 문제점\n\n### 🔑 핵심 공식들\n\n- **표준화**: $Z = \\frac{X - \\mu}{\\sigma}$\n- **표본평균 분포**: $\\bar{X} \\sim N(\\mu, \\frac{\\sigma^2}{n})$\n- **Z-검정 통계량**: $Z = \\frac{\\bar{X} - \\mu_0}{\\frac{\\sigma}{\\sqrt{n}}}$\n- **신뢰구간**: $\\bar{X} \\pm Z_{\\alpha/2} \\cdot \\frac{\\sigma}{\\sqrt{n}}$\n\n---\n\n## 🧩 연습 문제\n\n### 문제 1: 기본 개념\n정규분포 N(100, 15²)에서 표본 25개를 뽑았을 때, 표본평균의 분포는?\n\n**필요한 공식**: 표본평균의 분포는 $\\bar{X} \\sim N(\\mu, \\frac{\\sigma^2}{n})$\n\n### 문제 2: Z-검정 \n어떤 공장의 제품 무게는 평균 500g, 표준편차 20g인 정규분포를 따른다고 알려져 있습니다. 새로운 생산 방식으로 만든 제품 36개의 평균 무게가 495g이었습니다. 이 차이가 통계적으로 유의한가요? (α = 0.05)\n\n**필요한 정보**:\n- Z-검정 통계량: $Z = \\frac{\\bar{X} - \\mu_0}{\\frac{\\sigma}{\\sqrt{n}}}$\n- α = 0.05 양측검정 임계값: ±1.96\n- 판정기준: |Z| > 1.96이면 귀무가설 기각\n\n### 문제 3: 신뢰구간\n위 문제에서 새로운 생산 방식의 평균 무게에 대한 95% 신뢰구간을 구하세요.\n\n**필요한 정보**:\n- 95% 신뢰구간 공식: $\\bar{X} \\pm Z_{0.025} \\cdot \\frac{\\sigma}{\\sqrt{n}}$\n- Z₀.₀₂₅ = 1.96 (95% 신뢰구간 임계값)\n- 표본평균: x̄ = 495g, σ = 20g, n = 36\n- 해석: 신뢰구간에 가설값(500)이 포함되면 귀무가설과 일치\n\n---\n\n## 🚀 다음 여행지: \"기네스의 비밀\"\n\n다음 노트북에서는 1908년 더블린로 시간여행을 떠납니다! 🍺\n\n- William Gosset의 고민\n- 작은 표본의 비밀\n- Student's t-분포의 탄생\n- 몬테카를로로 직접 유도해보기\n\n**다음 노트북**: `02_birth_of_t_distribution.ipynb`"
  }
 ],
 "metadata": {
  "kernelspec": {
   "display_name": "Python 3 (ipykernel)",
   "language": "python",
   "name": "python3"
  },
  "language_info": {
   "codemirror_mode": {
    "name": "ipython",
    "version": 3
   },
   "file_extension": ".py",
   "mimetype": "text/x-python",
   "name": "python",
   "nbconvert_exporter": "python",
   "pygments_lexer": "ipython3",
   "version": "3.12.3"
  }
 },
 "nbformat": 4,
 "nbformat_minor": 4
}